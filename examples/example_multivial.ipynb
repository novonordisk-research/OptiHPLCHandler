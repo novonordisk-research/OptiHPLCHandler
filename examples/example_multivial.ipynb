{
 "cells": [
  {
   "cell_type": "markdown",
   "id": "9c1a6a97-5e0d-4dcc-9916-1ffc8cbbc8f4",
   "metadata": {},
   "source": [
    "# Example: Varying Sample Positions"
   ]
  },
  {
   "cell_type": "markdown",
   "id": "ade68de7-6bd2-4535-95e4-47884896525e",
   "metadata": {},
   "source": [
    "Here outlines a basic sample set method where the sample position is incremented depending on the defined plate.\n",
    "* Plate sample position logic defined (for ANSI-48Vial2mLHolder) \n",
    "* Samples in sample set defined in for loop, varying the sample position"
   ]
  },
  {
   "cell_type": "markdown",
   "id": "45852c23-0d8d-4a4a-92ac-56b291e16832",
   "metadata": {},
   "source": [
    "# Import"
   ]
  },
  {
   "cell_type": "code",
   "execution_count": 1,
   "id": "c1ea2bce-bcaf-406e-bd76-1ed5f158f4fa",
   "metadata": {},
   "outputs": [],
   "source": [
    "from OptiHPLCHandler import EmpowerHandler\n",
    "\n",
    "handler = EmpowerHandler(\n",
    "    project=\"WebAPI_test\", \n",
    "    address=\"XXXXXXXX\", \n",
    "    allow_login_without_context_manager=False)"
   ]
  },
  {
   "cell_type": "markdown",
   "id": "c028a3a5-b178-4437-953b-a5750c6b4f26",
   "metadata": {},
   "source": [
    "# Configuration of methods, nodes, systems and plates"
   ]
  },
  {
   "cell_type": "markdown",
   "id": "d19c666b-2b4a-41c9-8ba8-1ea65df3c2df",
   "metadata": {},
   "source": [
    "Using get attributes to: obtain method from list_method, node from list_nodes, system from list_systems within defined node and define the plate type from list_plates."
   ]
  },
  {
   "cell_type": "code",
   "execution_count": 2,
   "id": "a920b758-1aaa-4015-a82c-321a7ede0f84",
   "metadata": {},
   "outputs": [
    {
     "name": "stderr",
     "output_type": "stream",
     "text": [
      "C:\\Users\\slcb\\Desktop\\Programming\\OptiHPLCHandler\\src\\OptiHPLCHandler\\empower_api_core.py:172: UserWarning: The password will be sent in plain text.\n",
      "  warnings.warn(\"The password will be sent in plain text.\")\n"
     ]
    },
    {
     "name": "stdout",
     "output_type": "stream",
     "text": [
      "Method Set Name: TEST_Fus4\n",
      "Node: Epdkhqr01045\n",
      "System Configuration Name: 457_UPLC_10\n",
      "Plate: ANSI-48Vial2mLHolder\n"
     ]
    }
   ],
   "source": [
    "with handler:\n",
    "    list_methods = handler.GetMethodList()\n",
    "    method = list_methods[-1]  # most recent method\n",
    "    print(f\"Method Set Name: {method}\")\n",
    "\n",
    "    list_nodes = handler.GetNodeNames()\n",
    "    node = list_nodes[40]\n",
    "    print(f\"Node: {node}\")\n",
    "\n",
    "    list_systems = handler.GetSystemNames(node=node)\n",
    "    system = list_systems[0]\n",
    "    print(f\"System Configuration Name: {system}\")\n",
    "\n",
    "    list_plates = handler.GetPlateTypeNames()[:6]\n",
    "    plate = list_plates[5]\n",
    "    print(f\"Plate: {plate}\")\n",
    "    plates = {\"1\": plate, \"2\": plate}"
   ]
  },
  {
   "cell_type": "markdown",
   "id": "8681ceb9-def5-4ed8-8c23-ee941e3f1b2c",
   "metadata": {},
   "source": [
    "Defining sample position counting logic and varying sample position in sample_list"
   ]
  },
  {
   "cell_type": "code",
   "execution_count": 3,
   "id": "c8cd7f19-0e87-4585-b474-e7cbd5816711",
   "metadata": {},
   "outputs": [
    {
     "data": {
      "text/plain": [
       "[{'Method': 'TEST_Fus4',\n",
       "  'SamplePos': '1:A,1',\n",
       "  'SampleName': 'Sample',\n",
       "  'InjectionVolume': 3},\n",
       " {'Method': 'TEST_Fus4',\n",
       "  'SamplePos': '1:A,2',\n",
       "  'SampleName': 'Sample',\n",
       "  'InjectionVolume': 3},\n",
       " {'Method': 'TEST_Fus4',\n",
       "  'SamplePos': '1:A,3',\n",
       "  'SampleName': 'Sample',\n",
       "  'InjectionVolume': 3}]"
      ]
     },
     "execution_count": 3,
     "metadata": {},
     "output_type": "execute_result"
    }
   ],
   "source": [
    "# Varying vial position\n",
    "\n",
    "sample_set_method_name = \"test_samplesetmethod2\"\n",
    "\n",
    "platelist = [1, 2]\n",
    "rowlist = [i + 1 for i in range(8)]  # rows defined numerically, counting from 1 to 8.\n",
    "columnlist = [chr(i + 65) for i in range(6)]\n",
    "# columns defined alphabetically. chr(65)=A, thus list comprehension counts from A onwards through the number of columns (6).\n",
    "viallist = []\n",
    "\n",
    "for plate in platelist:\n",
    "    for column in columnlist:\n",
    "        for row in rowlist:\n",
    "            viallist.append(f\"{plate}:{column},{row}\")\n",
    "\n",
    "\n",
    "sample_list = []\n",
    "number_of_samples = 3\n",
    "\n",
    "\n",
    "for i in range(number_of_samples):\n",
    "    sample_list.append(\n",
    "        {\n",
    "            \"Method\": method,\n",
    "            \"SamplePos\": viallist[i],\n",
    "            \"SampleName\": f\"Sample\",\n",
    "            \"InjectionVolume\": 3,\n",
    "        },\n",
    "    )\n",
    "\n",
    "sample_list"
   ]
  },
  {
   "cell_type": "markdown",
   "id": "65b3ef4c-50f0-4a2f-95b7-1b68394cb609",
   "metadata": {},
   "source": [
    "Post the experiment sample set method and run it"
   ]
  },
  {
   "cell_type": "code",
   "execution_count": 4,
   "id": "b970cdce-719f-4781-aaec-93ab69f665ed",
   "metadata": {},
   "outputs": [],
   "source": [
    "with handler:\n",
    "    handler.PostExperiment(\n",
    "        sample_set_method_name=sample_set_method_name,\n",
    "        sample_list=sample_list,\n",
    "        plates=plates,\n",
    "        audit_trail_message=None,\n",
    "    )\n",
    "    handler.RunExperiment(\n",
    "        sample_set_method=sample_set_method_name,\n",
    "        sample_set_name=sample_set_method_name,\n",
    "        system=system,\n",
    "        node=node,\n",
    "    )"
   ]
  }
 ],
 "metadata": {
  "kernelspec": {
   "display_name": "Python 3 (ipykernel)",
   "language": "python",
   "name": "python3"
  },
  "language_info": {
   "codemirror_mode": {
    "name": "ipython",
    "version": 3
   },
   "file_extension": ".py",
   "mimetype": "text/x-python",
   "name": "python",
   "nbconvert_exporter": "python",
   "pygments_lexer": "ipython3",
   "version": "3.9.1"
  }
 },
 "nbformat": 4,
 "nbformat_minor": 5
}
