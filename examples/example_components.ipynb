{
 "cells": [
  {
   "cell_type": "markdown",
   "metadata": {},
   "source": [
    "# Components\n",
    "\n",
    "One way to define concentrations in standards in Empower is to use the components field. Doing this with OptiHPLCHandler is done in the same way as you would define a custom field in the sampleset method. The component for each standard is a dict, where the names of the standard is the keys, and the concentrations are the values."
   ]
  },
  {
   "cell_type": "code",
   "execution_count": 1,
   "metadata": {},
   "outputs": [],
   "source": [
    "import os\n",
    "import pprint\n",
    "from dotenv import load_dotenv\n",
    "\n",
    "# get api address from .env file\n",
    "load_dotenv(\"../.env_vars\")\n",
    "EMPOWER_API_ADDRESS = os.getenv(\"EMPOWER_API_ADDRESS_PRD\")"
   ]
  },
  {
   "cell_type": "code",
   "execution_count": 3,
   "metadata": {},
   "outputs": [
    {
     "name": "stdout",
     "output_type": "stream",
     "text": [
      "[ { 'Components': {'Standard compound 1': 1.2, 'standard compound 2': 1.1},\n",
      "    'Function': {'member': 'Inject Standards'},\n",
      "    'InjectionVolume': 1,\n",
      "    'Method': 'test_method',\n",
      "    'SampleName': 'std_1',\n",
      "    'SamplePos': '1:A,1'},\n",
      "  { 'Components': {'Standard compound 1': 2.1, 'standard compound 2': 2.2},\n",
      "    'Function': {'member': 'Inject Standards'},\n",
      "    'InjectionVolume': 1,\n",
      "    'Method': 'test_method',\n",
      "    'SampleName': 'std_2',\n",
      "    'SamplePos': '1:A,2'},\n",
      "  { 'Components': {'Standard compound 1': 5.1, 'standard compound 2': 5.2},\n",
      "    'Function': {'member': 'Inject Standards'},\n",
      "    'InjectionVolume': 1,\n",
      "    'Method': 'test_method',\n",
      "    'SampleName': 'std_3',\n",
      "    'SamplePos': '1:A,3'}]\n"
     ]
    }
   ],
   "source": [
    "from OptiHPLCHandler import EmpowerHandler\n",
    "\n",
    "handler = EmpowerHandler(\n",
    "    project=\"WebAPI_test\",\n",
    "    address=EMPOWER_API_ADDRESS,\n",
    ")\n",
    "handler.connection.default_post_timeout = 240\n",
    "std_1_dict = {\"Standard compound 1\": 1.2, \"Standard compound 2\": 1.1}\n",
    "std_2_dict = {\"Standard compound 1\": 2.1, \"Standard compound 2\": 2.2}\n",
    "std_3_dict = {\"Standard compound 1\": 5.1, \"Standard compound 2\": 5.2}\n",
    "std_list = [{\n",
    "    \"name\" : \"std_1\",\n",
    "    \"std_dict\" : std_1_dict,\n",
    "    \"vial\" : \"1:A,1\"\n",
    "},\n",
    "{\n",
    "    \"name\" : \"std_2\",\n",
    "    \"std_dict\" : std_2_dict,\n",
    "    \"vial\" : \"1:A,2\"\n",
    "},\n",
    "{\n",
    "    \"name\" : \"std_3\",\n",
    "    \"std_dict\" : std_3_dict,\n",
    "    \"vial\" : \"1:A,3\"\n",
    "}]\n",
    "sample_set_lines = []\n",
    "for std in std_list:\n",
    "    sample_set_lines.append({\n",
    "        \"Function\": {\"member\": \"Inject Standards\"},\n",
    "        \"Method\": \"test_method\",\n",
    "        \"SamplePos\": std[\"vial\"],\n",
    "        \"SampleName\": std[\"name\"],\n",
    "        \"InjectionVolume\": 1,\n",
    "        \"Components\": std[\"std_dict\"],\n",
    "    })\n",
    "pp = pprint.PrettyPrinter(indent=2)\n",
    "pp.pprint(sample_set_lines)\n",
    "with handler:\n",
    "    handler.PostExperiment(\n",
    "        sample_list=sample_set_lines,\n",
    "        sample_set_method_name=\"component_test_method\",\n",
    "        plates={}\n",
    ")"
   ]
  }
 ],
 "metadata": {
  "kernelspec": {
   "display_name": ".env",
   "language": "python",
   "name": "python3"
  },
  "language_info": {
   "codemirror_mode": {
    "name": "ipython",
    "version": 3
   },
   "file_extension": ".py",
   "mimetype": "text/x-python",
   "name": "python",
   "nbconvert_exporter": "python",
   "pygments_lexer": "ipython3",
   "version": "3.9.1"
  }
 },
 "nbformat": 4,
 "nbformat_minor": 2
}
