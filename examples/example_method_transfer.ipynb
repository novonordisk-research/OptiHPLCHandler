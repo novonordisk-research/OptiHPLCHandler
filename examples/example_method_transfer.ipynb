{
 "cells": [
  {
   "cell_type": "code",
   "execution_count": 23,
   "metadata": {},
   "outputs": [],
   "source": [
    "import os\n",
    "from dotenv import load_dotenv\n",
    "import warnings\n",
    "\n",
    "warnings.filterwarnings(\"ignore\")  # Required to suppress warnings from requests\n",
    "\n",
    "# get api address from .env file\n",
    "load_dotenv(\"../.env_vars\")\n",
    "EMPOWER_API_ADDRESS = os.getenv(\"EMPOWER_API_ADDRESS_PRD\")"
   ]
  },
  {
   "cell_type": "code",
   "execution_count": 24,
   "metadata": {},
   "outputs": [
    {
     "name": "stderr",
     "output_type": "stream",
     "text": [
      "c:\\Users\\slcb\\Desktop\\Programming\\OptiHPLCHandler\\.env\\lib\\site-packages\\urllib3\\connectionpool.py:1095: InsecureRequestWarning: Unverified HTTPS request is being made to host ***REMOVED***. Adding certificate verification is strongly advised. See: https://urllib3.readthedocs.io/en/latest/advanced-usage.html#tls-warnings\n",
      "  warnings.warn(\n"
     ]
    }
   ],
   "source": [
    "from OptiHPLCHandler import EmpowerHandler\n",
    "\n",
    "\n",
    "handler = EmpowerHandler(\n",
    "    project=\"WebAPI_test\",\n",
    "    address=EMPOWER_API_ADDRESS,\n",
    "    allow_login_without_context_manager=True,\n",
    ")\n",
    "\n",
    "handler.connection.verify = \"../ca-certificates.crt\"\n",
    "\n",
    "# Get methods with BSM and QSM pumps as well as PDA and TUV detectors\n",
    "with handler:\n",
    "    bsm_pda_method = handler.GetInstrumentMethod(\"@BSM_PDA_Template\")\n",
    "    qsm_pda_method = handler.GetInstrumentMethod(\"@QSM_PDA_Template\")\n",
    "    bsm_tuv_method = handler.GetInstrumentMethod(\"@BSM_TUV_Template\")\n",
    "    qsm_pda_flr_method = handler.GetInstrumentMethod(\"@QSM_PDA_FLR_Template\")\n",
    "    # bsm_pda_rid_method = handler.GetInstrumentMethod(\"@BSM_PDA_RI_Template\") # not implemented\n",
    "    bsm_tuv_single_method = handler.GetInstrumentMethod(\"@BSM_TUV_Single_Template\")\n",
    "    bsm_tuv_dual_method = handler.GetInstrumentMethod(\"@BSM_TUV_Dual_Template\")\n",
    "    bsm_tuv_off_method = handler.GetInstrumentMethod(\"@BSM_TUV_Off_Template\")\n",
    "    bsm_pda_on_method = handler.GetInstrumentMethod(\"@BSM_PDA_ON_Template\")"
   ]
  },
  {
   "cell_type": "markdown",
   "metadata": {},
   "source": [
    "# Convert Gradient\n",
    "\n",
    "Handlers the interconversion between BSM and QSM methods for both gradient and isocratic flow"
   ]
  },
  {
   "cell_type": "code",
   "execution_count": 25,
   "metadata": {},
   "outputs": [],
   "source": [
    "# Change Gradient Table\n",
    "qsm_gradient_table_to_change = [\n",
    "    {\n",
    "        \"Time\": \"Initial\",\n",
    "        \"Flow\": \"0.600\",\n",
    "        \"CompositionA\": \"90.0\",\n",
    "        \"CompositionB\": \"10.0\",\n",
    "        \"CompositionC\": \"0.0\",\n",
    "        \"CompositionD\": \"0.0\",\n",
    "        \"Curve\": \"Initial\",\n",
    "    },\n",
    "    {\n",
    "        \"Time\": \"1.00\",\n",
    "        \"Flow\": \"0.600\",\n",
    "        \"CompositionA\": \"10.0\",\n",
    "        \"CompositionB\": \"90.0\",\n",
    "        \"CompositionC\": \"0.0\",\n",
    "        \"CompositionD\": \"0.0\",\n",
    "        \"Curve\": \"6\",\n",
    "    },\n",
    "]\n",
    "\n",
    "new_bsm_gradient_table = [\n",
    "    {\n",
    "        \"Time\": \"Initial\",\n",
    "        \"Flow\": \"0.600\",\n",
    "        \"CompositionA\": \"80.0\",\n",
    "        \"CompositionB\": \"20.0\",\n",
    "        \"Curve\": \"Initial\",\n",
    "    },\n",
    "    {\n",
    "        \"Time\": \"1.00\",\n",
    "        \"Flow\": \"0.600\",\n",
    "        \"CompositionA\": \"20.0\",\n",
    "        \"CompositionB\": \"80.0\",\n",
    "        \"Curve\": \"6\",\n",
    "    },\n",
    "]\n",
    "\n",
    "old_bsm_iso_gradient_table = [\n",
    "    {\n",
    "        \"Time\": \"Initial\",\n",
    "        \"Flow\": \"0.600\",\n",
    "        \"CompositionA\": \"50.0\",\n",
    "        \"CompositionB\": \"50.0\",\n",
    "        \"Curve\": \"Initial\",\n",
    "    },\n",
    "    {\n",
    "        \"Time\": \"1.00\",\n",
    "        \"Flow\": \"0.600\",\n",
    "        \"CompositionA\": \"50.0\",\n",
    "        \"CompositionB\": \"50.0\",\n",
    "        \"Curve\": \"6\",\n",
    "    },\n",
    "]"
   ]
  },
  {
   "cell_type": "code",
   "execution_count": 26,
   "metadata": {},
   "outputs": [],
   "source": [
    "from OptiHPLCHandler.applications.method_converter.method_converter import (\n",
    "    change_gradient_table,\n",
    ")"
   ]
  },
  {
   "cell_type": "code",
   "execution_count": 27,
   "metadata": {},
   "outputs": [
    {
     "data": {
      "text/plain": [
       "[{'CompositionA': '80.0',\n",
       "  'CompositionB': '20.0',\n",
       "  'Time': 'Initial',\n",
       "  'Flow': '0.600',\n",
       "  'Curve': 'Initial',\n",
       "  'CompositionC': 0.0,\n",
       "  'CompositionD': 0.0},\n",
       " {'CompositionA': '20.0',\n",
       "  'CompositionB': '80.0',\n",
       "  'Time': '1.00',\n",
       "  'Flow': '0.600',\n",
       "  'Curve': '6',\n",
       "  'CompositionC': 0.0,\n",
       "  'CompositionD': 0.0}]"
      ]
     },
     "execution_count": 27,
     "metadata": {},
     "output_type": "execute_result"
    }
   ],
   "source": [
    "# Changes current QSM gradient table to new gradient table from a BSM method\n",
    "new_gradient_table = change_gradient_table(\n",
    "    new_bsm_gradient_table, qsm_gradient_table_to_change\n",
    ")\n",
    "new_gradient_table"
   ]
  },
  {
   "cell_type": "code",
   "execution_count": 28,
   "metadata": {},
   "outputs": [
    {
     "data": {
      "text/plain": [
       "[{'CompositionA': '50.0',\n",
       "  'CompositionB': '50.0',\n",
       "  'CompositionC': '0.0',\n",
       "  'CompositionD': '0.0',\n",
       "  'Time': 'Initial',\n",
       "  'Flow': '0.600',\n",
       "  'Curve': 'Initial'},\n",
       " {'CompositionA': '50.0',\n",
       "  'CompositionB': '50.0',\n",
       "  'CompositionC': '0.0',\n",
       "  'CompositionD': '0.0',\n",
       "  'Time': '1.00',\n",
       "  'Flow': '0.600',\n",
       "  'Curve': '6'}]"
      ]
     },
     "execution_count": 28,
     "metadata": {},
     "output_type": "execute_result"
    }
   ],
   "source": [
    "# Changes current QSM gradient table to new gradient table from a BSM method (isocratic)\n",
    "new_gradient_table = change_gradient_table(\n",
    "    old_bsm_iso_gradient_table, qsm_gradient_table_to_change\n",
    ")\n",
    "new_gradient_table"
   ]
  },
  {
   "cell_type": "markdown",
   "metadata": {},
   "source": [
    "# Convert Between Detector Types\n",
    "## Changing things on the instrument method level"
   ]
  },
  {
   "cell_type": "markdown",
   "metadata": {},
   "source": [
    "There are two ways of changing between detector types.\n",
    "1. Using channels attribute"
   ]
  },
  {
   "cell_type": "code",
   "execution_count": 31,
   "metadata": {},
   "outputs": [
    {
     "data": {
      "text/plain": [
       "[PDAChannel(wavelength1='222', wavelength2='498', resolution='Resolution_48', datamode='DataModeAbsorbance_0', ratio2dminimumau='0.01')]"
      ]
     },
     "execution_count": 31,
     "metadata": {},
     "output_type": "execute_result"
    }
   ],
   "source": [
    "bsm_pda_method_copy = bsm_pda_method.copy()\n",
    "bsm_pda_method_copy.channels"
   ]
  },
  {
   "cell_type": "code",
   "execution_count": 36,
   "metadata": {},
   "outputs": [],
   "source": [
    "from OptiHPLCHandler.empower_detector_module_method import TUVChannel"
   ]
  },
  {
   "cell_type": "code",
   "execution_count": 35,
   "metadata": {},
   "outputs": [
    {
     "data": {
      "text/plain": [
       "[PDAChannel(wavelength1='111', wavelength2='254', resolution='Resolution_48', datamode='DataModeAbsorbance_0', ratio2dminimumau='0.01')]"
      ]
     },
     "execution_count": 35,
     "metadata": {},
     "output_type": "execute_result"
    }
   ],
   "source": [
    "tuv_method = TUVChannel(wavelength=111)\n",
    "bsm_pda_method_copy.channels = [tuv_method]\n",
    "bsm_pda_method_copy.channels"
   ]
  },
  {
   "cell_type": "markdown",
   "metadata": {},
   "source": [
    "2. Using wavelength attribute"
   ]
  },
  {
   "cell_type": "code",
   "execution_count": 37,
   "metadata": {},
   "outputs": [
    {
     "data": {
      "text/plain": [
       "['999', '888', '777']"
      ]
     },
     "execution_count": 37,
     "metadata": {},
     "output_type": "execute_result"
    }
   ],
   "source": [
    "bsm_pda_method_copy.wavelengths = [999, 888, 777]\n",
    "bsm_pda_method_copy.wavelengths"
   ]
  },
  {
   "cell_type": "code",
   "execution_count": 39,
   "metadata": {},
   "outputs": [
    {
     "data": {
      "text/plain": [
       "[PDAChannel(wavelength1='999', wavelength2='254', resolution='Resolution_48', datamode='DataModeAbsorbance_0', ratio2dminimumau='0.01'),\n",
       " PDAChannel(wavelength1='888', wavelength2='254', resolution='Resolution_48', datamode='DataModeAbsorbance_0', ratio2dminimumau='0.01'),\n",
       " PDAChannel(wavelength1='777', wavelength2='254', resolution='Resolution_48', datamode='DataModeAbsorbance_0', ratio2dminimumau='0.01')]"
      ]
     },
     "execution_count": 39,
     "metadata": {},
     "output_type": "execute_result"
    }
   ],
   "source": [
    "bsm_pda_method_copy.channels"
   ]
  }
 ],
 "metadata": {
  "kernelspec": {
   "display_name": ".env",
   "language": "python",
   "name": "python3"
  },
  "language_info": {
   "codemirror_mode": {
    "name": "ipython",
    "version": 3
   },
   "file_extension": ".py",
   "mimetype": "text/x-python",
   "name": "python",
   "nbconvert_exporter": "python",
   "pygments_lexer": "ipython3",
   "version": "3.9.1"
  }
 },
 "nbformat": 4,
 "nbformat_minor": 2
}
