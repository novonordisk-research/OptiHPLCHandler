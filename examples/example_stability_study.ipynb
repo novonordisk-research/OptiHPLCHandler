{
 "cells": [
  {
   "cell_type": "code",
   "execution_count": 98,
   "metadata": {},
   "outputs": [],
   "source": [
    "import sys\n",
    "\n",
    "sys.path.append(\"../\")  # go to parent dir\n",
    "\n",
    "import os\n",
    "from dotenv import load_dotenv\n",
    "from datetime import datetime"
   ]
  },
  {
   "cell_type": "code",
   "execution_count": 252,
   "metadata": {},
   "outputs": [],
   "source": [
    "import warnings\n",
    "\n",
    "warnings.filterwarnings(\"ignore\")  # Required to suppress warnings from requests\n",
    "\n",
    "# get api address from .env file\n",
    "load_dotenv(\"../.env_vars\")\n",
    "EMPOWER_API_ADDRESS = os.getenv(\"EMPOWER_API_ADDRESS_PRD\")\n",
    "TEST_PROJECT = os.getenv(\"TEST_PROJECT\")"
   ]
  },
  {
   "cell_type": "code",
   "execution_count": 253,
   "metadata": {},
   "outputs": [
    {
     "name": "stderr",
     "output_type": "stream",
     "text": [
      "C:\\Users\\slcb\\Desktop\\Programming\\OptiHPLCHandler\\src\\OptiHPLCHandler\\empower_handler.py:156: UserWarning:\n",
      "\n",
      "You are logging in manually without a context manager. This is not recommended.\n",
      "Please use a context manager, e.g.\n",
      "`with EmpowerHandler(...) as handler:...`\n",
      "\n"
     ]
    }
   ],
   "source": [
    "from OptiHPLCHandler import EmpowerHandler\n",
    "\n",
    "handler = EmpowerHandler(\n",
    "    project=TEST_PROJECT,\n",
    "    address=EMPOWER_API_ADDRESS,\n",
    "    allow_login_without_context_manager=True,\n",
    ")\n",
    "handler.login()\n",
    "handler.connection.default_get_timeout = 120\n",
    "handler.connection.default_post_timeout = 120"
   ]
  },
  {
   "cell_type": "code",
   "execution_count": 273,
   "metadata": {},
   "outputs": [
    {
     "name": "stdout",
     "output_type": "stream",
     "text": [
      "240819_123456_Stb\n"
     ]
    }
   ],
   "source": [
    "# Top level\n",
    "project_name = TEST_PROJECT\n",
    "labbook_entry = \"123456\"\n",
    "\n",
    "\n",
    "def name_experiment(labbook_entry):\n",
    "    # get sample set method list\n",
    "    list_sample_set_methods = handler.GetMethodList(method_type=\"SampleSetMethod\")\n",
    "    # set experiment name\n",
    "    experiment_name = f\"{datetime.now().strftime('%y%m%d')}_{labbook_entry}_Stb\"\n",
    "    # find all methods with the experiment name as prefix\n",
    "    experiment_methods = [\n",
    "        method\n",
    "        for method in list_sample_set_methods\n",
    "        if method.startswith(experiment_name)\n",
    "    ]\n",
    "    # find the highest number of the experiment name\n",
    "    if not experiment_methods:\n",
    "        return experiment_name\n",
    "\n",
    "    highest_number = 0\n",
    "    for method in experiment_methods:\n",
    "        try:\n",
    "            number = int(method.split(\"_\")[-1])\n",
    "        except ValueError:\n",
    "            # first method has no number\n",
    "            number = 0\n",
    "            continue\n",
    "        if number >= highest_number:\n",
    "            highest_number = number\n",
    "\n",
    "    # increment the highest number\n",
    "    new_experiment_name = f\"{experiment_name}_{highest_number + 1}\"\n",
    "\n",
    "    return new_experiment_name\n",
    "\n",
    "\n",
    "experiment_name = name_experiment(labbook_entry)\n",
    "print(experiment_name)"
   ]
  },
  {
   "cell_type": "code",
   "execution_count": 274,
   "metadata": {},
   "outputs": [],
   "source": [
    "strong_eluent_line = \"B1\"\n",
    "strong_eluent_substance = \"Strong\"\n",
    "weak_eluent_line = \"A1\"\n",
    "weak_eluent_substance = \"Weak\"\n",
    "\n",
    "column_position = {\n",
    "    1: \"BEHC8\",\n",
    "}  # only one column, name to be used in labbook reporting\n",
    "\n",
    "pre_injection_equilibration_time = 10\n",
    "injection_volume = 3.0"
   ]
  },
  {
   "cell_type": "code",
   "execution_count": 275,
   "metadata": {},
   "outputs": [],
   "source": [
    "from OptiHPLCHandler import EmpowerInstrumentMethod, EmpowerHandler\n",
    "from OptiHPLCHandler.utils.validate_gradient_table import validate_gradient_table\n",
    "\n",
    "\n",
    "def change_eluent_valves_position(\n",
    "    valve_position: list[str],\n",
    "    strong_eluent_line: str,\n",
    "    weak_eluent_line: str,\n",
    ") -> list[str]:\n",
    "    for position in valve_position:\n",
    "        if position.startswith(strong_eluent_line[0]):\n",
    "            valve_position[valve_position.index(position)] = strong_eluent_line\n",
    "        if position.startswith(weak_eluent_line[0]):\n",
    "            valve_position[valve_position.index(position)] = weak_eluent_line\n",
    "    return valve_position\n",
    "\n",
    "\n",
    "def classify_eluents(\n",
    "    gradient_table: list[dict],\n",
    ") -> dict[str, list[str]]:\n",
    "    \"\"\"\n",
    "    Classify the eluents in the gradient table as strong, weak, or constant composition.\n",
    "    Strong eluents are the eluting eluents and thus have increasing composition values\n",
    "    over the gradient table.\n",
    "    Weak eluents have decreasing composition values over the gradient table.\n",
    "    Constant composition eluents have the same composition value over the gradient\n",
    "    table.\n",
    "    \"\"\"\n",
    "\n",
    "    # Get the compositions\n",
    "    compositions = [key for key in gradient_table[0].keys() if \"Composition\" in key]\n",
    "\n",
    "    # Determine the eluents\n",
    "    list_weak_eluents = []\n",
    "    list_strong_eluents = []\n",
    "    list_constant_composition_eluents = []\n",
    "\n",
    "    for composition in compositions:\n",
    "        # Get eluents max value in the gradient table\n",
    "        max_value = max([float(step[composition]) for step in gradient_table])\n",
    "        # Determine if increasing and thus strong\n",
    "        if float(gradient_table[0][composition]) < float(max_value):\n",
    "            list_strong_eluents.append(composition)\n",
    "\n",
    "        else:\n",
    "            # Determine if constant composition\n",
    "            if all([float(step[composition]) == max_value for step in gradient_table]):\n",
    "                list_constant_composition_eluents.append(composition)\n",
    "            else:\n",
    "                # Is decreasing and thus weak\n",
    "                list_weak_eluents.append(composition)\n",
    "\n",
    "    return {\n",
    "        \"strong_eluents\": list_strong_eluents,\n",
    "        \"weak_eluents\": list_weak_eluents,\n",
    "        \"constant_composition_eluents\": list_constant_composition_eluents,\n",
    "    }\n",
    "\n",
    "\n",
    "def change_eluent_gradient_table(\n",
    "    gradient_table: list[dict],\n",
    "    strong_eluent_line: str,\n",
    "    weak_eluent_line: str,\n",
    ") -> list[dict]:\n",
    "    \"\"\"\n",
    "    Change the eluent in the gradient table.\n",
    "    \"\"\"\n",
    "    # check strong and weak eluent lines are different\n",
    "    if strong_eluent_line == weak_eluent_line:\n",
    "        raise ValueError(\"Strong and weak eluent lines must be different.\")\n",
    "\n",
    "    gradient_table = [\n",
    "        {key: str(value) for key, value in row.items()} for row in gradient_table\n",
    "    ]  # convert all values to strings\n",
    "\n",
    "    # determine eluent classifications\n",
    "    dict_eluent_classification = classify_eluents(gradient_table)\n",
    "\n",
    "    list_strong_eluents = dict_eluent_classification[\"strong_eluents\"]\n",
    "    list_weak_eluents = dict_eluent_classification[\"weak_eluents\"]\n",
    "\n",
    "    if len(list_strong_eluents) != 1:\n",
    "        raise ValueError(\"Only one strong eluent is allowed.\")\n",
    "    template_method_strong_eluent_line = list_strong_eluents[0]\n",
    "\n",
    "    if len(list_weak_eluents) != 1:\n",
    "        raise ValueError(\"Only one weak eluent is allowed.\")\n",
    "    template_method_weak_eluent_line = list_weak_eluents[0]\n",
    "\n",
    "    # change eluent\n",
    "    for row in gradient_table:\n",
    "        # find value of strong eluent\n",
    "        strong_eluent_value = row.get(template_method_strong_eluent_line)\n",
    "        # find value of weak eluent\n",
    "        weak_eluent_value = row.get(\n",
    "            template_method_weak_eluent_line\n",
    "        )  # need to find the non zero value\n",
    "\n",
    "        # change strong eluent\n",
    "        if strong_eluent_value is not None:\n",
    "            # set new strong eluent\n",
    "            row[strong_eluent_line] = strong_eluent_value\n",
    "\n",
    "        # change weak eluent\n",
    "        if weak_eluent_value is not None:\n",
    "            # set new weak eluent\n",
    "            row[weak_eluent_line] = weak_eluent_value\n",
    "\n",
    "        # set all others to \"0.0\"\n",
    "        for key in row.keys():\n",
    "            if key.startswith(\"Composition\"):\n",
    "                if key not in [strong_eluent_line, weak_eluent_line]:\n",
    "                    row[key] = \"0.0\"\n",
    "\n",
    "    validate_gradient_table(gradient_table)\n",
    "\n",
    "    return gradient_table\n",
    "\n",
    "\n",
    "def change_eluent_gradient_table_in_method(\n",
    "    method: EmpowerInstrumentMethod,\n",
    "    gradient_table: list[dict],\n",
    "    strong_eluent_line: str,\n",
    "    weak_eluent_line: str,\n",
    ") -> EmpowerInstrumentMethod:\n",
    "    # gradient table variable\n",
    "    strong_eluent_line = strong_eluent_line[:-1]  # remove valve number\n",
    "    weak_eluent_line = weak_eluent_line[:-1]  # remove valve number´\n",
    "    if strong_eluent_line.startswith(\"Composition\"):\n",
    "        pass\n",
    "    else:\n",
    "        strong_eluent_line = f\"Composition{strong_eluent_line}\"\n",
    "\n",
    "    if weak_eluent_line.startswith(\"Composition\"):\n",
    "        pass\n",
    "    else:\n",
    "        weak_eluent_line = f\"Composition{weak_eluent_line}\"\n",
    "    method.gradient_table = change_eluent_gradient_table(\n",
    "        gradient_table, strong_eluent_line, weak_eluent_line\n",
    "    )\n",
    "\n",
    "    return method\n",
    "\n",
    "\n",
    "def post_instrument_methodset_method(\n",
    "    handler: EmpowerHandler, method: EmpowerInstrumentMethod\n",
    "):\n",
    "    \"\"\"\n",
    "    Post an instrument method and a method set method to Empower not including the\n",
    "    context manager.\n",
    "    \"\"\"\n",
    "    # Validate method\n",
    "    validate_gradient_table(method.gradient_table)\n",
    "\n",
    "    handler.PostInstrumentMethod(method)\n",
    "    method_set_method = {\n",
    "        \"name\": method.method_name,\n",
    "        \"instrumentMethod\": method.method_name,\n",
    "    }\n",
    "    handler.PostMethodSetMethod(method_set_method)\n",
    "\n",
    "    return method"
   ]
  },
  {
   "cell_type": "code",
   "execution_count": 276,
   "metadata": {},
   "outputs": [],
   "source": [
    "list_instrument_methods = handler.GetMethodList(method_type=\"InstrumentMethod\")"
   ]
  },
  {
   "cell_type": "code",
   "execution_count": 277,
   "metadata": {},
   "outputs": [],
   "source": [
    "full_method = handler.GetInstrumentMethod(list_instrument_methods[0])"
   ]
  },
  {
   "cell_type": "code",
   "execution_count": 278,
   "metadata": {},
   "outputs": [],
   "source": [
    "# Method a copy of the template method\n",
    "method_to_use = full_method.copy()"
   ]
  },
  {
   "cell_type": "code",
   "execution_count": 279,
   "metadata": {},
   "outputs": [
    {
     "name": "stdout",
     "output_type": "stream",
     "text": [
      "Old valve position  ['A1', 'B2']\n",
      "New valve position  ['A1', 'B1']\n"
     ]
    }
   ],
   "source": [
    "# Change valves\n",
    "print(\"Old valve position \", method_to_use.valve_position)\n",
    "method_to_use.valve_position = change_eluent_valves_position(\n",
    "    method_to_use.valve_position, strong_eluent_line, weak_eluent_line\n",
    ")\n",
    "print(\"New valve position \", method_to_use.valve_position)"
   ]
  },
  {
   "cell_type": "code",
   "execution_count": 280,
   "metadata": {},
   "outputs": [
    {
     "name": "stdout",
     "output_type": "stream",
     "text": [
      "Old gradient table  [{'Time': 'Initial', 'Flow': '0.300', 'CompositionA': '50.0', 'CompositionB': '50.0', 'Curve': 'Initial'}, {'Time': '1.00', 'Flow': '0.300', 'CompositionA': '0.0', 'CompositionB': '100.0', 'Curve': '6'}, {'Time': '7.00', 'Flow': '0.300', 'CompositionA': '50.0', 'CompositionB': '50.0', 'Curve': '6'}]\n",
      "New gradient table  [{'Time': 'Initial', 'Flow': '0.3', 'CompositionA': '50.0', 'CompositionB': '50.0', 'Curve': 'Initial'}, {'Time': '1.0', 'Flow': '0.3', 'CompositionA': '0.0', 'CompositionB': '100.0', 'Curve': '6'}, {'Time': '7.0', 'Flow': '0.3', 'CompositionA': '50.0', 'CompositionB': '50.0', 'Curve': '6'}]\n",
      "240819_123456_Stbi\n"
     ]
    }
   ],
   "source": [
    "# change gradient table\n",
    "print(\"Old gradient table \", full_method.gradient_table)\n",
    "method_to_use = change_eluent_gradient_table_in_method(\n",
    "    method_to_use, full_method.gradient_table, strong_eluent_line, weak_eluent_line\n",
    ")\n",
    "method_to_use.method_name = f\"{experiment_name}i\"\n",
    "print(\"New gradient table \", method_to_use.gradient_table)\n",
    "\n",
    "print(method_to_use.method_name)"
   ]
  },
  {
   "cell_type": "code",
   "execution_count": 281,
   "metadata": {},
   "outputs": [
    {
     "ename": "HTTPError",
     "evalue": "HTTP error 409 with message 'The Instrument Method '240819_123456_Stbi' is already existing, please enter a different name.' and ID 8dcc06bf003e995",
     "output_type": "error",
     "traceback": [
      "\u001b[1;31m---------------------------------------------------------------------------\u001b[0m",
      "\u001b[1;31mHTTPError\u001b[0m                                 Traceback (most recent call last)",
      "Cell \u001b[1;32mIn[281], line 2\u001b[0m\n\u001b[0;32m      1\u001b[0m \u001b[38;5;66;03m# Post method\u001b[39;00m\n\u001b[1;32m----> 2\u001b[0m \u001b[43mpost_instrument_methodset_method\u001b[49m\u001b[43m(\u001b[49m\u001b[43mhandler\u001b[49m\u001b[43m,\u001b[49m\u001b[43m \u001b[49m\u001b[43mmethod_to_use\u001b[49m\u001b[43m)\u001b[49m\n",
      "Cell \u001b[1;32mIn[275], line 152\u001b[0m, in \u001b[0;36mpost_instrument_methodset_method\u001b[1;34m(handler, method)\u001b[0m\n\u001b[0;32m    149\u001b[0m \u001b[38;5;66;03m# Validate method\u001b[39;00m\n\u001b[0;32m    150\u001b[0m validate_gradient_table(method\u001b[38;5;241m.\u001b[39mgradient_table)\n\u001b[1;32m--> 152\u001b[0m \u001b[43mhandler\u001b[49m\u001b[38;5;241;43m.\u001b[39;49m\u001b[43mPostInstrumentMethod\u001b[49m\u001b[43m(\u001b[49m\u001b[43mmethod\u001b[49m\u001b[43m)\u001b[49m\n\u001b[0;32m    153\u001b[0m method_set_method \u001b[38;5;241m=\u001b[39m {\n\u001b[0;32m    154\u001b[0m     \u001b[38;5;124m\"\u001b[39m\u001b[38;5;124mname\u001b[39m\u001b[38;5;124m\"\u001b[39m: method\u001b[38;5;241m.\u001b[39mmethod_name,\n\u001b[0;32m    155\u001b[0m     \u001b[38;5;124m\"\u001b[39m\u001b[38;5;124minstrumentMethod\u001b[39m\u001b[38;5;124m\"\u001b[39m: method\u001b[38;5;241m.\u001b[39mmethod_name,\n\u001b[0;32m    156\u001b[0m }\n\u001b[0;32m    157\u001b[0m handler\u001b[38;5;241m.\u001b[39mPostMethodSetMethod(method_set_method)\n",
      "File \u001b[1;32m~\\Desktop\\Programming\\OptiHPLCHandler\\src\\OptiHPLCHandler\\empower_handler.py:355\u001b[0m, in \u001b[0;36mEmpowerHandler.PostInstrumentMethod\u001b[1;34m(self, method)\u001b[0m\n\u001b[0;32m    350\u001b[0m \u001b[38;5;250m\u001b[39m\u001b[38;5;124;03m\"\"\"\u001b[39;00m\n\u001b[0;32m    351\u001b[0m \u001b[38;5;124;03mPost a method set method to Empower.\u001b[39;00m\n\u001b[0;32m    352\u001b[0m \n\u001b[0;32m    353\u001b[0m \u001b[38;5;124;03m:param method: The method set method to post.\"\"\"\u001b[39;00m\n\u001b[0;32m    354\u001b[0m endpoint \u001b[38;5;241m=\u001b[39m \u001b[38;5;124m\"\u001b[39m\u001b[38;5;124mproject/methods/instrument-method?overWriteExisting=false\u001b[39m\u001b[38;5;124m\"\u001b[39m\n\u001b[1;32m--> 355\u001b[0m \u001b[38;5;28;43mself\u001b[39;49m\u001b[38;5;241;43m.\u001b[39;49m\u001b[43mconnection\u001b[49m\u001b[38;5;241;43m.\u001b[39;49m\u001b[43mpost\u001b[49m\u001b[43m(\u001b[49m\u001b[43mendpoint\u001b[49m\u001b[38;5;241;43m=\u001b[39;49m\u001b[43mendpoint\u001b[49m\u001b[43m,\u001b[49m\u001b[43m \u001b[49m\u001b[43mbody\u001b[49m\u001b[38;5;241;43m=\u001b[39;49m\u001b[43mmethod\u001b[49m\u001b[38;5;241;43m.\u001b[39;49m\u001b[43mcurrent_method\u001b[49m\u001b[43m)\u001b[49m\n",
      "File \u001b[1;32m~\\Desktop\\Programming\\OptiHPLCHandler\\src\\OptiHPLCHandler\\empower_api_core.py:250\u001b[0m, in \u001b[0;36mEmpowerConnection.post\u001b[1;34m(self, endpoint, body, timeout)\u001b[0m\n\u001b[0;32m    245\u001b[0m     \u001b[38;5;28mprint\u001b[39m(\n\u001b[0;32m    246\u001b[0m         \u001b[38;5;124mf\u001b[39m\u001b[38;5;124m\"\u001b[39m\u001b[38;5;124mPost call to endpoint \u001b[39m\u001b[38;5;132;01m{\u001b[39;00mendpoint\u001b[38;5;132;01m}\u001b[39;00m\u001b[38;5;124m could be slow, \u001b[39m\u001b[38;5;124m\"\u001b[39m\n\u001b[0;32m    247\u001b[0m         \u001b[38;5;124mf\u001b[39m\u001b[38;5;124m\"\u001b[39m\u001b[38;5;124mtimeout is set to \u001b[39m\u001b[38;5;132;01m{\u001b[39;00mtimeout\u001b[38;5;132;01m}\u001b[39;00m\u001b[38;5;124m seconds\u001b[39m\u001b[38;5;124m\"\u001b[39m\n\u001b[0;32m    248\u001b[0m     )\n\u001b[0;32m    249\u001b[0m logger\u001b[38;5;241m.\u001b[39mdebug(\u001b[38;5;124m\"\u001b[39m\u001b[38;5;124mPosting data \u001b[39m\u001b[38;5;132;01m%s\u001b[39;00m\u001b[38;5;124m to \u001b[39m\u001b[38;5;132;01m%s\u001b[39;00m\u001b[38;5;124m with timeout \u001b[39m\u001b[38;5;132;01m%s\u001b[39;00m\u001b[38;5;124m\"\u001b[39m, body, endpoint, timeout)\n\u001b[1;32m--> 250\u001b[0m response \u001b[38;5;241m=\u001b[39m \u001b[38;5;28;43mself\u001b[39;49m\u001b[38;5;241;43m.\u001b[39;49m\u001b[43m_requests_wrapper\u001b[49m\u001b[43m(\u001b[49m\n\u001b[0;32m    251\u001b[0m \u001b[43m    \u001b[49m\u001b[43mmethod\u001b[49m\u001b[38;5;241;43m=\u001b[39;49m\u001b[38;5;124;43m\"\u001b[39;49m\u001b[38;5;124;43mpost\u001b[39;49m\u001b[38;5;124;43m\"\u001b[39;49m\u001b[43m,\u001b[49m\u001b[43m \u001b[49m\u001b[43mendpoint\u001b[49m\u001b[38;5;241;43m=\u001b[39;49m\u001b[43mendpoint\u001b[49m\u001b[43m,\u001b[49m\u001b[43m \u001b[49m\u001b[43mbody\u001b[49m\u001b[38;5;241;43m=\u001b[39;49m\u001b[43mbody\u001b[49m\u001b[43m,\u001b[49m\u001b[43m \u001b[49m\u001b[43mtimeout\u001b[49m\u001b[38;5;241;43m=\u001b[39;49m\u001b[43mtimeout\u001b[49m\n\u001b[0;32m    252\u001b[0m \u001b[43m\u001b[49m\u001b[43m)\u001b[49m\n\u001b[0;32m    253\u001b[0m \u001b[38;5;28;01mif\u001b[39;00m response[\u001b[38;5;241m1\u001b[39m]:\n\u001b[0;32m    254\u001b[0m     logger\u001b[38;5;241m.\u001b[39mdebug(\u001b[38;5;124m\"\u001b[39m\u001b[38;5;124mGot message from Empower \u001b[39m\u001b[38;5;132;01m%s\u001b[39;00m\u001b[38;5;124m\"\u001b[39m, response[\u001b[38;5;241m1\u001b[39m])\n",
      "File \u001b[1;32m~\\Desktop\\Programming\\OptiHPLCHandler\\src\\OptiHPLCHandler\\empower_api_core.py:195\u001b[0m, in \u001b[0;36mEmpowerConnection._requests_wrapper\u001b[1;34m(self, method, endpoint, body, timeout)\u001b[0m\n\u001b[0;32m    191\u001b[0m     response \u001b[38;5;241m=\u001b[39m _request_with_timeout(\n\u001b[0;32m    192\u001b[0m         method, address, \u001b[38;5;28mself\u001b[39m\u001b[38;5;241m.\u001b[39mauthorization_header, body, timeout, \u001b[38;5;28mself\u001b[39m\u001b[38;5;241m.\u001b[39mverify\n\u001b[0;32m    193\u001b[0m     )\n\u001b[0;32m    194\u001b[0m logger\u001b[38;5;241m.\u001b[39mdebug(\u001b[38;5;124m\"\u001b[39m\u001b[38;5;124mGot response \u001b[39m\u001b[38;5;132;01m%s\u001b[39;00m\u001b[38;5;124m from \u001b[39m\u001b[38;5;132;01m%s\u001b[39;00m\u001b[38;5;124m\"\u001b[39m, response\u001b[38;5;241m.\u001b[39mtext, address)\n\u001b[1;32m--> 195\u001b[0m \u001b[38;5;28;43mself\u001b[39;49m\u001b[38;5;241;43m.\u001b[39;49m\u001b[43mraise_for_status\u001b[49m\u001b[43m(\u001b[49m\u001b[43mresponse\u001b[49m\u001b[43m)\u001b[49m\n\u001b[0;32m    196\u001b[0m \u001b[38;5;28;01mreturn\u001b[39;00m (\n\u001b[0;32m    197\u001b[0m     response\u001b[38;5;241m.\u001b[39mjson()\u001b[38;5;241m.\u001b[39mget(\u001b[38;5;124m\"\u001b[39m\u001b[38;5;124mresults\u001b[39m\u001b[38;5;124m\"\u001b[39m, \u001b[38;5;28;01mNone\u001b[39;00m),\n\u001b[0;32m    198\u001b[0m     response\u001b[38;5;241m.\u001b[39mjson()\u001b[38;5;241m.\u001b[39mget(\u001b[38;5;124m\"\u001b[39m\u001b[38;5;124mmessage\u001b[39m\u001b[38;5;124m\"\u001b[39m, \u001b[38;5;28;01mNone\u001b[39;00m),\n\u001b[0;32m    199\u001b[0m )\n",
      "File \u001b[1;32m~\\Desktop\\Programming\\OptiHPLCHandler\\src\\OptiHPLCHandler\\empower_api_core.py:306\u001b[0m, in \u001b[0;36mEmpowerConnection.raise_for_status\u001b[1;34m(response)\u001b[0m\n\u001b[0;32m    301\u001b[0m \u001b[38;5;28;01melif\u001b[39;00m \u001b[38;5;124m\"\u001b[39m\u001b[38;5;124merrors\u001b[39m\u001b[38;5;124m\"\u001b[39m \u001b[38;5;129;01min\u001b[39;00m body:\n\u001b[0;32m    302\u001b[0m     error \u001b[38;5;241m=\u001b[39m requests\u001b[38;5;241m.\u001b[39mexceptions\u001b[38;5;241m.\u001b[39mHTTPError(\n\u001b[0;32m    303\u001b[0m         \u001b[38;5;124mf\u001b[39m\u001b[38;5;124m\"\u001b[39m\u001b[38;5;124mHTTP error \u001b[39m\u001b[38;5;132;01m{\u001b[39;00mresponse\u001b[38;5;241m.\u001b[39mstatus_code\u001b[38;5;132;01m}\u001b[39;00m\u001b[38;5;124m \u001b[39m\u001b[38;5;124m\"\u001b[39m\n\u001b[0;32m    304\u001b[0m         \u001b[38;5;124mf\u001b[39m\u001b[38;5;124m\"\u001b[39m\u001b[38;5;124mwith errors \u001b[39m\u001b[38;5;124m'\u001b[39m\u001b[38;5;132;01m{\u001b[39;00mresponse\u001b[38;5;241m.\u001b[39mjson()[\u001b[38;5;124m'\u001b[39m\u001b[38;5;124merrors\u001b[39m\u001b[38;5;124m'\u001b[39m]\u001b[38;5;132;01m}\u001b[39;00m\u001b[38;5;124m'\u001b[39m\u001b[38;5;124m\"\u001b[39m\n\u001b[0;32m    305\u001b[0m     )\n\u001b[1;32m--> 306\u001b[0m \u001b[38;5;28;01mraise\u001b[39;00m error \u001b[38;5;28;01mfrom\u001b[39;00m \u001b[38;5;28;01mNone\u001b[39;00m\n",
      "\u001b[1;31mHTTPError\u001b[0m: HTTP error 409 with message 'The Instrument Method '240819_123456_Stbi' is already existing, please enter a different name.' and ID 8dcc06bf003e995"
     ]
    }
   ],
   "source": [
    "# Post method\n",
    "post_instrument_methodset_method(handler, method_to_use)"
   ]
  },
  {
   "cell_type": "code",
   "execution_count": null,
   "metadata": {},
   "outputs": [
    {
     "data": {
      "application/vnd.plotly.v1+json": {
       "config": {
        "plotlyServerURL": "https://plot.ly"
       },
       "data": [
        {
         "fill": "tozeroy",
         "mode": "lines",
         "name": "Flow",
         "type": "scatter",
         "x": [
          0,
          "1.0",
          "7.0"
         ],
         "y": [
          "50.0",
          "100.0",
          "50.0"
         ]
        }
       ],
       "layout": {
        "template": {
         "data": {
          "bar": [
           {
            "error_x": {
             "color": "#2a3f5f"
            },
            "error_y": {
             "color": "#2a3f5f"
            },
            "marker": {
             "line": {
              "color": "#E5ECF6",
              "width": 0.5
             },
             "pattern": {
              "fillmode": "overlay",
              "size": 10,
              "solidity": 0.2
             }
            },
            "type": "bar"
           }
          ],
          "barpolar": [
           {
            "marker": {
             "line": {
              "color": "#E5ECF6",
              "width": 0.5
             },
             "pattern": {
              "fillmode": "overlay",
              "size": 10,
              "solidity": 0.2
             }
            },
            "type": "barpolar"
           }
          ],
          "carpet": [
           {
            "aaxis": {
             "endlinecolor": "#2a3f5f",
             "gridcolor": "white",
             "linecolor": "white",
             "minorgridcolor": "white",
             "startlinecolor": "#2a3f5f"
            },
            "baxis": {
             "endlinecolor": "#2a3f5f",
             "gridcolor": "white",
             "linecolor": "white",
             "minorgridcolor": "white",
             "startlinecolor": "#2a3f5f"
            },
            "type": "carpet"
           }
          ],
          "choropleth": [
           {
            "colorbar": {
             "outlinewidth": 0,
             "ticks": ""
            },
            "type": "choropleth"
           }
          ],
          "contour": [
           {
            "colorbar": {
             "outlinewidth": 0,
             "ticks": ""
            },
            "colorscale": [
             [
              0,
              "#0d0887"
             ],
             [
              0.1111111111111111,
              "#46039f"
             ],
             [
              0.2222222222222222,
              "#7201a8"
             ],
             [
              0.3333333333333333,
              "#9c179e"
             ],
             [
              0.4444444444444444,
              "#bd3786"
             ],
             [
              0.5555555555555556,
              "#d8576b"
             ],
             [
              0.6666666666666666,
              "#ed7953"
             ],
             [
              0.7777777777777778,
              "#fb9f3a"
             ],
             [
              0.8888888888888888,
              "#fdca26"
             ],
             [
              1,
              "#f0f921"
             ]
            ],
            "type": "contour"
           }
          ],
          "contourcarpet": [
           {
            "colorbar": {
             "outlinewidth": 0,
             "ticks": ""
            },
            "type": "contourcarpet"
           }
          ],
          "heatmap": [
           {
            "colorbar": {
             "outlinewidth": 0,
             "ticks": ""
            },
            "colorscale": [
             [
              0,
              "#0d0887"
             ],
             [
              0.1111111111111111,
              "#46039f"
             ],
             [
              0.2222222222222222,
              "#7201a8"
             ],
             [
              0.3333333333333333,
              "#9c179e"
             ],
             [
              0.4444444444444444,
              "#bd3786"
             ],
             [
              0.5555555555555556,
              "#d8576b"
             ],
             [
              0.6666666666666666,
              "#ed7953"
             ],
             [
              0.7777777777777778,
              "#fb9f3a"
             ],
             [
              0.8888888888888888,
              "#fdca26"
             ],
             [
              1,
              "#f0f921"
             ]
            ],
            "type": "heatmap"
           }
          ],
          "heatmapgl": [
           {
            "colorbar": {
             "outlinewidth": 0,
             "ticks": ""
            },
            "colorscale": [
             [
              0,
              "#0d0887"
             ],
             [
              0.1111111111111111,
              "#46039f"
             ],
             [
              0.2222222222222222,
              "#7201a8"
             ],
             [
              0.3333333333333333,
              "#9c179e"
             ],
             [
              0.4444444444444444,
              "#bd3786"
             ],
             [
              0.5555555555555556,
              "#d8576b"
             ],
             [
              0.6666666666666666,
              "#ed7953"
             ],
             [
              0.7777777777777778,
              "#fb9f3a"
             ],
             [
              0.8888888888888888,
              "#fdca26"
             ],
             [
              1,
              "#f0f921"
             ]
            ],
            "type": "heatmapgl"
           }
          ],
          "histogram": [
           {
            "marker": {
             "pattern": {
              "fillmode": "overlay",
              "size": 10,
              "solidity": 0.2
             }
            },
            "type": "histogram"
           }
          ],
          "histogram2d": [
           {
            "colorbar": {
             "outlinewidth": 0,
             "ticks": ""
            },
            "colorscale": [
             [
              0,
              "#0d0887"
             ],
             [
              0.1111111111111111,
              "#46039f"
             ],
             [
              0.2222222222222222,
              "#7201a8"
             ],
             [
              0.3333333333333333,
              "#9c179e"
             ],
             [
              0.4444444444444444,
              "#bd3786"
             ],
             [
              0.5555555555555556,
              "#d8576b"
             ],
             [
              0.6666666666666666,
              "#ed7953"
             ],
             [
              0.7777777777777778,
              "#fb9f3a"
             ],
             [
              0.8888888888888888,
              "#fdca26"
             ],
             [
              1,
              "#f0f921"
             ]
            ],
            "type": "histogram2d"
           }
          ],
          "histogram2dcontour": [
           {
            "colorbar": {
             "outlinewidth": 0,
             "ticks": ""
            },
            "colorscale": [
             [
              0,
              "#0d0887"
             ],
             [
              0.1111111111111111,
              "#46039f"
             ],
             [
              0.2222222222222222,
              "#7201a8"
             ],
             [
              0.3333333333333333,
              "#9c179e"
             ],
             [
              0.4444444444444444,
              "#bd3786"
             ],
             [
              0.5555555555555556,
              "#d8576b"
             ],
             [
              0.6666666666666666,
              "#ed7953"
             ],
             [
              0.7777777777777778,
              "#fb9f3a"
             ],
             [
              0.8888888888888888,
              "#fdca26"
             ],
             [
              1,
              "#f0f921"
             ]
            ],
            "type": "histogram2dcontour"
           }
          ],
          "mesh3d": [
           {
            "colorbar": {
             "outlinewidth": 0,
             "ticks": ""
            },
            "type": "mesh3d"
           }
          ],
          "parcoords": [
           {
            "line": {
             "colorbar": {
              "outlinewidth": 0,
              "ticks": ""
             }
            },
            "type": "parcoords"
           }
          ],
          "pie": [
           {
            "automargin": true,
            "type": "pie"
           }
          ],
          "scatter": [
           {
            "fillpattern": {
             "fillmode": "overlay",
             "size": 10,
             "solidity": 0.2
            },
            "type": "scatter"
           }
          ],
          "scatter3d": [
           {
            "line": {
             "colorbar": {
              "outlinewidth": 0,
              "ticks": ""
             }
            },
            "marker": {
             "colorbar": {
              "outlinewidth": 0,
              "ticks": ""
             }
            },
            "type": "scatter3d"
           }
          ],
          "scattercarpet": [
           {
            "marker": {
             "colorbar": {
              "outlinewidth": 0,
              "ticks": ""
             }
            },
            "type": "scattercarpet"
           }
          ],
          "scattergeo": [
           {
            "marker": {
             "colorbar": {
              "outlinewidth": 0,
              "ticks": ""
             }
            },
            "type": "scattergeo"
           }
          ],
          "scattergl": [
           {
            "marker": {
             "colorbar": {
              "outlinewidth": 0,
              "ticks": ""
             }
            },
            "type": "scattergl"
           }
          ],
          "scattermapbox": [
           {
            "marker": {
             "colorbar": {
              "outlinewidth": 0,
              "ticks": ""
             }
            },
            "type": "scattermapbox"
           }
          ],
          "scatterpolar": [
           {
            "marker": {
             "colorbar": {
              "outlinewidth": 0,
              "ticks": ""
             }
            },
            "type": "scatterpolar"
           }
          ],
          "scatterpolargl": [
           {
            "marker": {
             "colorbar": {
              "outlinewidth": 0,
              "ticks": ""
             }
            },
            "type": "scatterpolargl"
           }
          ],
          "scatterternary": [
           {
            "marker": {
             "colorbar": {
              "outlinewidth": 0,
              "ticks": ""
             }
            },
            "type": "scatterternary"
           }
          ],
          "surface": [
           {
            "colorbar": {
             "outlinewidth": 0,
             "ticks": ""
            },
            "colorscale": [
             [
              0,
              "#0d0887"
             ],
             [
              0.1111111111111111,
              "#46039f"
             ],
             [
              0.2222222222222222,
              "#7201a8"
             ],
             [
              0.3333333333333333,
              "#9c179e"
             ],
             [
              0.4444444444444444,
              "#bd3786"
             ],
             [
              0.5555555555555556,
              "#d8576b"
             ],
             [
              0.6666666666666666,
              "#ed7953"
             ],
             [
              0.7777777777777778,
              "#fb9f3a"
             ],
             [
              0.8888888888888888,
              "#fdca26"
             ],
             [
              1,
              "#f0f921"
             ]
            ],
            "type": "surface"
           }
          ],
          "table": [
           {
            "cells": {
             "fill": {
              "color": "#EBF0F8"
             },
             "line": {
              "color": "white"
             }
            },
            "header": {
             "fill": {
              "color": "#C8D4E3"
             },
             "line": {
              "color": "white"
             }
            },
            "type": "table"
           }
          ]
         },
         "layout": {
          "annotationdefaults": {
           "arrowcolor": "#2a3f5f",
           "arrowhead": 0,
           "arrowwidth": 1
          },
          "autotypenumbers": "strict",
          "coloraxis": {
           "colorbar": {
            "outlinewidth": 0,
            "ticks": ""
           }
          },
          "colorscale": {
           "diverging": [
            [
             0,
             "#8e0152"
            ],
            [
             0.1,
             "#c51b7d"
            ],
            [
             0.2,
             "#de77ae"
            ],
            [
             0.3,
             "#f1b6da"
            ],
            [
             0.4,
             "#fde0ef"
            ],
            [
             0.5,
             "#f7f7f7"
            ],
            [
             0.6,
             "#e6f5d0"
            ],
            [
             0.7,
             "#b8e186"
            ],
            [
             0.8,
             "#7fbc41"
            ],
            [
             0.9,
             "#4d9221"
            ],
            [
             1,
             "#276419"
            ]
           ],
           "sequential": [
            [
             0,
             "#0d0887"
            ],
            [
             0.1111111111111111,
             "#46039f"
            ],
            [
             0.2222222222222222,
             "#7201a8"
            ],
            [
             0.3333333333333333,
             "#9c179e"
            ],
            [
             0.4444444444444444,
             "#bd3786"
            ],
            [
             0.5555555555555556,
             "#d8576b"
            ],
            [
             0.6666666666666666,
             "#ed7953"
            ],
            [
             0.7777777777777778,
             "#fb9f3a"
            ],
            [
             0.8888888888888888,
             "#fdca26"
            ],
            [
             1,
             "#f0f921"
            ]
           ],
           "sequentialminus": [
            [
             0,
             "#0d0887"
            ],
            [
             0.1111111111111111,
             "#46039f"
            ],
            [
             0.2222222222222222,
             "#7201a8"
            ],
            [
             0.3333333333333333,
             "#9c179e"
            ],
            [
             0.4444444444444444,
             "#bd3786"
            ],
            [
             0.5555555555555556,
             "#d8576b"
            ],
            [
             0.6666666666666666,
             "#ed7953"
            ],
            [
             0.7777777777777778,
             "#fb9f3a"
            ],
            [
             0.8888888888888888,
             "#fdca26"
            ],
            [
             1,
             "#f0f921"
            ]
           ]
          },
          "colorway": [
           "#636efa",
           "#EF553B",
           "#00cc96",
           "#ab63fa",
           "#FFA15A",
           "#19d3f3",
           "#FF6692",
           "#B6E880",
           "#FF97FF",
           "#FECB52"
          ],
          "font": {
           "color": "#2a3f5f"
          },
          "geo": {
           "bgcolor": "white",
           "lakecolor": "white",
           "landcolor": "#E5ECF6",
           "showlakes": true,
           "showland": true,
           "subunitcolor": "white"
          },
          "hoverlabel": {
           "align": "left"
          },
          "hovermode": "closest",
          "mapbox": {
           "style": "light"
          },
          "paper_bgcolor": "white",
          "plot_bgcolor": "#E5ECF6",
          "polar": {
           "angularaxis": {
            "gridcolor": "white",
            "linecolor": "white",
            "ticks": ""
           },
           "bgcolor": "#E5ECF6",
           "radialaxis": {
            "gridcolor": "white",
            "linecolor": "white",
            "ticks": ""
           }
          },
          "scene": {
           "xaxis": {
            "backgroundcolor": "#E5ECF6",
            "gridcolor": "white",
            "gridwidth": 2,
            "linecolor": "white",
            "showbackground": true,
            "ticks": "",
            "zerolinecolor": "white"
           },
           "yaxis": {
            "backgroundcolor": "#E5ECF6",
            "gridcolor": "white",
            "gridwidth": 2,
            "linecolor": "white",
            "showbackground": true,
            "ticks": "",
            "zerolinecolor": "white"
           },
           "zaxis": {
            "backgroundcolor": "#E5ECF6",
            "gridcolor": "white",
            "gridwidth": 2,
            "linecolor": "white",
            "showbackground": true,
            "ticks": "",
            "zerolinecolor": "white"
           }
          },
          "shapedefaults": {
           "line": {
            "color": "#2a3f5f"
           }
          },
          "ternary": {
           "aaxis": {
            "gridcolor": "white",
            "linecolor": "white",
            "ticks": ""
           },
           "baxis": {
            "gridcolor": "white",
            "linecolor": "white",
            "ticks": ""
           },
           "bgcolor": "#E5ECF6",
           "caxis": {
            "gridcolor": "white",
            "linecolor": "white",
            "ticks": ""
           }
          },
          "title": {
           "x": 0.05
          },
          "xaxis": {
           "automargin": true,
           "gridcolor": "white",
           "linecolor": "white",
           "ticks": "",
           "title": {
            "standoff": 15
           },
           "zerolinecolor": "white",
           "zerolinewidth": 2
          },
          "yaxis": {
           "automargin": true,
           "gridcolor": "white",
           "linecolor": "white",
           "ticks": "",
           "title": {
            "standoff": 15
           },
           "zerolinecolor": "white",
           "zerolinewidth": 2
          }
         }
        }
       }
      }
     },
     "metadata": {},
     "output_type": "display_data"
    }
   ],
   "source": [
    "from OptiHPLCHandler.plotting.gradient_plot import plot_gradient_table\n",
    "\n",
    "strong_eluent_composition = f\"Composition{strong_eluent_line[0]}\"\n",
    "x = [\n",
    "    row[\"Time\"] if row[\"Time\"] != \"Initial\" else 0.0\n",
    "    for row in method_to_use.gradient_table\n",
    "]\n",
    "y = [row[strong_eluent_composition] for row in method_to_use.gradient_table]\n",
    "plot_gradient_table(x, y)"
   ]
  },
  {
   "cell_type": "code",
   "execution_count": null,
   "metadata": {},
   "outputs": [
    {
     "name": "stdout",
     "output_type": "stream",
     "text": [
      "[{'Time': 'Initial', 'Flow': '0.05', 'CompositionA': '50.0', 'CompositionB': '50.0', 'Curve': 'Initial'}, {'Time': '3.0', 'Flow': '0.3', 'CompositionA': '50.0', 'CompositionB': '50.0', 'Curve': '6'}]\n",
      "240819_123456_Stbr\n"
     ]
    }
   ],
   "source": [
    "# generate rampup method and column clean\n",
    "from OptiHPLCHandler.applications.method_generators.ramp_method import (\n",
    "    generate_ramp_method,\n",
    ")\n",
    "\n",
    "method_to_use_ramp = method_to_use.copy()\n",
    "method_to_use_ramp = generate_ramp_method(\n",
    "    method_to_use_ramp, ramp_time=3, ramp_type=\"rampup\", suffix=\"r\"\n",
    ")\n",
    "method_to_use_ramp.method_name = f\"{experiment_name}r\"\n",
    "print(method_to_use_ramp.gradient_table)\n",
    "print(method_to_use_ramp.method_name)"
   ]
  },
  {
   "cell_type": "code",
   "execution_count": null,
   "metadata": {},
   "outputs": [
    {
     "data": {
      "text/plain": [
       "<OptiHPLCHandler.empower_instrument_method.EmpowerInstrumentMethod at 0x18c28b24040>"
      ]
     },
     "execution_count": 230,
     "metadata": {},
     "output_type": "execute_result"
    }
   ],
   "source": [
    "post_instrument_methodset_method(handler, method_to_use_ramp)"
   ]
  },
  {
   "cell_type": "code",
   "execution_count": null,
   "metadata": {},
   "outputs": [
    {
     "name": "stdout",
     "output_type": "stream",
     "text": [
      "[{'Time': 'Initial', 'Flow': '0.3', 'CompositionA': '50.0', 'CompositionB': '50.0', 'Curve': 'Initial'}, {'Time': '0.714', 'Flow': '0.3', 'CompositionA': '0.0', 'CompositionB': '100.0', 'Curve': '6'}, {'Time': '5.0', 'Flow': '0.3', 'CompositionA': '50.0', 'CompositionB': '50.0', 'Curve': '6'}]\n",
      "240819_123456_Stbc\n"
     ]
    }
   ],
   "source": [
    "from OptiHPLCHandler.applications.method_generators.condense_gradient_table import (\n",
    "    generate_condense_gradient_table,\n",
    ")\n",
    "\n",
    "method_to_use_clean = method_to_use.copy()\n",
    "method_to_use_clean = generate_condense_gradient_table(method_to_use_clean, 5)\n",
    "method_to_use_clean.method_name = f\"{experiment_name}c\"\n",
    "print(method_to_use_clean.gradient_table)\n",
    "print(method_to_use_clean.method_name)"
   ]
  },
  {
   "cell_type": "code",
   "execution_count": null,
   "metadata": {},
   "outputs": [
    {
     "data": {
      "text/plain": [
       "<OptiHPLCHandler.empower_instrument_method.EmpowerInstrumentMethod at 0x18c2866b340>"
      ]
     },
     "execution_count": 232,
     "metadata": {},
     "output_type": "execute_result"
    }
   ],
   "source": [
    "post_instrument_methodset_method(handler, method_to_use_clean)"
   ]
  },
  {
   "cell_type": "code",
   "execution_count": 282,
   "metadata": {},
   "outputs": [],
   "source": [
    "# determine the run time of the method as the last time value wher flow is at its maximum\n",
    "\n",
    "\n",
    "def determine_runtime(method: EmpowerInstrumentMethod) -> float:\n",
    "    \"\"\"\n",
    "    Determine the runtime of a method as the last time value where the flow is at its maximum.\n",
    "    \"\"\"\n",
    "    max_flow = max([float(row[\"Flow\"]) for row in method.gradient_table])\n",
    "\n",
    "    for row in method.gradient_table:\n",
    "        if float(row[\"Flow\"]) == max_flow:\n",
    "            run_time = row[\"Time\"]\n",
    "\n",
    "    return float(run_time)\n",
    "\n",
    "\n",
    "def prepare_column_string(column_position: int) -> str:\n",
    "    \"\"\"\n",
    "    Prepare the column string for the method.\n",
    "    \"\"\"\n",
    "    return f\"Position {list(column_position.keys())[0]}\"\n",
    "\n",
    "\n",
    "column_position_str = prepare_column_string(column_position)"
   ]
  },
  {
   "cell_type": "code",
   "execution_count": 283,
   "metadata": {},
   "outputs": [],
   "source": [
    "# vial list\n",
    "platelist = [1, 2]\n",
    "rowlist = [i + 1 for i in range(8)]  # rows defined numerically, counting from 1 to 8.\n",
    "columnlist = [chr(i + 65) for i in range(6)]\n",
    "# columns defined alphabetically. chr(65)=A, thus list comprehension counts from A onwards through the number of columns (6).\n",
    "viallist = []\n",
    "\n",
    "for plate in platelist:\n",
    "    for column in columnlist:\n",
    "        for row in rowlist:\n",
    "            viallist.append(f\"{plate}:{column},{row}\")"
   ]
  },
  {
   "cell_type": "code",
   "execution_count": 284,
   "metadata": {},
   "outputs": [
    {
     "name": "stdout",
     "output_type": "stream",
     "text": [
      "Plate: ANSI-48Vial2mLHolder\n"
     ]
    }
   ],
   "source": [
    "# Add initial ramp, clean and equilibration\n",
    "sample_list = [\n",
    "    {\n",
    "        \"Function\": {\"member\": \"Condition Column\"},\n",
    "        \"Method\": method_to_use_ramp.method_name,\n",
    "        \"RunTime\": determine_runtime(method_to_use_ramp),\n",
    "        \"ColumnPosition\": {\"member\": column_position_str},\n",
    "    },\n",
    "    {\n",
    "        \"Function\": {\"member\": \"Condition Column\"},\n",
    "        \"Method\": method_to_use_clean.method_name,\n",
    "        \"RunTime\": determine_runtime(method_to_use_clean),\n",
    "        \"ColumnPosition\": {\"member\": column_position_str},\n",
    "    },\n",
    "]\n",
    "\n",
    "plate = \"ANSI-48Vial2mLHolder\"\n",
    "print(f\"Plate: {plate}\")\n",
    "plates = {\"1\": plate, \"2\": plate}\n",
    "\n",
    "\n",
    "# conditions\n",
    "temperatures = [5, 25, 37]  # temperatures in celsius\n",
    "timepoints = [0, 7, 14]  # timepoints in days\n",
    "samples = [\"0001\", \"0002\"]  # nncs of the samples\n",
    "\n",
    "# create lsit of dict off all possible combinations\n",
    "\n",
    "for sample in samples:\n",
    "    sample_list.append(\n",
    "        {\n",
    "            \"Function\": {\"member\": \"Equilibrate\"},\n",
    "            \"Method\": method_to_use.method_name,\n",
    "            \"RunTime\": pre_injection_equilibration_time,\n",
    "            \"ColumnPosition\": {\"member\": column_position_str},\n",
    "        }\n",
    "    )  # equilibrate before injection of new sample\n",
    "    for temp in temperatures:\n",
    "        for time in timepoints:\n",
    "            vial = viallist.pop(0)  # remove used\n",
    "            sample_row_sample_name = f\"{temp}C_{time}D\"  # sample conditions\n",
    "            sample_row_sample_label = sample  # sample name\n",
    "            sample_row = {\n",
    "                \"Method\": method_to_use.method_name,\n",
    "                \"SamplePos\": vial,\n",
    "                \"SampleName\": sample_row_sample_name,\n",
    "                \"Label\": sample_row_sample_label,\n",
    "                \"InjectionVolume\": injection_volume,\n",
    "            }\n",
    "            sample_list.append(sample_row)"
   ]
  },
  {
   "cell_type": "code",
   "execution_count": 285,
   "metadata": {},
   "outputs": [
    {
     "data": {
      "text/plain": [
       "[{'Function': {'member': 'Condition Column'},\n",
       "  'Method': '240819_123456_Stbr',\n",
       "  'RunTime': 3.0,\n",
       "  'ColumnPosition': {'member': 'Position 1'}},\n",
       " {'Function': {'member': 'Condition Column'},\n",
       "  'Method': '240819_123456_Stbc',\n",
       "  'RunTime': 5.0,\n",
       "  'ColumnPosition': {'member': 'Position 1'}},\n",
       " {'Function': {'member': 'Equilibrate'},\n",
       "  'Method': '240819_123456_Stbi',\n",
       "  'RunTime': 10,\n",
       "  'ColumnPosition': {'member': 'Position 1'}},\n",
       " {'Method': '240819_123456_Stbi',\n",
       "  'SamplePos': '1:A,1',\n",
       "  'SampleName': '5C_0D',\n",
       "  'Label': '0001',\n",
       "  'InjectionVolume': 3.0},\n",
       " {'Method': '240819_123456_Stbi',\n",
       "  'SamplePos': '1:A,2',\n",
       "  'SampleName': '5C_7D',\n",
       "  'Label': '0001',\n",
       "  'InjectionVolume': 3.0},\n",
       " {'Method': '240819_123456_Stbi',\n",
       "  'SamplePos': '1:A,3',\n",
       "  'SampleName': '5C_14D',\n",
       "  'Label': '0001',\n",
       "  'InjectionVolume': 3.0},\n",
       " {'Method': '240819_123456_Stbi',\n",
       "  'SamplePos': '1:A,4',\n",
       "  'SampleName': '25C_0D',\n",
       "  'Label': '0001',\n",
       "  'InjectionVolume': 3.0},\n",
       " {'Method': '240819_123456_Stbi',\n",
       "  'SamplePos': '1:A,5',\n",
       "  'SampleName': '25C_7D',\n",
       "  'Label': '0001',\n",
       "  'InjectionVolume': 3.0},\n",
       " {'Method': '240819_123456_Stbi',\n",
       "  'SamplePos': '1:A,6',\n",
       "  'SampleName': '25C_14D',\n",
       "  'Label': '0001',\n",
       "  'InjectionVolume': 3.0},\n",
       " {'Method': '240819_123456_Stbi',\n",
       "  'SamplePos': '1:A,7',\n",
       "  'SampleName': '37C_0D',\n",
       "  'Label': '0001',\n",
       "  'InjectionVolume': 3.0},\n",
       " {'Method': '240819_123456_Stbi',\n",
       "  'SamplePos': '1:A,8',\n",
       "  'SampleName': '37C_7D',\n",
       "  'Label': '0001',\n",
       "  'InjectionVolume': 3.0},\n",
       " {'Method': '240819_123456_Stbi',\n",
       "  'SamplePos': '1:B,1',\n",
       "  'SampleName': '37C_14D',\n",
       "  'Label': '0001',\n",
       "  'InjectionVolume': 3.0},\n",
       " {'Function': {'member': 'Equilibrate'},\n",
       "  'Method': '240819_123456_Stbi',\n",
       "  'RunTime': 10,\n",
       "  'ColumnPosition': {'member': 'Position 1'}},\n",
       " {'Method': '240819_123456_Stbi',\n",
       "  'SamplePos': '1:B,2',\n",
       "  'SampleName': '5C_0D',\n",
       "  'Label': '0002',\n",
       "  'InjectionVolume': 3.0},\n",
       " {'Method': '240819_123456_Stbi',\n",
       "  'SamplePos': '1:B,3',\n",
       "  'SampleName': '5C_7D',\n",
       "  'Label': '0002',\n",
       "  'InjectionVolume': 3.0},\n",
       " {'Method': '240819_123456_Stbi',\n",
       "  'SamplePos': '1:B,4',\n",
       "  'SampleName': '5C_14D',\n",
       "  'Label': '0002',\n",
       "  'InjectionVolume': 3.0},\n",
       " {'Method': '240819_123456_Stbi',\n",
       "  'SamplePos': '1:B,5',\n",
       "  'SampleName': '25C_0D',\n",
       "  'Label': '0002',\n",
       "  'InjectionVolume': 3.0},\n",
       " {'Method': '240819_123456_Stbi',\n",
       "  'SamplePos': '1:B,6',\n",
       "  'SampleName': '25C_7D',\n",
       "  'Label': '0002',\n",
       "  'InjectionVolume': 3.0},\n",
       " {'Method': '240819_123456_Stbi',\n",
       "  'SamplePos': '1:B,7',\n",
       "  'SampleName': '25C_14D',\n",
       "  'Label': '0002',\n",
       "  'InjectionVolume': 3.0},\n",
       " {'Method': '240819_123456_Stbi',\n",
       "  'SamplePos': '1:B,8',\n",
       "  'SampleName': '37C_0D',\n",
       "  'Label': '0002',\n",
       "  'InjectionVolume': 3.0},\n",
       " {'Method': '240819_123456_Stbi',\n",
       "  'SamplePos': '1:C,1',\n",
       "  'SampleName': '37C_7D',\n",
       "  'Label': '0002',\n",
       "  'InjectionVolume': 3.0},\n",
       " {'Method': '240819_123456_Stbi',\n",
       "  'SamplePos': '1:C,2',\n",
       "  'SampleName': '37C_14D',\n",
       "  'Label': '0002',\n",
       "  'InjectionVolume': 3.0}]"
      ]
     },
     "execution_count": 285,
     "metadata": {},
     "output_type": "execute_result"
    }
   ],
   "source": [
    "sample_list"
   ]
  },
  {
   "cell_type": "code",
   "execution_count": 286,
   "metadata": {},
   "outputs": [],
   "source": [
    "handler.PostExperiment(\n",
    "    sample_set_method_name=experiment_name,\n",
    "    sample_list=sample_list,\n",
    "    plates=plates,\n",
    "    audit_trail_message=f\"Stability study {experiment_name}. Based on method {full_method.method_name}.\",\n",
    ")"
   ]
  },
  {
   "cell_type": "code",
   "execution_count": null,
   "metadata": {},
   "outputs": [],
   "source": [
    "handler.logout()"
   ]
  },
  {
   "cell_type": "code",
   "execution_count": null,
   "metadata": {},
   "outputs": [],
   "source": []
  }
 ],
 "metadata": {
  "kernelspec": {
   "display_name": ".env",
   "language": "python",
   "name": "python3"
  },
  "language_info": {
   "codemirror_mode": {
    "name": "ipython",
    "version": 3
   },
   "file_extension": ".py",
   "mimetype": "text/x-python",
   "name": "python",
   "nbconvert_exporter": "python",
   "pygments_lexer": "ipython3",
   "version": "3.9.1"
  }
 },
 "nbformat": 4,
 "nbformat_minor": 2
}
