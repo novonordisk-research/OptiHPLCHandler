{
 "cells": [
  {
   "cell_type": "markdown",
   "metadata": {},
   "source": [
    "# Example: Get, inspect, change, and put back a instrument method with a binary solvent manager\n",
    "\n",
    "Here outlines how to interact with instrument methods and module methods.\n",
    "\n",
    "- Finding and getting a instrument method.\n",
    "- Inspecting what types of module methods are in the instrument method.\n",
    "- Inspecting the instrument parameters in the method, including column temperature and gradient table.\n",
    "- Changing instrument parameters and posting the new method."
   ]
  },
  {
   "cell_type": "markdown",
   "metadata": {},
   "source": [
    "Get API Address"
   ]
  },
  {
   "cell_type": "code",
   "execution_count": 1,
   "metadata": {},
   "outputs": [],
   "source": [
    "import os\n",
    "from dotenv import load_dotenv\n",
    "\n",
    "# get api address from .env file\n",
    "load_dotenv(\"../.env_vars\")\n",
    "EMPOWER_API_ADDRESS = os.getenv(\"EMPOWER_API_ADDRESS_PRD\")"
   ]
  },
  {
   "cell_type": "markdown",
   "metadata": {},
   "source": [
    "# Finding and getting a instrument method\n",
    "\n",
    "We first find the list of all instrument methods, select one, and get that from Empower:"
   ]
  },
  {
   "cell_type": "code",
   "execution_count": 2,
   "metadata": {},
   "outputs": [],
   "source": [
    "import pprint\n",
    "\n",
    "from OptiHPLCHandler import EmpowerHandler\n",
    "\n",
    "# Create an instance of the EmpowerHandler class\n",
    "handler = EmpowerHandler(project=\"WebAPI_test\", address=EMPOWER_API_ADDRESS)\n",
    "handler.connection.default_get_timeout = 120\n",
    "handler.connection.default_post_timeout = 120"
   ]
  },
  {
   "cell_type": "code",
   "execution_count": 3,
   "metadata": {},
   "outputs": [
    {
     "name": "stdout",
     "output_type": "stream",
     "text": [
      "@BSM_PDA_Template\n"
     ]
    }
   ],
   "source": [
    "# Get the list of methods, select one, and get the method details\n",
    "with handler:\n",
    "    method_list = handler.GetMethodList()  # Get the list of instrument methods\n",
    "    method_name = method_list[0]  # Select the first method\n",
    "    print(method_name)\n",
    "    full_method = handler.GetInstrumentMethod(method_name)"
   ]
  },
  {
   "cell_type": "markdown",
   "metadata": {},
   "source": [
    "# Inspecting the instrument method\n",
    "\n",
    "We can now look into the module methods in the instrument method. "
   ]
  },
  {
   "cell_type": "code",
   "execution_count": 3,
   "metadata": {},
   "outputs": [
    {
     "name": "stdout",
     "output_type": "stream",
     "text": [
      "EmpowerInstrumentMethod with 4 module methods of types PDAMethod, EmpowerModuleMethod, ColumnManagerMethod, BSMMethod\n",
      "Valve positions: ['A1', 'B2']\n",
      "\n",
      "\n",
      "Start of gradient table:\n",
      "\n",
      "[ { 'CompositionA': '50.0',\n",
      "    'CompositionB': '50.0',\n",
      "    'Curve': 'Initial',\n",
      "    'Flow': '0.300',\n",
      "    'Time': 'Initial'},\n",
      "  { 'CompositionA': '0.0',\n",
      "    'CompositionB': '100.0',\n",
      "    'Curve': '6',\n",
      "    'Flow': '0.300',\n",
      "    'Time': '1.00'}]\n"
     ]
    }
   ],
   "source": [
    "pp = pprint.PrettyPrinter(indent=2)\n",
    "\n",
    "print(full_method)\n",
    "print(f\"Valve positions: {full_method.module_method_list[-1].valve_position}\")\n",
    "# Printing the valve position for the solvent manager module method in the list.\n",
    "# Notice that we do not need to know the tag name to print the valve position.\n",
    "print(\"\\n\\nStart of gradient table:\\n\")\n",
    "pp.pprint(full_method.gradient_table[0:2])\n",
    "# Printing the first two entries gradient table.\n",
    "# Notice that we do not need to know the tag names to print the gradient table"
   ]
  },
  {
   "cell_type": "code",
   "execution_count": 4,
   "metadata": {},
   "outputs": [
    {
     "name": "stdout",
     "output_type": "stream",
     "text": [
      "\n",
      "\n",
      "Detector settings:\n",
      "[<OptiHPLCHandler.empower_detector_module_method.PDAMethod object at 0x0000023B2FB90A60>]\n",
      "\n",
      "Lamp status:\n",
      "True\n",
      "\n",
      "Channel settings:\n",
      "{'Channel1': {'Enable': True,\n",
      "              'Type': 'Single',\n",
      "              'Wavelength1': '214',\n",
      "              'XML': '<Channel1>\\r\\n'\n",
      "                     '    <Enable>true</Enable>\\r\\n'\n",
      "                     '    <DataMode>DataModeAbsorbance_0</DataMode>\\r\\n'\n",
      "                     '    <Wavelength1>214</Wavelength1>\\r\\n'\n",
      "                     '    <Wavelength2>498</Wavelength2>\\r\\n'\n",
      "                     '    <Resolution>Resolution_48</Resolution>\\r\\n'\n",
      "                     '    <Ratio2DMinimumAU>0.01</Ratio2DMinimumAU>\\r\\n'\n",
      "                     '  </Channel1>'},\n",
      " 'Channel2': {'Enable': False,\n",
      "              'Type': 'Single',\n",
      "              'Wavelength1': '254',\n",
      "              'XML': '<Channel2>\\r\\n'\n",
      "                     '    <Enable>false</Enable>\\r\\n'\n",
      "                     '    <DataMode>DataModeAbsorbance_0</DataMode>\\r\\n'\n",
      "                     '    <Wavelength1>254</Wavelength1>\\r\\n'\n",
      "                     '    <Wavelength2>254</Wavelength2>\\r\\n'\n",
      "                     '    <Resolution>Resolution_48</Resolution>\\r\\n'\n",
      "                     '    <Ratio2DMinimumAU>0.01</Ratio2DMinimumAU>\\r\\n'\n",
      "                     '  </Channel2>'},\n",
      " 'Channel3': {'Enable': False,\n",
      "              'Type': 'Single',\n",
      "              'Wavelength1': '254',\n",
      "              'XML': '<Channel3>\\r\\n'\n",
      "                     '    <Enable>false</Enable>\\r\\n'\n",
      "                     '    <DataMode>DataModeAbsorbance_0</DataMode>\\r\\n'\n",
      "                     '    <Wavelength1>254</Wavelength1>\\r\\n'\n",
      "                     '    <Wavelength2>254</Wavelength2>\\r\\n'\n",
      "                     '    <Resolution>Resolution_48</Resolution>\\r\\n'\n",
      "                     '    <Ratio2DMinimumAU>0.01</Ratio2DMinimumAU>\\r\\n'\n",
      "                     '  </Channel3>'},\n",
      " 'Channel4': {'Enable': False,\n",
      "              'Type': 'Single',\n",
      "              'Wavelength1': '254',\n",
      "              'XML': '<Channel4>\\r\\n'\n",
      "                     '    <Enable>false</Enable>\\r\\n'\n",
      "                     '    <DataMode>DataModeAbsorbance_0</DataMode>\\r\\n'\n",
      "                     '    <Wavelength1>254</Wavelength1>\\r\\n'\n",
      "                     '    <Wavelength2>254</Wavelength2>\\r\\n'\n",
      "                     '    <Resolution>Resolution_48</Resolution>\\r\\n'\n",
      "                     '    <Ratio2DMinimumAU>0.01</Ratio2DMinimumAU>\\r\\n'\n",
      "                     '  </Channel4>'},\n",
      " 'Channel5': {'Enable': False,\n",
      "              'Type': 'Single',\n",
      "              'Wavelength1': '254',\n",
      "              'XML': '<Channel5>\\r\\n'\n",
      "                     '    <Enable>false</Enable>\\r\\n'\n",
      "                     '    <DataMode>DataModeAbsorbance_0</DataMode>\\r\\n'\n",
      "                     '    <Wavelength1>254</Wavelength1>\\r\\n'\n",
      "                     '    <Wavelength2>254</Wavelength2>\\r\\n'\n",
      "                     '    <Resolution>Resolution_48</Resolution>\\r\\n'\n",
      "                     '    <Ratio2DMinimumAU>0.01</Ratio2DMinimumAU>\\r\\n'\n",
      "                     '  </Channel5>'},\n",
      " 'Channel6': {'Enable': False,\n",
      "              'Type': 'Single',\n",
      "              'Wavelength1': '254',\n",
      "              'XML': '<Channel6>\\r\\n'\n",
      "                     '    <Enable>false</Enable>\\r\\n'\n",
      "                     '    <DataMode>DataModeAbsorbance_0</DataMode>\\r\\n'\n",
      "                     '    <Wavelength1>254</Wavelength1>\\r\\n'\n",
      "                     '    <Wavelength2>254</Wavelength2>\\r\\n'\n",
      "                     '    <Resolution>Resolution_48</Resolution>\\r\\n'\n",
      "                     '    <Ratio2DMinimumAU>0.01</Ratio2DMinimumAU>\\r\\n'\n",
      "                     '  </Channel6>'},\n",
      " 'Channel7': {'Enable': False,\n",
      "              'Type': 'Single',\n",
      "              'Wavelength1': '254',\n",
      "              'XML': '<Channel7>\\r\\n'\n",
      "                     '    <Enable>false</Enable>\\r\\n'\n",
      "                     '    <DataMode>DataModeAbsorbance_0</DataMode>\\r\\n'\n",
      "                     '    <Wavelength1>254</Wavelength1>\\r\\n'\n",
      "                     '    <Wavelength2>254</Wavelength2>\\r\\n'\n",
      "                     '    <Resolution>Resolution_48</Resolution>\\r\\n'\n",
      "                     '    <Ratio2DMinimumAU>0.01</Ratio2DMinimumAU>\\r\\n'\n",
      "                     '  </Channel7>'},\n",
      " 'Channel8': {'Enable': False,\n",
      "              'Type': 'Single',\n",
      "              'Wavelength1': '254',\n",
      "              'XML': '<Channel8>\\r\\n'\n",
      "                     '    <Enable>false</Enable>\\r\\n'\n",
      "                     '    <DataMode>DataModeAbsorbance_0</DataMode>\\r\\n'\n",
      "                     '    <Wavelength1>254</Wavelength1>\\r\\n'\n",
      "                     '    <Wavelength2>254</Wavelength2>\\r\\n'\n",
      "                     '    <Resolution>Resolution_48</Resolution>\\r\\n'\n",
      "                     '    <Ratio2DMinimumAU>0.01</Ratio2DMinimumAU>\\r\\n'\n",
      "                     '  </Channel8>'},\n",
      " 'SpectralChannel': {'Enable': False,\n",
      "                     'EndWavelength': '400',\n",
      "                     'StartWavelength': '210',\n",
      "                     'Type': 'Spectral',\n",
      "                     'XML': '<SpectralChannel>\\r\\n'\n",
      "                            '    <Enable>false</Enable>\\r\\n'\n",
      "                            '    <StartWavelength>210</StartWavelength>\\r\\n'\n",
      "                            '    <EndWavelength>400</EndWavelength>\\r\\n'\n",
      "                            '    <Resolution>Resolution_12</Resolution>\\r\\n'\n",
      "                            '  </SpectralChannel>'}}\n"
     ]
    }
   ],
   "source": [
    "print(\"\\n\\nDetector settings:\")\n",
    "# The list of detectors found in the instrument method\n",
    "print(full_method.detector_method_list)\n",
    "\n",
    "# Check if lamp enabled\n",
    "print(\"\\nLamp status:\")\n",
    "print(full_method.detector_method_list[0].lamp_enabled)\n",
    "\n",
    "# Check the channel settings\n",
    "print(\"\\nChannel settings:\")\n",
    "pprint.pprint(full_method.detector_method_list[0].channel_dict)"
   ]
  },
  {
   "cell_type": "markdown",
   "metadata": {},
   "source": [
    "Note that most of the methods are simply EmpowerModuleMethods. That is the generic\n",
    "type for module methods that aren't specifically accounted for. At the moment, that\n",
    "is every type of method expect:\n",
    " - Solvent manager methods (BSMMethod and QSMMethod), which have the special properties `valve_position` and `gradient_table`.\n",
    " - Column oven methods (SampleManagerMethod), which have the special property `column_temperature`.\n",
    "\n",
    "All of the special properties can be accessed as set from the `EmpowerInstrumentMethod`.\n",
    "Getting `EmpowerInstrumentMethod.column_temperature` will produce an error if the\n",
    "instrument method controls several column ovens (e.g. one in a sample manager and one in\n",
    "a column manager), and the column ovens have different temperatures. Setting \n",
    "`EmpowerInstrumentMethod.column_temperature` will set the temperature for all column\n",
    "ovens if there are any, and produce an error otherwise."
   ]
  },
  {
   "cell_type": "markdown",
   "metadata": {},
   "source": [
    "Here is an example for a quaternary system:"
   ]
  },
  {
   "cell_type": "code",
   "execution_count": 7,
   "metadata": {},
   "outputs": [
    {
     "name": "stdout",
     "output_type": "stream",
     "text": [
      "@BSM_PDA_Template_1_0pct\n"
     ]
    }
   ],
   "source": [
    "import pprint\n",
    "\n",
    "from OptiHPLCHandler import EmpowerHandler\n",
    "\n",
    "# Create an instance of the EmpowerHandler class\n",
    "handler = EmpowerHandler(project=\"WebAPI_test\", address=EMPOWER_API_ADDRESS)\n",
    "handler.connection.default_get_timeout = 120\n",
    "handler.connection.default_post_timeout = 120\n",
    "\n",
    "# Get the list of methods, select one, and get the method details\n",
    "with handler:\n",
    "    method_list = handler.GetMethodList()  # Get the list of instrument methods\n",
    "    method_name = method_list[2]  # Select the first method\n",
    "    print(method_name)\n",
    "    full_method = handler.GetInstrumentMethod(method_name)"
   ]
  },
  {
   "cell_type": "code",
   "execution_count": 11,
   "metadata": {},
   "outputs": [
    {
     "name": "stdout",
     "output_type": "stream",
     "text": [
      "EmpowerInstrumentMethod with 4 module methods of types PDAMethod, EmpowerModuleMethod, ColumnManagerMethod, BSMMethod\n",
      "Valve positions: ['A1', 'B2']\n",
      "\n",
      "\n",
      "Start of gradient table:\n",
      "\n",
      "[ { 'CompositionA': '50.0',\n",
      "    'CompositionB': '50.0',\n",
      "    'Curve': 'Initial',\n",
      "    'Flow': '0.300',\n",
      "    'Time': 'Initial'},\n",
      "  { 'CompositionA': '0.0',\n",
      "    'CompositionB': '100.0',\n",
      "    'Curve': '6',\n",
      "    'Flow': '0.300',\n",
      "    'Time': '1.00'}]\n"
     ]
    }
   ],
   "source": [
    "pp = pprint.PrettyPrinter(indent=2)\n",
    "\n",
    "print(full_method)\n",
    "print(f\"Valve positions: {full_method.module_method_list[3].valve_position}\")\n",
    "# Printing the valve position for the solvent manager module method in the list.\n",
    "print(\"\\n\\nStart of gradient table:\\n\")\n",
    "pp.pprint(full_method.gradient_table[0:2])\n",
    "# Printing the first two entries gradient table."
   ]
  },
  {
   "cell_type": "markdown",
   "metadata": {},
   "source": [
    "# Changing instrument parameters and posting the new method.\n",
    "\n",
    "We can also change the values of the instrument method, and post the changed method back\n",
    "to Empower, so we can use it to analyse samples.\n",
    "\n",
    "Remember to give the method a new name before posting it to Empower. OptiHPLCHandler\n",
    "does not allow changing methods in Empower, only creating new ones."
   ]
  },
  {
   "cell_type": "code",
   "execution_count": 12,
   "metadata": {},
   "outputs": [
    {
     "name": "stderr",
     "output_type": "stream",
     "text": [
      "C:\\Users\\slcb\\Desktop\\Programming\\OptiHPLCHandler\\src\\OptiHPLCHandler\\empower_module_method.py:149: UserWarning: Rounding 1.6666666666666667 to 1.667, as Empower only accepts 3 decimal(s).\n",
      "  warnings.warn(\n"
     ]
    }
   ],
   "source": [
    "gradient_table = full_method.gradient_table  # Get the gradient table\n",
    "for step in gradient_table:\n",
    "    step[\"Flow\"] = 0.5  # Set the flow to 0.5 mL/min for all steps\n",
    "gradient_table[1][\"Time\"] = 5 / 3  # Set the time for the second step to 5/3 minutes.\n",
    "# Notice the warning that 1.666666667 minutes is rounded to 1.667, since Empower will\n",
    "# misinterpret values with too many decimals.\n",
    "full_method.gradient_table = (\n",
    "    gradient_table  # Set the gradient table to the updated gradient table\n",
    ")\n",
    "full_method.valve_position = [\n",
    "    \"A2\",\n",
    "    \"B1\",\n",
    "]  # Set the valve position to A2 and B1. You can also set only one of the valves.\n",
    "full_method.method_name = \"New Method Name 1\"  # Set the method name\n",
    "with handler:\n",
    "    handler.PostInstrumentMethod(full_method)  # Post the updated method to Empower"
   ]
  },
  {
   "cell_type": "code",
   "execution_count": 13,
   "metadata": {},
   "outputs": [
    {
     "name": "stdout",
     "output_type": "stream",
     "text": [
      "\n",
      "\n",
      "Detector settings:\n",
      "{'Enable': True,\n",
      " 'Type': 'Single',\n",
      " 'Wavelength1': '214',\n",
      " 'XML': '<Channel1>\\r\\n'\n",
      "        '    <Enable>true</Enable>\\r\\n'\n",
      "        '    <DataMode>DataModeAbsorbance_0</DataMode>\\r\\n'\n",
      "        '    <Wavelength1>214</Wavelength1>\\r\\n'\n",
      "        '    <Wavelength2>498</Wavelength2>\\r\\n'\n",
      "        '    <Resolution>Resolution_48</Resolution>\\r\\n'\n",
      "        '    <Ratio2DMinimumAU>0.01</Ratio2DMinimumAU>\\r\\n'\n",
      "        '  </Channel1>'}\n",
      "\n",
      "\n",
      "New Detector settings:\n",
      "{'Enable': True,\n",
      " 'Type': 'Single',\n",
      " 'Wavelength1': '289',\n",
      " 'XML': '<Channel1>\\n'\n",
      "        '    <Enable>true</Enable>\\n'\n",
      "        '    <DataMode>DataModeAbsorbance_0</DataMode>\\n'\n",
      "        '    <Wavelength1>289</Wavelength1>\\n'\n",
      "        '    <Wavelength2>498</Wavelength2>\\n'\n",
      "        '    <Resolution>Resolution_48</Resolution>\\n'\n",
      "        '    <Ratio2DMinimumAU>0.01</Ratio2DMinimumAU>\\n'\n",
      "        '  </Channel1>'}\n"
     ]
    }
   ],
   "source": [
    "# changing the wavelength of a single wavelength detector\n",
    "print(\"\\n\\nDetector settings:\")\n",
    "pprint.pprint(full_method.detector_method_list[0].channel_dict[\"Channel1\"])\n",
    "full_method.detector_method_list[0].channel_dict = {\"Channel1\": {\"Wavelength1\": \"289\"}}\n",
    "print(\"\\n\\nNew Detector settings:\")\n",
    "pprint.pprint(full_method.detector_method_list[0].channel_dict[\"Channel1\"])"
   ]
  },
  {
   "cell_type": "code",
   "execution_count": 16,
   "metadata": {},
   "outputs": [
    {
     "name": "stdout",
     "output_type": "stream",
     "text": [
      "\n",
      "\n",
      "Detector settings:\n",
      "{'Enable': True,\n",
      " 'EndWavelength': '666',\n",
      " 'StartWavelength': '333',\n",
      " 'Type': 'Spectral',\n",
      " 'XML': '<SpectralChannel>\\n'\n",
      "        '    <Enable>true</Enable>\\n'\n",
      "        '    <StartWavelength>333</StartWavelength>\\n'\n",
      "        '    <EndWavelength>666</EndWavelength>\\n'\n",
      "        '    <Resolution>Resolution_12</Resolution>\\n'\n",
      "        '  </SpectralChannel>'}\n",
      "\n",
      "\n",
      "New Detector settings:\n",
      "{'Enable': True,\n",
      " 'EndWavelength': '666',\n",
      " 'StartWavelength': '333',\n",
      " 'Type': 'Spectral',\n",
      " 'XML': '<SpectralChannel>\\n'\n",
      "        '    <Enable>true</Enable>\\n'\n",
      "        '    <StartWavelength>333</StartWavelength>\\n'\n",
      "        '    <EndWavelength>666</EndWavelength>\\n'\n",
      "        '    <Resolution>Resolution_12</Resolution>\\n'\n",
      "        '  </SpectralChannel>'}\n"
     ]
    }
   ],
   "source": [
    "# changing the wavelength of a single wavelength detector\n",
    "print(\"\\n\\nDetector settings:\")\n",
    "pprint.pprint(full_method.detector_method_list[0].channel_dict[\"SpectralChannel\"])\n",
    "full_method.detector_method_list[0].channel_dict = {\n",
    "    \"SpectralChannel\": {\n",
    "        \"StartWavelength\": 333,\n",
    "        \"EndWavelength\": 666,  # max 500\n",
    "        \"Enable\": True,\n",
    "    }\n",
    "}\n",
    "print(\"\\n\\nNew Detector settings:\")\n",
    "pprint.pprint(full_method.detector_method_list[0].channel_dict[\"SpectralChannel\"])\n",
    "\n",
    "full_method.method_name = \"New Method Name 2\"  # Set the method name\n",
    "with handler:\n",
    "    handler.PostInstrumentMethod(full_method)  # Post the updated method to Empower"
   ]
  },
  {
   "cell_type": "markdown",
   "metadata": {},
   "source": [
    "# MethodSet methods\n",
    "\n",
    "In order to run an instrument method, we need a methodset method that includes it.\n",
    "\n",
    "Let's start by logging in, getting the list of all methodset methods present, and look\n",
    "at one of them"
   ]
  },
  {
   "cell_type": "code",
   "execution_count": 17,
   "metadata": {},
   "outputs": [
    {
     "name": "stdout",
     "output_type": "stream",
     "text": [
      "['@BSM_PDA_Template', '@BSM_PDA_Template_1_0C', '@BSM_PDA_Template_1_0pct', '@BSM_PDA_Template_2_0pc_2_0pct', '@BSM_PDA_Template_2_0pc_3_0pct', '@BSM_PDA_Template_iso2_5min', '@BSM_PDA_Template_iso4_5min', '@BSM_PDA_Template_ramp', '@BSM_PDA_Template_ramp_ramp', '@BSM_TUV_Template', '@QSM_PDA_Template', '20240409_slcb', '20240409_slcb_test', '20240409_slcb_test_1_0pct', '20240409_slcb_test_2_5C', '20240409_slcb_test_iso_30_0m', '20240409_slcb_test_iso_60_0m', '20240409_slcb_test_m1_0pct', '20240409_slcb_test_m2_5C', '20240409_slcb_test_ramp', '20240410_test', '20240410_test_1_0pct', '20240410_test_2_5C', '20240410_test_cond_10m', '20240410_test_iso_30_0m', '20240410_test_iso_60_0m', '20240410_test_m1_0pct', '20240410_test_m2_5C', '20240410_test_ramp', '20240416_test', '20240416_test_1_0pct', '20240416_test_2_5C', '20240416_test_cond_10m', '20240416_test_iso_15m_0', '20240416_test_iso_30m_0', '20240416_test_low', '20240416_test_m1_0pct', '20240416_test_m2_5C', '20240416_test_ramp', '20240430_slcb', '20240430_slcb_1_0pct', '20240430_slcb_2_5C', '20240430_slcb_cond_10m', '20240430_slcb_iso_15m_0', '20240430_slcb_iso_30m_0', '20240430_slcb_low', '20240430_slcb_m1_0pct', '20240430_slcb_m2_5C', '20240430_slcb_ramp', '240703153502_test_A0_D1', '240703153502_test_B0_D2', '240703153502_test_c', '240703153502_test_C0_D3', '240703153502_test_clean', '240703153502_test_cleani_A0_D6', '240703153502_test_r', '240703153502_test_s', '240708095942_test_A0_D1', '240708095942_test_B0_D2', '240708095942_test_c', '240708095942_test_C0_D3', '240708095942_test_clean', '240708095942_test_cleani_A0_D6', '240708095942_test_r', '240708095942_test_s', '240708103157_test_A0_D1', '240708103157_test_B0_D2', '240708103157_test_c', '240708103157_test_C0_D3', '240708103157_test_clean', '240708103157_test_cleani_A0_D6', '240708103157_test_r', '240708103157_test_s', '240708144247_0731_A0_D1', '240708144247_0731_B0_D2', '240708144247_0731_C0_D3', '240708144247_0731_cl', '240708144247_0731_cl_A0_D6', '240708144247_0731_clf', '240708144247_0731_r', '240708144247_0731_s', 'B104_11_IClass_280nm_UPLC12', 'BSM_Sys12_Original', 'clean', 'clean_shutdown', 'CMS_slcb_exp0_1', 'CMS_slcb_exp1_1', 'CMS_slcb_exp2_1', 'CMS_slcb_exp2_2', 'CMS_slcb_exp2_3', 'CMS_slcb_exp2_4', 'CMS_slcb_exp3_1', 'CMS_slcb_exp3_2', 'CMS_slcb_exp3_3', 'CMS_slcb_exp3_4', 'CMS_slcb_exp5_1', 'CMS_slcb_exp6_1', 'CMS_slcb_exp6_2', 'CMS_slcb_exp6_3', 'CMS_slcb_exp6_4', 'CMS_slcb_exp6_5', 'CMS_slcb_exp7_1', 'CMS_slcb_exp7_10', 'CMS_slcb_exp7_11', 'CMS_slcb_exp7_12', 'CMS_slcb_exp7_13', 'CMS_slcb_exp7_14', 'CMS_slcb_exp7_15', 'CMS_slcb_exp7_16', 'CMS_slcb_exp7_2', 'CMS_slcb_exp7_3', 'CMS_slcb_exp7_4', 'CMS_slcb_exp7_5', 'CMS_slcb_exp7_6', 'CMS_slcb_exp7_7', 'CMS_slcb_exp7_8', 'CMS_slcb_exp7_9', 'CMS_slcb_test_webapi_test_1', 'CMS_srfu_2024_07_01_1', 'CMS_srfu_2024_07_01_1c', 'CMS_srfu_2024_07_01_1r', 'CMS_srfu_2024_07_01_2', 'CMS_srfu_2024_07_01_2_3', 'CMS_srfu_2024_07_01_2_3c', 'CMS_srfu_2024_07_01_2_3r', 'CMS_srfu_2024_07_01_2_4', 'CMS_srfu_2024_07_01_2_4r', 'CMS_srfu_2024_07_01_2_5', 'CMS_srfu_2024_07_01_2_5r', 'CMS_srfu_2024_07_01_2_6', 'CMS_srfu_2024_07_01_2_6c', 'CMS_srfu_2024_07_01_2_6r', 'CMS_srfu_2024_07_01_2r', 'CMS_srfu_2024_07_01_3', 'CMS_srfu_2024_07_01_3r', 'CMS_srfu_2024_07_02_1_1', 'CMS_srfu_2024_07_02_1_1c', 'CMS_srfu_2024_07_02_1_1r', 'CMS_srfu_2024_07_02_1_2', 'CMS_srfu_2024_07_02_1_2c', 'CMS_srfu_2024_07_02_1_2r', 'CMS_srfu_20240604_1', 'CMS_srfu_20240604_1_c', 'CMS_srfu_20240604_1_r', 'CMS_srfu_20240604_10', 'CMS_srfu_20240604_10_r', 'CMS_srfu_20240604_11', 'CMS_srfu_20240604_11_r', 'CMS_srfu_20240604_12', 'CMS_srfu_20240604_12_r', 'CMS_srfu_20240604_13', 'CMS_srfu_20240604_13_r', 'CMS_srfu_20240604_14', 'CMS_srfu_20240604_14_r', 'CMS_srfu_20240604_15', 'CMS_srfu_20240604_15_r', 'CMS_srfu_20240604_16', 'CMS_srfu_20240604_16_r', 'CMS_srfu_20240604_17', 'CMS_srfu_20240604_17_r', 'CMS_srfu_20240604_18', 'CMS_srfu_20240604_18_r', 'CMS_srfu_20240604_19', 'CMS_srfu_20240604_19_r', 'CMS_srfu_20240604_2', 'CMS_srfu_20240604_2_r', 'CMS_srfu_20240604_20', 'CMS_srfu_20240604_20_r', 'CMS_srfu_20240604_21', 'CMS_srfu_20240604_21_r', 'CMS_srfu_20240604_22', 'CMS_srfu_20240604_22_r', 'CMS_srfu_20240604_23', 'CMS_srfu_20240604_23_r', 'CMS_srfu_20240604_24', 'CMS_srfu_20240604_24_r', 'CMS_srfu_20240604_25', 'CMS_srfu_20240604_25_r', 'CMS_srfu_20240604_26', 'CMS_srfu_20240604_26_r', 'CMS_srfu_20240604_27', 'CMS_srfu_20240604_27_r', 'CMS_srfu_20240604_28', 'CMS_srfu_20240604_28_r', 'CMS_srfu_20240604_29', 'CMS_srfu_20240604_29_r', 'CMS_srfu_20240604_3', 'CMS_srfu_20240604_3_r', 'CMS_srfu_20240604_30', 'CMS_srfu_20240604_30_r', 'CMS_srfu_20240604_31', 'CMS_srfu_20240604_31_r', 'CMS_srfu_20240604_32', 'CMS_srfu_20240604_32_r', 'CMS_srfu_20240604_33', 'CMS_srfu_20240604_33_r', 'CMS_srfu_20240604_34', 'CMS_srfu_20240604_34_r', 'CMS_srfu_20240604_35', 'CMS_srfu_20240604_35_r', 'CMS_srfu_20240604_36', 'CMS_srfu_20240604_36_r', 'CMS_srfu_20240604_37', 'CMS_srfu_20240604_37_r', 'CMS_srfu_20240604_38', 'CMS_srfu_20240604_38_r', 'CMS_srfu_20240604_39', 'CMS_srfu_20240604_39_r', 'CMS_srfu_20240604_4', 'CMS_srfu_20240604_4_c', 'CMS_srfu_20240604_4_r', 'CMS_srfu_20240604_40', 'CMS_srfu_20240604_40_r', 'CMS_srfu_20240604_41', 'CMS_srfu_20240604_41_r', 'CMS_srfu_20240604_42', 'CMS_srfu_20240604_42_r', 'CMS_srfu_20240604_43', 'CMS_srfu_20240604_43_r', 'CMS_srfu_20240604_44', 'CMS_srfu_20240604_44_r', 'CMS_srfu_20240604_45', 'CMS_srfu_20240604_45_r', 'CMS_srfu_20240604_46', 'CMS_srfu_20240604_46_r', 'CMS_srfu_20240604_47', 'CMS_srfu_20240604_47_r', 'CMS_srfu_20240604_48', 'CMS_srfu_20240604_48_r', 'CMS_srfu_20240604_5', 'CMS_srfu_20240604_5_r', 'CMS_srfu_20240604_6', 'CMS_srfu_20240604_6_r', 'CMS_srfu_20240604_7', 'CMS_srfu_20240604_7_c', 'CMS_srfu_20240604_7_r', 'CMS_srfu_20240604_8', 'CMS_srfu_20240604_8_r', 'CMS_srfu_20240604_9', 'CMS_srfu_20240604_9_r', 'CMS_srfu_20240607_1', 'CMS_srfu_20240607_1_c', 'CMS_srfu_20240607_1_r', 'CMS_srfu_20240607_10', 'CMS_srfu_20240607_10_r', 'CMS_srfu_20240607_11', 'CMS_srfu_20240607_11_r', 'CMS_srfu_20240607_2', 'CMS_srfu_20240607_2_r', 'CMS_srfu_20240607_3', 'CMS_srfu_20240607_3_r', 'CMS_srfu_20240607_4', 'CMS_srfu_20240607_4_r', 'CMS_srfu_20240607_5', 'CMS_srfu_20240607_5_r', 'CMS_srfu_20240607_6', 'CMS_srfu_20240607_6_r', 'CMS_srfu_20240607_7', 'CMS_srfu_20240607_7_r', 'CMS_srfu_20240607_8', 'CMS_srfu_20240607_8_r', 'CMS_srfu_20240607_9', 'CMS_srfu_20240607_9_r', 'CMS_srfu_con_break_2_1', 'CMS_srfu_con_break_2_1c', 'CMS_srfu_con_break_2_1r', 'CMS_srfu_con_break_2_2', 'CMS_srfu_con_break_2_2c', 'CMS_srfu_con_break_2_2r', 'CMS_srfu_con_break_3_1', 'CMS_srfu_con_break_3_1c', 'CMS_srfu_con_break_3_1r', 'CMS_srfu_con_break_3_2', 'CMS_srfu_con_break_3_2r', 'CMS_srfu_con_break_3_3', 'CMS_srfu_con_break_3_3r', 'CMS_srfu_con_break_3_4', 'CMS_srfu_con_break_3_4r', 'CMS_srfu_con_break_3_5', 'CMS_srfu_con_break_3_5r', 'CMS_srfu_con_break_3_6', 'CMS_srfu_con_break_3_6c', 'CMS_srfu_con_break_3_6r', 'CMS_srfu_con_break_3_7', 'CMS_srfu_con_break_3_7r', 'CMS_srfu_Connection_break_1', 'CMS_srfu_Connection_break_1c', 'CMS_srfu_Connection_break_1r', 'CMS_srfu_ladida_1', 'CMS_srfu_LFIV_backup_1', 'CMS_srfu_LFIV_backup_1_c', 'CMS_srfu_LFIV_backup_1_r', 'CMS_srfu_LFIV_backup_2', 'CMS_srfu_LFIV_backup_2_r', 'CMS_srfu_LFIV_backup_3', 'CMS_srfu_LFIV_backup_3_c', 'CMS_srfu_LFIV_backup_3_r', 'CMS_srfu_LFIV_backup_4', 'CMS_srfu_LFIV_backup_4_c', 'CMS_srfu_LFIV_backup_4_r', 'CMS_srfu_LFIV_backup_5', 'CMS_srfu_LFIV_backup_5_r', 'CMS_srfu_LFIV_backup_6', 'CMS_srfu_LFIV_backup_6_c', 'CMS_srfu_LFIV_backup_6_r', 'CMS_srfu_LFIV_backup_7', 'CMS_srfu_LFIV_backup_7_r', 'CMS_srfu_LFIV_before_1', 'CMS_srfu_LFIV_before_1_c', 'CMS_srfu_LFIV_before_1_r', 'CMS_srfu_LFIV_before_10', 'CMS_srfu_LFIV_before_10_r', 'CMS_srfu_LFIV_before_11', 'CMS_srfu_LFIV_before_11_r', 'CMS_srfu_LFIV_before_2', 'CMS_srfu_LFIV_before_2_r', 'CMS_srfu_LFIV_before_3', 'CMS_srfu_LFIV_before_3_r', 'CMS_srfu_LFIV_before_4', 'CMS_srfu_LFIV_before_4_r', 'CMS_srfu_LFIV_before_5', 'CMS_srfu_LFIV_before_5_r', 'CMS_srfu_LFIV_before_6', 'CMS_srfu_LFIV_before_6_r', 'CMS_srfu_LFIV_before_7', 'CMS_srfu_LFIV_before_7_r', 'CMS_srfu_LFIV_before_8', 'CMS_srfu_LFIV_before_8_r', 'CMS_srfu_LFIV_before_9', 'CMS_srfu_LFIV_before_9_r', 'CMS_srfu_LFIV_demo_1', 'CMS_srfu_LFIV_demo_1_c', 'CMS_srfu_LFIV_demo_1_r', 'CMS_srfu_LFIV_demo_2', 'CMS_srfu_LFIV_demo_2_r', 'CMS_srfu_LFIV_prepare_1', 'CMS_srfu_LFIV_prepare_1_c', 'CMS_srfu_LFIV_prepare_1_r', 'CMS_srfu_LFIV_prepare_10', 'CMS_srfu_LFIV_prepare_10_r', 'CMS_srfu_LFIV_prepare_11', 'CMS_srfu_LFIV_prepare_11_r', 'CMS_srfu_LFIV_prepare_12', 'CMS_srfu_LFIV_prepare_12_c', 'CMS_srfu_LFIV_prepare_12_r', 'CMS_srfu_LFIV_prepare_13', 'CMS_srfu_LFIV_prepare_13_r', 'CMS_srfu_LFIV_prepare_14', 'CMS_srfu_LFIV_prepare_14_r', 'CMS_srfu_LFIV_prepare_2', 'CMS_srfu_LFIV_prepare_2_r', 'CMS_srfu_LFIV_prepare_3', 'CMS_srfu_LFIV_prepare_3_r', 'CMS_srfu_LFIV_prepare_4', 'CMS_srfu_LFIV_prepare_4_r', 'CMS_srfu_LFIV_prepare_5', 'CMS_srfu_LFIV_prepare_5_r', 'CMS_srfu_LFIV_prepare_6', 'CMS_srfu_LFIV_prepare_6_r', 'CMS_srfu_LFIV_prepare_7', 'CMS_srfu_LFIV_prepare_7_r', 'CMS_srfu_LFIV_prepare_8', 'CMS_srfu_LFIV_prepare_8_r', 'CMS_srfu_LFIV_prepare_9', 'CMS_srfu_LFIV_prepare_9_r', 'CMS_srfu_LFIV_prepared_1', 'CMS_srfu_LFIV_prepared_1_c', 'CMS_srfu_LFIV_prepared_1_r', 'CMS_srfu_LFIV_prepared_2', 'CMS_srfu_LFIV_prepared_2_r', 'CMS_srfu_LFIV_prepared_3', 'CMS_srfu_LFIV_prepared_3_c', 'CMS_srfu_LFIV_prepared_3_r', 'CMS_srfu_LFIV_prepared_4', 'CMS_srfu_LFIV_prepared_4_r', 'CMS_srfu_LFIV_prepared_5', 'CMS_srfu_LFIV_prepared_5_r', 'CMS_srfu_LFIV_prepared_6', 'CMS_srfu_LFIV_prepared_6_r', 'CMS_srfu_LFIV_prepared_7', 'CMS_srfu_LFIV_prepared_7_r', 'CMS_srfu_test_backend_1', 'CMS_SRFU_test_real_backend_1', 'CMS_SRFU_test_real_backend_2', 'CMS_srfu_test_ruct_1', 'CMS_srfu_test_ruct_1c', 'CMS_srfu_test_ruct_1r', 'CMS_srfu_test_ruct_2', 'CMS_srfu_test_ruct_2c', 'CMS_srfu_test_ruct_2r', 'CMS_srfu_test_ruct_3', 'CMS_srfu_test_ruct_3c', 'CMS_srfu_test_ruct_3r', 'CMS_srfu_test_ruct_4', 'CMS_srfu_test_ruct_4r', 'CMS_srfu_test_ruct_5', 'CMS_srfu_test_ruct_5c', 'CMS_srfu_test_ruct_5r', 'CMS_srfu_test_ruct_6', 'CMS_srfu_test_ruct_6r', 'CMS_srfu_test_ruct_7', 'CMS_srfu_test_ruct_7r', 'CMS_test_2_23460013_1', 'CMS_test_23460013_1', 'CMS_test_23460013_2', 'CMS_test_3_23460013_1', 'CMS_test_4_23460013_1', 'CMS_test_5_23460013_1', 'CMS_test_6_23460013_1', 'CMS_test_6_23460013_2', 'CMS_test_6_23460013_3', 'CMS_test_6_23460013_4', 'CMS_test_6_23460013_5', 'CMS_test_6_23460013_6', 'CMS_test_6_23460013_7', 'CMS_test_7_23460013_1', 'CMS_test_7_23460013_10', 'CMS_test_7_23460013_11', 'CMS_test_7_23460013_12', 'CMS_test_7_23460013_13', 'CMS_test_7_23460013_14', 'CMS_test_7_23460013_15', 'CMS_test_7_23460013_16', 'CMS_test_7_23460013_17', 'CMS_test_7_23460013_18', 'CMS_test_7_23460013_19', 'CMS_test_7_23460013_2', 'CMS_test_7_23460013_20', 'CMS_test_7_23460013_21', 'CMS_test_7_23460013_22', 'CMS_test_7_23460013_23', 'CMS_test_7_23460013_24', 'CMS_test_7_23460013_25', 'CMS_test_7_23460013_26', 'CMS_test_7_23460013_3', 'CMS_test_7_23460013_4', 'CMS_test_7_23460013_5', 'CMS_test_7_23460013_6', 'CMS_test_7_23460013_7', 'CMS_test_7_23460013_8', 'CMS_test_7_23460013_9', 'CMS_test_8_23460013_1', 'CMS_test_8_23460013_10', 'CMS_test_8_23460013_11', 'CMS_test_8_23460013_12', 'CMS_test_8_23460013_13', 'CMS_test_8_23460013_14', 'CMS_test_8_23460013_15', 'CMS_test_8_23460013_16', 'CMS_test_8_23460013_17', 'CMS_test_8_23460013_18', 'CMS_test_8_23460013_19', 'CMS_test_8_23460013_2', 'CMS_test_8_23460013_20', 'CMS_test_8_23460013_21', 'CMS_test_8_23460013_22', 'CMS_test_8_23460013_23', 'CMS_test_8_23460013_24', 'CMS_test_8_23460013_25', 'CMS_test_8_23460013_26', 'CMS_test_8_23460013_27', 'CMS_test_8_23460013_28', 'CMS_test_8_23460013_29', 'CMS_test_8_23460013_3', 'CMS_test_8_23460013_30', 'CMS_test_8_23460013_31', 'CMS_test_8_23460013_32', 'CMS_test_8_23460013_4', 'CMS_test_8_23460013_5', 'CMS_test_8_23460013_6', 'CMS_test_8_23460013_7', 'CMS_test_8_23460013_8', 'CMS_test_8_23460013_9', 'Complex new methodset method', 'Complex_test_srfu_2024_04_09', 'New methodset method', 'New methodset method 20240122', 'Template_Method_1', 'test_slcb', 'test_slcb_1', 'test_srfu_2024_04_09']\n"
     ]
    },
    {
     "data": {
      "text/plain": [
       "{'name': '@BSM_PDA_Template',\n",
       " 'isLocked': False,\n",
       " 'id': 1463,\n",
       " 'version': 1,\n",
       " 'date': '2023-11-10T08:18:55',\n",
       " 'comments': '',\n",
       " 'modifiedBy': 'SLCB',\n",
       " 'revisionHistory': [{'id': 1463,\n",
       "   'version': 1,\n",
       "   'modificationDate': '10-Nov-2023 08:18:55 CET',\n",
       "   'user': 'SLCB',\n",
       "   'comment': \"Created method '@BSM_PDA_Template'.\"}],\n",
       " 'instrumentMethod': '@BSM_PDA_Template'}"
      ]
     },
     "execution_count": 17,
     "metadata": {},
     "output_type": "execute_result"
    }
   ],
   "source": [
    "with handler:\n",
    "    methodset_method_list = handler.GetMethodList(\"MethodSet\")\n",
    "    print(methodset_method_list)\n",
    "    methodsset_method = handler.GetMethodSetMethod(methodset_method_list[0])\n",
    "methodsset_method"
   ]
  },
  {
   "cell_type": "markdown",
   "metadata": {},
   "source": [
    "We can now create a simple MethodSet method"
   ]
  },
  {
   "cell_type": "code",
   "execution_count": 18,
   "metadata": {},
   "outputs": [],
   "source": [
    "method_set_method = {\n",
    "    \"name\": \"New Methodset Method 1\",\n",
    "    \"instrumentMethod\": full_method.method_name,\n",
    "}\n",
    "with handler:\n",
    "    handler.PostMethodSetMethod(method_set_method)"
   ]
  },
  {
   "cell_type": "markdown",
   "metadata": {},
   "source": [
    "We can also specify more about the methodset method - Export methods, and default processing and reporting methods"
   ]
  },
  {
   "cell_type": "code",
   "execution_count": null,
   "metadata": {},
   "outputs": [],
   "source": [
    "with handler:\n",
    "    processing_method_list = handler.GetMethodList(\"Processing\")\n",
    "    report_method_list = handler.GetMethodList(\"Report\")\n",
    "    method_set_method = {\n",
    "        \"name\": \"Complex new methodset method 1\",\n",
    "        \"instrumentMethod\": full_method.method_name,\n",
    "        \"defaultProcessingMethod\": processing_method_list[0],\n",
    "        \"defaultReportingMethod\": report_method_list[0],\n",
    "    }\n",
    "    handler.PostMethodSetMethod(method_set_method)"
   ]
  },
  {
   "cell_type": "markdown",
   "metadata": {},
   "source": [
    "Copying Methods"
   ]
  },
  {
   "cell_type": "code",
   "execution_count": 4,
   "metadata": {},
   "outputs": [
    {
     "name": "stdout",
     "output_type": "stream",
     "text": [
      "test20240627_1\n"
     ]
    }
   ],
   "source": [
    "# Get the list of methods, select one, and get the method details\n",
    "with handler:\n",
    "    method_list = handler.GetMethodList(\n",
    "        method_type=\"InstrumentMethod\"\n",
    "    )  # Get the list of instrument methods\n",
    "    method_name = method_list[-1]  # Select the first method\n",
    "    print(method_name)\n",
    "    full_method = handler.GetInstrumentMethod(method_name)"
   ]
  },
  {
   "cell_type": "code",
   "execution_count": 7,
   "metadata": {},
   "outputs": [
    {
     "name": "stdout",
     "output_type": "stream",
     "text": [
      "New Method Name 1\n",
      "New Method Name Original\n"
     ]
    }
   ],
   "source": [
    "print(full_method.method_name)  # original method name\n",
    "full_method.method_name = \"New Method Name Original\"  # Set the method name\n",
    "print(full_method.method_name)  # new method name"
   ]
  },
  {
   "cell_type": "code",
   "execution_count": 8,
   "metadata": {},
   "outputs": [
    {
     "name": "stdout",
     "output_type": "stream",
     "text": [
      "New Method Name Original\n",
      "New Method Name Copy\n",
      "New Method Name Original\n"
     ]
    }
   ],
   "source": [
    "full_method_copy = full_method.copy()\n",
    "print(full_method_copy.method_name)  # new method name\n",
    "full_method_copy.method_name = \"New Method Name Copy\"  # Set the method name\n",
    "print(full_method_copy.method_name)  # new method name\n",
    "print(full_method.method_name)  # show other method not changed"
   ]
  },
  {
   "cell_type": "code",
   "execution_count": null,
   "metadata": {},
   "outputs": [],
   "source": []
  }
 ],
 "metadata": {
  "kernelspec": {
   "display_name": ".env",
   "language": "python",
   "name": "python3"
  },
  "language_info": {
   "codemirror_mode": {
    "name": "ipython",
    "version": 3
   },
   "file_extension": ".py",
   "mimetype": "text/x-python",
   "name": "python",
   "nbconvert_exporter": "python",
   "pygments_lexer": "ipython3",
   "version": "3.9.1"
  }
 },
 "nbformat": 4,
 "nbformat_minor": 2
}
