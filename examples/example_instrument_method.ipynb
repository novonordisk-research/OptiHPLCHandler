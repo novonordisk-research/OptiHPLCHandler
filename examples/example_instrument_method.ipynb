{
 "cells": [
  {
   "cell_type": "markdown",
   "metadata": {},
   "source": [
    "# Example: Get, inspect, change, and put back a instrument method\n",
    "\n",
    "Here outlines how to interact with instrument methods and module methods.\n",
    "\n",
    "- Finding and getting a instrument method.\n",
    "- Inspecting what types of module methods are in the instrument method.\n",
    "- Inspecting the instrument parameters in the method, including column temperature and gradient table.\n",
    "- Changing instrument parameters and posting the new method.\n",
    "\n",
    "# Finding and getting a instrument method\n",
    "\n",
    "We first find the list of all instrument methods, select one, and get that from Empower:"
   ]
  },
  {
   "cell_type": "code",
   "execution_count": 3,
   "metadata": {},
   "outputs": [
    {
     "name": "stdout",
     "output_type": "stream",
     "text": [
      "Get call to endpoint project/methods?methodTypes=MethodSetMethod could be slow, timeout is set to 20 seconds\n",
      "@BSM_PDA_Template\n"
     ]
    }
   ],
   "source": [
    "import pprint\n",
    "\n",
    "from OptiHPLCHandler import EmpowerHandler\n",
    "\n",
    "# Create an instance of the EmpowerHandler class\n",
    "handler = EmpowerHandler(project=\"WebAPI_test\", address=\"XXXXXX\")\n",
    "\n",
    "# Get the list of methods, select one, and get the method details\n",
    "with handler:\n",
    "    method_list = handler.GetMethodList()  # Get the list of instrument methods\n",
    "    method_name = method_list[0]  # Select the first method\n",
    "    print(method_name)\n",
    "    full_method = handler.GetInstrumentMethod(method_name)"
   ]
  },
  {
   "cell_type": "markdown",
   "metadata": {},
   "source": [
    "# Inspecting the instrument method\n",
    "\n",
    "We can now look into the module methods in the instrument method. "
   ]
  },
  {
   "cell_type": "code",
   "execution_count": 3,
   "metadata": {},
   "outputs": [
    {
     "name": "stdout",
     "output_type": "stream",
     "text": [
      "EmpowerInstrumentMethod with 4 module methods of types EmpowerModuleMethod, EmpowerModuleMethod, ColumnManagerMethod, BSMMethod\n",
      "Valve positions: ['A2', 'B2']\n",
      "\n",
      "\n",
      "Start of gradient table:\n",
      "\n",
      "[ { 'CompositionA': '95.0',\n",
      "    'CompositionB': '5.0',\n",
      "    'Curve': 'Initial',\n",
      "    'Flow': '0.900',\n",
      "    'Time': 'Initial'},\n",
      "  { 'CompositionA': '20.0',\n",
      "    'CompositionB': '80.0',\n",
      "    'Curve': '6',\n",
      "    'Flow': '0.900',\n",
      "    'Time': '2.00'}]\n",
      "\n",
      "\n",
      "Detector settings:\n",
      "\n",
      "    <Description />\n",
      "    <Wavelength>280</Wavelength>\n",
      "    <DataRate>SingleDataRate_20A</DataRate>\n",
      "    <DataMode>SingleMode_1A</DataMode>\n",
      "    <FilterType>Filter_2</FilterType>\n",
      "    <TimeConstant>0.1</TimeConstant>\n",
      "    <RatioMinimum>0.0001</RatioMinimum>\n",
      "    <AutoZeroWavelength>Az_3</AutoZeroWavelength>\n",
      "    <AutoZeroInjectStart>true</AutoZeroInjectStart>\n",
      "    <AutoZeroEventOrKey>true</AutoZeroEventOrKey>\n",
      "  \n"
     ]
    }
   ],
   "source": [
    "pp = pprint.PrettyPrinter(indent=2)\n",
    "\n",
    "print(full_method)\n",
    "print(f\"Valve positions: {full_method.module_method_list[-1].valve_position}\")\n",
    "# Printing the valve position for the solvent manager module method in the list.\n",
    "# Notice that we do not need to know the tag name to print the valve position.\n",
    "print(\"\\n\\nStart of gradient table:\\n\")\n",
    "pp.pprint(full_method.gradient_table[0:2])\n",
    "# Printing the first two entries gradient table.\n",
    "# Notice that we do not need to know the tag names to print the gradient table\n",
    "print(\"\\n\\nDetector settings:\")\n",
    "print(\n",
    "    full_method.module_method_list[0][\"ChannelA\"]\n",
    ")  # Printing the settings for a single channel where we know the tag name (ChannelA)"
   ]
  },
  {
   "cell_type": "markdown",
   "metadata": {},
   "source": [
    "Note that most of the methods are simply EmpowerModuleMethods. That is the generic\n",
    "type for module methods that aren't specifically accounted for. At the moment, that\n",
    "is every type of method expect:\n",
    " - Solvent manager methods (BSMMethod and QSMMethod), which have the special properties `valve_position` and `gradient_table`.\n",
    " - Column oven methods (SampleManagerMethod), which have the special property `column_temperature`.\n",
    "\n",
    "All of the special properties can be accessed as set from the `EmpowerInstrumentMethod`.\n",
    "Getting `EmpowerInstrumentMethod.column_temperature` will produce an error if the\n",
    "instrument method controls several column ovens (e.g. one in a sample manager and one in\n",
    "a column manager), and the column ovens have different temperatures. Setting \n",
    "`EmpowerInstrumentMethod.column_temperature` will set the temperature for all column\n",
    "ovens if there are any, and produce an error otherwise."
   ]
  },
  {
   "cell_type": "markdown",
   "metadata": {},
   "source": [
    "# Changing instrument parameters and posting the new method.\n",
    "\n",
    "We can also change the values of the instrument method, and post the changed method back\n",
    "to Empower, so we can use it to analyse samples.\n",
    "\n",
    "Remember to give the method a new name before posting it to Empower. OptiHPLCHandler\n",
    "does not allow changing methods in Empower, only creating new ones."
   ]
  },
  {
   "cell_type": "code",
   "execution_count": 4,
   "metadata": {},
   "outputs": [
    {
     "name": "stderr",
     "output_type": "stream",
     "text": [
      "Rounding 1.6666666666666667 to 1.667, as Empower only accepts 3 decimals.\n"
     ]
    },
    {
     "ename": "HTTPError",
     "evalue": "HTTP error 409 with message 'Project - Login:  Invalid User/Password.' and ID 8dbe7490ee3986b",
     "output_type": "error",
     "traceback": [
      "\u001b[1;31m---------------------------------------------------------------------------\u001b[0m",
      "\u001b[1;31mHTTPError\u001b[0m                                 Traceback (most recent call last)",
      "\u001b[1;32mc:\\Users\\srfu\\MATLAB\\Projects\\OptiHPLCHandler\\examples\\example_instrument_method.ipynb Cell 7\u001b[0m line \u001b[0;36m1\n\u001b[0;32m     <a href='vscode-notebook-cell:/c%3A/Users/srfu/MATLAB/Projects/OptiHPLCHandler/examples/example_instrument_method.ipynb#W6sZmlsZQ%3D%3D?line=9'>10</a>\u001b[0m full_method\u001b[39m.\u001b[39mvalve_position \u001b[39m=\u001b[39m [\n\u001b[0;32m     <a href='vscode-notebook-cell:/c%3A/Users/srfu/MATLAB/Projects/OptiHPLCHandler/examples/example_instrument_method.ipynb#W6sZmlsZQ%3D%3D?line=10'>11</a>\u001b[0m     \u001b[39m\"\u001b[39m\u001b[39mA2\u001b[39m\u001b[39m\"\u001b[39m,\n\u001b[0;32m     <a href='vscode-notebook-cell:/c%3A/Users/srfu/MATLAB/Projects/OptiHPLCHandler/examples/example_instrument_method.ipynb#W6sZmlsZQ%3D%3D?line=11'>12</a>\u001b[0m     \u001b[39m\"\u001b[39m\u001b[39mB1\u001b[39m\u001b[39m\"\u001b[39m,\n\u001b[0;32m     <a href='vscode-notebook-cell:/c%3A/Users/srfu/MATLAB/Projects/OptiHPLCHandler/examples/example_instrument_method.ipynb#W6sZmlsZQ%3D%3D?line=12'>13</a>\u001b[0m ]  \u001b[39m# Set the valve position to A2 and B1. You can also set only one of the valves.\u001b[39;00m\n\u001b[0;32m     <a href='vscode-notebook-cell:/c%3A/Users/srfu/MATLAB/Projects/OptiHPLCHandler/examples/example_instrument_method.ipynb#W6sZmlsZQ%3D%3D?line=13'>14</a>\u001b[0m full_method\u001b[39m.\u001b[39mmethod_name \u001b[39m=\u001b[39m \u001b[39m\"\u001b[39m\u001b[39mNew method name\u001b[39m\u001b[39m\"\u001b[39m  \u001b[39m# Set the method name\u001b[39;00m\n\u001b[1;32m---> <a href='vscode-notebook-cell:/c%3A/Users/srfu/MATLAB/Projects/OptiHPLCHandler/examples/example_instrument_method.ipynb#W6sZmlsZQ%3D%3D?line=14'>15</a>\u001b[0m \u001b[39mwith\u001b[39;00m handler:\n\u001b[0;32m     <a href='vscode-notebook-cell:/c%3A/Users/srfu/MATLAB/Projects/OptiHPLCHandler/examples/example_instrument_method.ipynb#W6sZmlsZQ%3D%3D?line=15'>16</a>\u001b[0m     handler\u001b[39m.\u001b[39mPostInstrumentMethod(full_method)  \u001b[39m# Post the updated method to Empower\u001b[39;00m\n",
      "File \u001b[1;32m~\\MATLAB\\Projects\\OptiHPLCHandler\\src\\OptiHPLCHandler\\empower_handler.py:100\u001b[0m, in \u001b[0;36mEmpowerHandler.__enter__\u001b[1;34m(self)\u001b[0m\n\u001b[0;32m     98\u001b[0m \u001b[39m\u001b[39m\u001b[39m\"\"\"Start the context manager.\"\"\"\u001b[39;00m\n\u001b[0;32m     99\u001b[0m \u001b[39mif\u001b[39;00m \u001b[39mself\u001b[39m\u001b[39m.\u001b[39mauto_login:\n\u001b[1;32m--> 100\u001b[0m     \u001b[39mself\u001b[39;49m\u001b[39m.\u001b[39;49mlogin(has_context\u001b[39m=\u001b[39;49m\u001b[39mTrue\u001b[39;49;00m)\n\u001b[0;32m    101\u001b[0m \u001b[39mself\u001b[39m\u001b[39m.\u001b[39m_has_context \u001b[39m=\u001b[39m \u001b[39mTrue\u001b[39;00m\n\u001b[0;32m    102\u001b[0m \u001b[39mreturn\u001b[39;00m \u001b[39mself\u001b[39m\n",
      "File \u001b[1;32m~\\MATLAB\\Projects\\OptiHPLCHandler\\src\\OptiHPLCHandler\\empower_handler.py:169\u001b[0m, in \u001b[0;36mEmpowerHandler.login\u001b[1;34m(self, username, password, has_context)\u001b[0m\n\u001b[0;32m    163\u001b[0m     \u001b[39melse\u001b[39;00m:\n\u001b[0;32m    164\u001b[0m         \u001b[39mraise\u001b[39;00m \u001b[39mRuntimeError\u001b[39;00m(\n\u001b[0;32m    165\u001b[0m             \u001b[39m\"\u001b[39m\u001b[39mLogin without context is not allowed. \u001b[39m\u001b[39m\"\u001b[39m\n\u001b[0;32m    166\u001b[0m             \u001b[39m\"\u001b[39m\u001b[39mPlease use a context manager, e.g. \u001b[39m\u001b[39m\"\u001b[39m\n\u001b[0;32m    167\u001b[0m             \u001b[39m\"\u001b[39m\u001b[39m`with EmpowerHandler(...) as handler:...`\u001b[39m\u001b[39m\"\u001b[39m\n\u001b[0;32m    168\u001b[0m         )\n\u001b[1;32m--> 169\u001b[0m \u001b[39mself\u001b[39;49m\u001b[39m.\u001b[39;49mconnection\u001b[39m.\u001b[39;49mlogin(password\u001b[39m=\u001b[39;49mpassword, username\u001b[39m=\u001b[39;49musername)\n",
      "File \u001b[1;32m~\\MATLAB\\Projects\\OptiHPLCHandler\\src\\OptiHPLCHandler\\empower_api_core.py:112\u001b[0m, in \u001b[0;36mEmpowerConnection.login\u001b[1;34m(self, username, password)\u001b[0m\n\u001b[0;32m    110\u001b[0m     logger\u001b[39m.\u001b[39merror(timeout_string)\n\u001b[0;32m    111\u001b[0m     \u001b[39mraise\u001b[39;00m requests\u001b[39m.\u001b[39mexceptions\u001b[39m.\u001b[39mTimeout(timeout_string) \u001b[39mfrom\u001b[39;00m \u001b[39me\u001b[39;00m\n\u001b[1;32m--> 112\u001b[0m \u001b[39mself\u001b[39;49m\u001b[39m.\u001b[39;49mraise_for_status(response)\n\u001b[0;32m    113\u001b[0m \u001b[39mself\u001b[39m\u001b[39m.\u001b[39mtoken \u001b[39m=\u001b[39m response\u001b[39m.\u001b[39mjson()[\u001b[39m\"\u001b[39m\u001b[39mresult\u001b[39m\u001b[39m\"\u001b[39m][\u001b[39m\"\u001b[39m\u001b[39mtoken\u001b[39m\u001b[39m\"\u001b[39m]\n\u001b[0;32m    114\u001b[0m \u001b[39mself\u001b[39m\u001b[39m.\u001b[39msession_id \u001b[39m=\u001b[39m response\u001b[39m.\u001b[39mjson()[\u001b[39m\"\u001b[39m\u001b[39mresult\u001b[39m\u001b[39m\"\u001b[39m][\u001b[39m\"\u001b[39m\u001b[39mid\u001b[39m\u001b[39m\"\u001b[39m]\n",
      "File \u001b[1;32m~\\MATLAB\\Projects\\OptiHPLCHandler\\src\\OptiHPLCHandler\\empower_api_core.py:255\u001b[0m, in \u001b[0;36mEmpowerConnection.raise_for_status\u001b[1;34m(response)\u001b[0m\n\u001b[0;32m    253\u001b[0m     response\u001b[39m.\u001b[39mraise_for_status()\n\u001b[0;32m    254\u001b[0m \u001b[39mexcept\u001b[39;00m requests\u001b[39m.\u001b[39mexceptions\u001b[39m.\u001b[39mHTTPError \u001b[39mas\u001b[39;00m exc:\n\u001b[1;32m--> 255\u001b[0m     \u001b[39mraise\u001b[39;00m requests\u001b[39m.\u001b[39mexceptions\u001b[39m.\u001b[39mHTTPError(\n\u001b[0;32m    256\u001b[0m         \u001b[39mf\u001b[39m\u001b[39m\"\u001b[39m\u001b[39mHTTP error \u001b[39m\u001b[39m{\u001b[39;00mexc\u001b[39m.\u001b[39mresponse\u001b[39m.\u001b[39mstatus_code\u001b[39m}\u001b[39;00m\u001b[39m \u001b[39m\u001b[39m\"\u001b[39m\n\u001b[0;32m    257\u001b[0m         \u001b[39mf\u001b[39m\u001b[39m\"\u001b[39m\u001b[39mwith message \u001b[39m\u001b[39m'\u001b[39m\u001b[39m{\u001b[39;00mexc\u001b[39m.\u001b[39mresponse\u001b[39m.\u001b[39mjson()[\u001b[39m'\u001b[39m\u001b[39mMessage\u001b[39m\u001b[39m'\u001b[39m]\u001b[39m}\u001b[39;00m\u001b[39m'\u001b[39m\u001b[39m \u001b[39m\u001b[39m\"\u001b[39m\n\u001b[0;32m    258\u001b[0m         \u001b[39mf\u001b[39m\u001b[39m\"\u001b[39m\u001b[39mand ID \u001b[39m\u001b[39m{\u001b[39;00mexc\u001b[39m.\u001b[39mresponse\u001b[39m.\u001b[39mjson()[\u001b[39m'\u001b[39m\u001b[39mId\u001b[39m\u001b[39m'\u001b[39m]\u001b[39m}\u001b[39;00m\u001b[39m\"\u001b[39m\n\u001b[0;32m    259\u001b[0m     ) \u001b[39mfrom\u001b[39;00m \u001b[39mNone\u001b[39;00m\n",
      "\u001b[1;31mHTTPError\u001b[0m: HTTP error 409 with message 'Project - Login:  Invalid User/Password.' and ID 8dbe7490ee3986b"
     ]
    }
   ],
   "source": [
    "gradient_table = full_method.gradient_table  # Get the gradient table\n",
    "for step in gradient_table:\n",
    "    step[\"Flow\"] = 0.5  # Set the flow to 0.5 mL/min for all steps\n",
    "gradient_table[1][\"Time\"] = 5 / 3  # Set the time for the second step to 5/3 minutes.\n",
    "# Notice the warning that 1.666666667 minutes is rounded to 1.667, since Empower will\n",
    "# misinterpret values with too many decimals.\n",
    "full_method.gradient_table = (\n",
    "    gradient_table  # Set the gradient table to the updated gradient table\n",
    ")\n",
    "full_method.valve_position = [\n",
    "    \"A2\",\n",
    "    \"B1\",\n",
    "]  # Set the valve position to A2 and B1. You can also set only one of the valves.\n",
    "full_method.method_name = \"New method name\"  # Set the method name\n",
    "with handler:\n",
    "    handler.PostInstrumentMethod(full_method)  # Post the updated method to Empower"
   ]
  }
 ],
 "metadata": {
  "kernelspec": {
   "display_name": ".env",
   "language": "python",
   "name": "python3"
  },
  "language_info": {
   "codemirror_mode": {
    "name": "ipython",
    "version": 3
   },
   "file_extension": ".py",
   "mimetype": "text/x-python",
   "name": "python",
   "nbconvert_exporter": "python",
   "pygments_lexer": "ipython3",
   "version": "3.9.4"
  }
 },
 "nbformat": 4,
 "nbformat_minor": 2
}
