{
 "cells": [
  {
   "cell_type": "markdown",
   "metadata": {},
   "source": [
    "# Example: Get, inspect, change, and put back a instrument method\n",
    "\n",
    "Here outlines how to interact with instrument methods and module methods.\n",
    "\n",
    "- Finding and getting a instrument method.\n",
    "- Inspecting what types of module methods are in the instrument method.\n",
    "- Inspecting the instrument parameters in the method, including column temperature and gradient table.\n",
    "- Changing instrument parameters and posting the new method.\n",
    "\n",
    "# Finding and getting a instrument method\n",
    "\n",
    "We first find the list of all instrument methods, select one, and get that from Empower:"
   ]
  },
  {
   "cell_type": "code",
   "execution_count": 7,
   "metadata": {},
   "outputs": [
    {
     "name": "stdout",
     "output_type": "stream",
     "text": [
      "Get call to endpoint project/methods?methodTypes=MethodSetMethod could be slow, timeout is set to 20 seconds\n",
      "@BSM_PDA_Template\n"
     ]
    }
   ],
   "source": [
    "import pprint\n",
    "\n",
    "from OptiHPLCHandler import EmpowerHandler\n",
    "\n",
    "# Create an instance of the EmpowerHandler class\n",
    "handler = EmpowerHandler(project=\"WebAPI_test\", address=\"XXXXXX\")\n",
    "\n",
    "# Get the list of methods, select one, and get the method details\n",
    "with handler:\n",
    "    method_list = handler.GetMethodList()  # Get the list of instrument methods\n",
    "    method_name = method_list[0]  # Select the first method\n",
    "    print(method_name)\n",
    "    full_method = handler.GetInstrumentMethod(method_name)"
   ]
  },
  {
   "cell_type": "markdown",
   "metadata": {},
   "source": [
    "# Inspecting the instrument method\n",
    "\n",
    "We can now look into the module methods in the instrument method. "
   ]
  },
  {
   "cell_type": "code",
   "execution_count": 3,
   "metadata": {},
   "outputs": [
    {
     "name": "stdout",
     "output_type": "stream",
     "text": [
      "EmpowerInstrumentMethod with 4 module methods of types EmpowerModuleMethod, EmpowerModuleMethod, ColumnManagerMethod, BSMMethod\n",
      "Valve positions: ['A2', 'B2']\n",
      "\n",
      "\n",
      "Start of gradient table:\n",
      "\n",
      "[ { 'CompositionA': '95.0',\n",
      "    'CompositionB': '5.0',\n",
      "    'Curve': 'Initial',\n",
      "    'Flow': '0.900',\n",
      "    'Time': 'Initial'},\n",
      "  { 'CompositionA': '20.0',\n",
      "    'CompositionB': '80.0',\n",
      "    'Curve': '6',\n",
      "    'Flow': '0.900',\n",
      "    'Time': '2.00'}]\n",
      "\n",
      "\n",
      "Detector settings:\n",
      "\n",
      "    <Description />\n",
      "    <Wavelength>280</Wavelength>\n",
      "    <DataRate>SingleDataRate_20A</DataRate>\n",
      "    <DataMode>SingleMode_1A</DataMode>\n",
      "    <FilterType>Filter_2</FilterType>\n",
      "    <TimeConstant>0.1</TimeConstant>\n",
      "    <RatioMinimum>0.0001</RatioMinimum>\n",
      "    <AutoZeroWavelength>Az_3</AutoZeroWavelength>\n",
      "    <AutoZeroInjectStart>true</AutoZeroInjectStart>\n",
      "    <AutoZeroEventOrKey>true</AutoZeroEventOrKey>\n",
      "  \n"
     ]
    }
   ],
   "source": [
    "pp = pprint.PrettyPrinter(indent=2)\n",
    "\n",
    "print(full_method)\n",
    "print(f\"Valve positions: {full_method.module_method_list[-1].valve_position}\")\n",
    "# Printing the valve position for the solvent manager module method in the list.\n",
    "# Notice that we do not need to know the tag name to print the valve position.\n",
    "print(\"\\n\\nStart of gradient table:\\n\")\n",
    "pp.pprint(full_method.gradient_table[0:2])\n",
    "# Printing the first two entries gradient table.\n",
    "# Notice that we do not need to know the tag names to print the gradient table\n",
    "print(\"\\n\\nDetector settings:\")\n",
    "print(\n",
    "    full_method.module_method_list[0][\"ChannelA\"]\n",
    ")  # Printing the settings for a single channel where we know the tag name (ChannelA)"
   ]
  },
  {
   "cell_type": "markdown",
   "metadata": {},
   "source": [
    "Note that most of the methods are simply EmpowerModuleMethods. That is the generic\n",
    "type for module methods that aren't specifically accounted for. At the moment, that\n",
    "is every type of method expect:\n",
    " - Solvent manager methods (BSMMethod and QSMMethod), which have the special properties `valve_position` and `gradient_table`.\n",
    " - Column oven methods (SampleManagerMethod), which have the special property `column_temperature`.\n",
    "\n",
    "All of the special properties can be accessed as set from the `EmpowerInstrumentMethod`.\n",
    "Getting `EmpowerInstrumentMethod.column_temperature` will produce an error if the\n",
    "instrument method controls several column ovens (e.g. one in a sample manager and one in\n",
    "a column manager), and the column ovens have different temperatures. Setting \n",
    "`EmpowerInstrumentMethod.column_temperature` will set the temperature for all column\n",
    "ovens if there are any, and produce an error otherwise."
   ]
  },
  {
   "cell_type": "markdown",
   "metadata": {},
   "source": [
    "# Changing instrument parameters and posting the new method.\n",
    "\n",
    "We can also change the values of the instrument method, and post the changed method back\n",
    "to Empower, so we can use it to analyse samples.\n",
    "\n",
    "Remember to give the method a new name before posting it to Empower. OptiHPLCHandler\n",
    "does not allow changing methods in Empower, only creating new ones."
   ]
  },
  {
   "cell_type": "code",
   "execution_count": 8,
   "metadata": {},
   "outputs": [
    {
     "name": "stderr",
     "output_type": "stream",
     "text": [
      "Rounding 1.6666666666666667 to 1.667, as Empower only accepts 3 decimals.\n",
      "C:\\Users\\srfu\\MATLAB\\Projects\\OptiHPLCHandler\\src\\OptiHPLCHandler\\empower_api_core.py:231: UserWarning: The password will be sent in plain text.\n",
      "  warnings.warn(\"The password will be sent in plain text.\")\n"
     ]
    },
    {
     "ename": "Exception",
     "evalue": "HTTP error 409 with message 'The Instrument Method 'New method name' is already existing, please enter a different name.' and ID 8dbe6b5987053aa",
     "output_type": "error",
     "traceback": [
      "\u001b[1;31m---------------------------------------------------------------------------\u001b[0m",
      "\u001b[1;31mException\u001b[0m                                 Traceback (most recent call last)",
      "\u001b[1;32mc:\\Users\\srfu\\MATLAB\\Projects\\OptiHPLCHandler\\examples\\example_instrument_method.ipynb Cell 7\u001b[0m line \u001b[0;36m1\n\u001b[0;32m     <a href='vscode-notebook-cell:/c%3A/Users/srfu/MATLAB/Projects/OptiHPLCHandler/examples/example_instrument_method.ipynb#X15sZmlsZQ%3D%3D?line=13'>14</a>\u001b[0m full_method\u001b[39m.\u001b[39mmethod_name \u001b[39m=\u001b[39m \u001b[39m\"\u001b[39m\u001b[39mNew method name\u001b[39m\u001b[39m\"\u001b[39m  \u001b[39m# Set the method name\u001b[39;00m\n\u001b[0;32m     <a href='vscode-notebook-cell:/c%3A/Users/srfu/MATLAB/Projects/OptiHPLCHandler/examples/example_instrument_method.ipynb#X15sZmlsZQ%3D%3D?line=14'>15</a>\u001b[0m \u001b[39mwith\u001b[39;00m handler:\n\u001b[1;32m---> <a href='vscode-notebook-cell:/c%3A/Users/srfu/MATLAB/Projects/OptiHPLCHandler/examples/example_instrument_method.ipynb#X15sZmlsZQ%3D%3D?line=15'>16</a>\u001b[0m     handler\u001b[39m.\u001b[39;49mPostInstrumentMethod(full_method)  \u001b[39m# Post the updated method to Empower\u001b[39;00m\n",
      "File \u001b[1;32m~\\MATLAB\\Projects\\OptiHPLCHandler\\src\\OptiHPLCHandler\\empower_handler.py:364\u001b[0m, in \u001b[0;36mEmpowerHandler.PostInstrumentMethod\u001b[1;34m(self, method)\u001b[0m\n\u001b[0;32m    359\u001b[0m \u001b[39m\u001b[39m\u001b[39m\"\"\"\u001b[39;00m\n\u001b[0;32m    360\u001b[0m \u001b[39mPost a method set method to Empower.\u001b[39;00m\n\u001b[0;32m    361\u001b[0m \n\u001b[0;32m    362\u001b[0m \u001b[39m:param method: The method set method to post.\"\"\"\u001b[39;00m\n\u001b[0;32m    363\u001b[0m endpoint \u001b[39m=\u001b[39m \u001b[39m\"\u001b[39m\u001b[39mproject/methods/instrument-method?overWriteExisting=false\u001b[39m\u001b[39m\"\u001b[39m\n\u001b[1;32m--> 364\u001b[0m \u001b[39mself\u001b[39;49m\u001b[39m.\u001b[39;49mconnection\u001b[39m.\u001b[39;49mpost(endpoint\u001b[39m=\u001b[39;49mendpoint, body\u001b[39m=\u001b[39;49mmethod\u001b[39m.\u001b[39;49mcurrent_method)\n",
      "File \u001b[1;32m~\\MATLAB\\Projects\\OptiHPLCHandler\\src\\OptiHPLCHandler\\empower_api_core.py:213\u001b[0m, in \u001b[0;36mEmpowerConnection.post\u001b[1;34m(self, endpoint, body, timeout)\u001b[0m\n\u001b[0;32m    208\u001b[0m     logger\u001b[39m.\u001b[39mdebug(\u001b[39m\"\u001b[39m\u001b[39mTimeout changed from default value to \u001b[39m\u001b[39m%s\u001b[39;00m\u001b[39m\"\u001b[39m, timeout)\n\u001b[0;32m    209\u001b[0m     \u001b[39mprint\u001b[39m(\n\u001b[0;32m    210\u001b[0m         \u001b[39mf\u001b[39m\u001b[39m\"\u001b[39m\u001b[39mPost call to endpoint \u001b[39m\u001b[39m{\u001b[39;00mendpoint\u001b[39m}\u001b[39;00m\u001b[39m could be slow, \u001b[39m\u001b[39m\"\u001b[39m\n\u001b[0;32m    211\u001b[0m         \u001b[39mf\u001b[39m\u001b[39m\"\u001b[39m\u001b[39mtimeout is set to \u001b[39m\u001b[39m{\u001b[39;00mtimeout\u001b[39m}\u001b[39;00m\u001b[39m seconds\u001b[39m\u001b[39m\"\u001b[39m\n\u001b[0;32m    212\u001b[0m     )\n\u001b[1;32m--> 213\u001b[0m response \u001b[39m=\u001b[39m \u001b[39mself\u001b[39;49m\u001b[39m.\u001b[39;49m_requests_wrapper(\n\u001b[0;32m    214\u001b[0m     method\u001b[39m=\u001b[39;49m\u001b[39m\"\u001b[39;49m\u001b[39mpost\u001b[39;49m\u001b[39m\"\u001b[39;49m, endpoint\u001b[39m=\u001b[39;49mendpoint, body\u001b[39m=\u001b[39;49mbody, timeout\u001b[39m=\u001b[39;49mtimeout\n\u001b[0;32m    215\u001b[0m )\n\u001b[0;32m    216\u001b[0m \u001b[39mreturn\u001b[39;00m response\n",
      "File \u001b[1;32m~\\MATLAB\\Projects\\OptiHPLCHandler\\src\\OptiHPLCHandler\\empower_api_core.py:177\u001b[0m, in \u001b[0;36mEmpowerConnection._requests_wrapper\u001b[1;34m(self, method, endpoint, body, timeout)\u001b[0m\n\u001b[0;32m    173\u001b[0m     response \u001b[39m=\u001b[39m _request_with_timeout(\n\u001b[0;32m    174\u001b[0m         method, address, \u001b[39mself\u001b[39m\u001b[39m.\u001b[39mauthorization_header, body, timeout\n\u001b[0;32m    175\u001b[0m     )\n\u001b[0;32m    176\u001b[0m logger\u001b[39m.\u001b[39mdebug(\u001b[39m\"\u001b[39m\u001b[39mGot response \u001b[39m\u001b[39m%s\u001b[39;00m\u001b[39m from \u001b[39m\u001b[39m%s\u001b[39;00m\u001b[39m\"\u001b[39m, response\u001b[39m.\u001b[39mtext, address)\n\u001b[1;32m--> 177\u001b[0m \u001b[39mself\u001b[39;49m\u001b[39m.\u001b[39;49mraise_for_status(response)\n\u001b[0;32m    178\u001b[0m \u001b[39mreturn\u001b[39;00m response\n",
      "File \u001b[1;32m~\\MATLAB\\Projects\\OptiHPLCHandler\\src\\OptiHPLCHandler\\empower_api_core.py:255\u001b[0m, in \u001b[0;36mEmpowerConnection.raise_for_status\u001b[1;34m(response)\u001b[0m\n\u001b[0;32m    253\u001b[0m     response\u001b[39m.\u001b[39mraise_for_status()\n\u001b[0;32m    254\u001b[0m \u001b[39mexcept\u001b[39;00m requests\u001b[39m.\u001b[39mexceptions\u001b[39m.\u001b[39mHTTPError \u001b[39mas\u001b[39;00m exc:\n\u001b[1;32m--> 255\u001b[0m     \u001b[39mraise\u001b[39;00m \u001b[39mException\u001b[39;00m(\n\u001b[0;32m    256\u001b[0m         \u001b[39mf\u001b[39m\u001b[39m\"\u001b[39m\u001b[39mHTTP error \u001b[39m\u001b[39m{\u001b[39;00mexc\u001b[39m.\u001b[39mresponse\u001b[39m.\u001b[39mstatus_code\u001b[39m}\u001b[39;00m\u001b[39m \u001b[39m\u001b[39m\"\u001b[39m\n\u001b[0;32m    257\u001b[0m         \u001b[39mf\u001b[39m\u001b[39m\"\u001b[39m\u001b[39mwith message \u001b[39m\u001b[39m'\u001b[39m\u001b[39m{\u001b[39;00mexc\u001b[39m.\u001b[39mresponse\u001b[39m.\u001b[39mjson()[\u001b[39m'\u001b[39m\u001b[39mMessage\u001b[39m\u001b[39m'\u001b[39m]\u001b[39m}\u001b[39;00m\u001b[39m'\u001b[39m\u001b[39m \u001b[39m\u001b[39m\"\u001b[39m\n\u001b[0;32m    258\u001b[0m         \u001b[39mf\u001b[39m\u001b[39m\"\u001b[39m\u001b[39mand ID \u001b[39m\u001b[39m{\u001b[39;00mexc\u001b[39m.\u001b[39mresponse\u001b[39m.\u001b[39mjson()[\u001b[39m'\u001b[39m\u001b[39mId\u001b[39m\u001b[39m'\u001b[39m]\u001b[39m}\u001b[39;00m\u001b[39m\"\u001b[39m\n\u001b[0;32m    259\u001b[0m     ) \u001b[39mfrom\u001b[39;00m \u001b[39mNone\u001b[39;00m\n",
      "\u001b[1;31mException\u001b[0m: HTTP error 409 with message 'The Instrument Method 'New method name' is already existing, please enter a different name.' and ID 8dbe6b5987053aa"
     ]
    }
   ],
   "source": [
    "gradient_table = full_method.gradient_table  # Get the gradient table\n",
    "for step in gradient_table:\n",
    "    step[\"Flow\"] = 0.5  # Set the flow to 0.5 mL/min for all steps\n",
    "gradient_table[1][\"Time\"] = 5 / 3  # Set the time for the second step to 5/3 minutes.\n",
    "# Notice the warning that 1.666666667 minutes is rounded to 1.667, since Empower will\n",
    "# misintertpret values with too many decimals.\n",
    "full_method.gradient_table = (\n",
    "    gradient_table  # Set the gradient table to the updated gradient table\n",
    ")\n",
    "full_method.valve_position = [\n",
    "    \"A2\",\n",
    "    \"B1\",\n",
    "]  # Set the valve position to A2 and B1. You can also set only one of the valves.\n",
    "full_method.method_name = \"New method name\"  # Set the method name\n",
    "with handler:\n",
    "    handler.PostInstrumentMethod(full_method)  # Post the updated method to Empower"
   ]
  }
 ],
 "metadata": {
  "kernelspec": {
   "display_name": ".env",
   "language": "python",
   "name": "python3"
  },
  "language_info": {
   "codemirror_mode": {
    "name": "ipython",
    "version": 3
   },
   "file_extension": ".py",
   "mimetype": "text/x-python",
   "name": "python",
   "nbconvert_exporter": "python",
   "pygments_lexer": "ipython3",
   "version": "3.9.4"
  }
 },
 "nbformat": 4,
 "nbformat_minor": 2
}
