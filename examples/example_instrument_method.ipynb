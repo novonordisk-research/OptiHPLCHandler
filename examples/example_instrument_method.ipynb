{
 "cells": [
  {
   "cell_type": "markdown",
   "metadata": {},
   "source": [
    "# Example: Get, inspect, change, and put back a instrument method with a binary solvent manager\n",
    "\n",
    "Here outlines how to interact with instrument methods and module methods.\n",
    "\n",
    "- Finding and getting a instrument method.\n",
    "- Inspecting what types of module methods are in the instrument method.\n",
    "- Inspecting the instrument parameters in the method, including column temperature and gradient table.\n",
    "- Changing instrument parameters and posting the new method."
   ]
  },
  {
   "cell_type": "markdown",
   "metadata": {},
   "source": [
    "Get API Address"
   ]
  },
  {
   "cell_type": "code",
   "execution_count": 1,
   "metadata": {},
   "outputs": [],
   "source": [
    "import os\n",
    "from dotenv import load_dotenv\n",
    "\n",
    "# get api address from .env file\n",
    "load_dotenv(\"../.env_vars\")\n",
    "EMPOWER_API_ADDRESS = os.getenv(\"EMPOWER_API_ADDRESS_PRD\")"
   ]
  },
  {
   "cell_type": "markdown",
   "metadata": {},
   "source": [
    "# Finding and getting a instrument method\n",
    "\n",
    "We first find the list of all instrument methods, select one, and get that from Empower:"
   ]
  },
  {
   "cell_type": "code",
   "execution_count": 2,
   "metadata": {},
   "outputs": [
    {
     "name": "stdout",
     "output_type": "stream",
     "text": [
      "@BSM_PDA_Template\n"
     ]
    }
   ],
   "source": [
    "import pprint\n",
    "\n",
    "from OptiHPLCHandler import EmpowerHandler\n",
    "\n",
    "# Create an instance of the EmpowerHandler class\n",
    "handler = EmpowerHandler(project=\"WebAPI_test\", address=EMPOWER_API_ADDRESS)\n",
    "handler.connection.default_get_timeout = 120\n",
    "handler.connection.default_post_timeout = 120\n",
    "\n",
    "# Get the list of methods, select one, and get the method details\n",
    "with handler:\n",
    "    method_list = handler.GetMethodList()  # Get the list of instrument methods\n",
    "    method_name = method_list[0]  # Select the first method\n",
    "    print(method_name)\n",
    "    full_method = handler.GetInstrumentMethod(method_name)"
   ]
  },
  {
   "cell_type": "markdown",
   "metadata": {},
   "source": [
    "# Inspecting the instrument method\n",
    "\n",
    "We can now look into the module methods in the instrument method. "
   ]
  },
  {
   "cell_type": "code",
   "execution_count": 3,
   "metadata": {},
   "outputs": [
    {
     "name": "stdout",
     "output_type": "stream",
     "text": [
      "EmpowerInstrumentMethod with 4 module methods of types PDAMethod, EmpowerModuleMethod, ColumnManagerMethod, BSMMethod\n",
      "Valve positions: ['A1', 'B2']\n",
      "\n",
      "\n",
      "Start of gradient table:\n",
      "\n",
      "[ { 'CompositionA': '50.0',\n",
      "    'CompositionB': '50.0',\n",
      "    'Curve': 'Initial',\n",
      "    'Flow': '0.300',\n",
      "    'Time': 'Initial'},\n",
      "  { 'CompositionA': '0.0',\n",
      "    'CompositionB': '100.0',\n",
      "    'Curve': '6',\n",
      "    'Flow': '0.300',\n",
      "    'Time': '1.00'}]\n"
     ]
    }
   ],
   "source": [
    "pp = pprint.PrettyPrinter(indent=2)\n",
    "\n",
    "print(full_method)\n",
    "print(f\"Valve positions: {full_method.module_method_list[-1].valve_position}\")\n",
    "# Printing the valve position for the solvent manager module method in the list.\n",
    "# Notice that we do not need to know the tag name to print the valve position.\n",
    "print(\"\\n\\nStart of gradient table:\\n\")\n",
    "pp.pprint(full_method.gradient_table[0:2])\n",
    "# Printing the first two entries gradient table.\n",
    "# Notice that we do not need to know the tag names to print the gradient table"
   ]
  },
  {
   "cell_type": "code",
   "execution_count": 26,
   "metadata": {},
   "outputs": [
    {
     "name": "stdout",
     "output_type": "stream",
     "text": [
      "\n",
      "\n",
      "Detector settings:\n",
      "[<OptiHPLCHandler.empower_detector_module_method.PDAMethod object at 0x0000025216F76F10>]\n",
      "\n",
      "Lamp status:\n",
      "True\n",
      "\n",
      "Channel settings:\n",
      "{'Channel1': {'Enable': True,\n",
      "              'Type': 'Single',\n",
      "              'Wavelength1': '214',\n",
      "              'XML': '<Channel1>\\r\\n'\n",
      "                     '    <Enable>true</Enable>\\r\\n'\n",
      "                     '    <DataMode>DataModeAbsorbance_0</DataMode>\\r\\n'\n",
      "                     '    <Wavelength1>214</Wavelength1>\\r\\n'\n",
      "                     '    <Wavelength2>498</Wavelength2>\\r\\n'\n",
      "                     '    <Resolution>Resolution_48</Resolution>\\r\\n'\n",
      "                     '    <Ratio2DMinimumAU>0.01</Ratio2DMinimumAU>\\r\\n'\n",
      "                     '  </Channel1>'},\n",
      " 'Channel2': {'Enable': False,\n",
      "              'Type': 'Single',\n",
      "              'Wavelength1': '254',\n",
      "              'XML': '<Channel2>\\r\\n'\n",
      "                     '    <Enable>false</Enable>\\r\\n'\n",
      "                     '    <DataMode>DataModeAbsorbance_0</DataMode>\\r\\n'\n",
      "                     '    <Wavelength1>254</Wavelength1>\\r\\n'\n",
      "                     '    <Wavelength2>254</Wavelength2>\\r\\n'\n",
      "                     '    <Resolution>Resolution_48</Resolution>\\r\\n'\n",
      "                     '    <Ratio2DMinimumAU>0.01</Ratio2DMinimumAU>\\r\\n'\n",
      "                     '  </Channel2>'},\n",
      " 'Channel3': {'Enable': False,\n",
      "              'Type': 'Single',\n",
      "              'Wavelength1': '254',\n",
      "              'XML': '<Channel3>\\r\\n'\n",
      "                     '    <Enable>false</Enable>\\r\\n'\n",
      "                     '    <DataMode>DataModeAbsorbance_0</DataMode>\\r\\n'\n",
      "                     '    <Wavelength1>254</Wavelength1>\\r\\n'\n",
      "                     '    <Wavelength2>254</Wavelength2>\\r\\n'\n",
      "                     '    <Resolution>Resolution_48</Resolution>\\r\\n'\n",
      "                     '    <Ratio2DMinimumAU>0.01</Ratio2DMinimumAU>\\r\\n'\n",
      "                     '  </Channel3>'},\n",
      " 'Channel4': {'Enable': False,\n",
      "              'Type': 'Single',\n",
      "              'Wavelength1': '254',\n",
      "              'XML': '<Channel4>\\r\\n'\n",
      "                     '    <Enable>false</Enable>\\r\\n'\n",
      "                     '    <DataMode>DataModeAbsorbance_0</DataMode>\\r\\n'\n",
      "                     '    <Wavelength1>254</Wavelength1>\\r\\n'\n",
      "                     '    <Wavelength2>254</Wavelength2>\\r\\n'\n",
      "                     '    <Resolution>Resolution_48</Resolution>\\r\\n'\n",
      "                     '    <Ratio2DMinimumAU>0.01</Ratio2DMinimumAU>\\r\\n'\n",
      "                     '  </Channel4>'},\n",
      " 'Channel5': {'Enable': False,\n",
      "              'Type': 'Single',\n",
      "              'Wavelength1': '254',\n",
      "              'XML': '<Channel5>\\r\\n'\n",
      "                     '    <Enable>false</Enable>\\r\\n'\n",
      "                     '    <DataMode>DataModeAbsorbance_0</DataMode>\\r\\n'\n",
      "                     '    <Wavelength1>254</Wavelength1>\\r\\n'\n",
      "                     '    <Wavelength2>254</Wavelength2>\\r\\n'\n",
      "                     '    <Resolution>Resolution_48</Resolution>\\r\\n'\n",
      "                     '    <Ratio2DMinimumAU>0.01</Ratio2DMinimumAU>\\r\\n'\n",
      "                     '  </Channel5>'},\n",
      " 'Channel6': {'Enable': False,\n",
      "              'Type': 'Single',\n",
      "              'Wavelength1': '254',\n",
      "              'XML': '<Channel6>\\r\\n'\n",
      "                     '    <Enable>false</Enable>\\r\\n'\n",
      "                     '    <DataMode>DataModeAbsorbance_0</DataMode>\\r\\n'\n",
      "                     '    <Wavelength1>254</Wavelength1>\\r\\n'\n",
      "                     '    <Wavelength2>254</Wavelength2>\\r\\n'\n",
      "                     '    <Resolution>Resolution_48</Resolution>\\r\\n'\n",
      "                     '    <Ratio2DMinimumAU>0.01</Ratio2DMinimumAU>\\r\\n'\n",
      "                     '  </Channel6>'},\n",
      " 'Channel7': {'Enable': False,\n",
      "              'Type': 'Single',\n",
      "              'Wavelength1': '254',\n",
      "              'XML': '<Channel7>\\r\\n'\n",
      "                     '    <Enable>false</Enable>\\r\\n'\n",
      "                     '    <DataMode>DataModeAbsorbance_0</DataMode>\\r\\n'\n",
      "                     '    <Wavelength1>254</Wavelength1>\\r\\n'\n",
      "                     '    <Wavelength2>254</Wavelength2>\\r\\n'\n",
      "                     '    <Resolution>Resolution_48</Resolution>\\r\\n'\n",
      "                     '    <Ratio2DMinimumAU>0.01</Ratio2DMinimumAU>\\r\\n'\n",
      "                     '  </Channel7>'},\n",
      " 'Channel8': {'Enable': False,\n",
      "              'Type': 'Single',\n",
      "              'Wavelength1': '254',\n",
      "              'XML': '<Channel8>\\r\\n'\n",
      "                     '    <Enable>false</Enable>\\r\\n'\n",
      "                     '    <DataMode>DataModeAbsorbance_0</DataMode>\\r\\n'\n",
      "                     '    <Wavelength1>254</Wavelength1>\\r\\n'\n",
      "                     '    <Wavelength2>254</Wavelength2>\\r\\n'\n",
      "                     '    <Resolution>Resolution_48</Resolution>\\r\\n'\n",
      "                     '    <Ratio2DMinimumAU>0.01</Ratio2DMinimumAU>\\r\\n'\n",
      "                     '  </Channel8>'},\n",
      " 'SpectralChannel': {'Enable': False,\n",
      "                     'EndWavelength': '400',\n",
      "                     'StartWavelength': '210',\n",
      "                     'Type': 'Spectral',\n",
      "                     'XML': '<SpectralChannel>\\r\\n'\n",
      "                            '    <Enable>false</Enable>\\r\\n'\n",
      "                            '    <StartWavelength>210</StartWavelength>\\r\\n'\n",
      "                            '    <EndWavelength>400</EndWavelength>\\r\\n'\n",
      "                            '    <Resolution>Resolution_12</Resolution>\\r\\n'\n",
      "                            '  </SpectralChannel>'}}\n"
     ]
    }
   ],
   "source": [
    "print(\"\\n\\nDetector settings:\")\n",
    "# The list of detectors found in the instrument method\n",
    "print(full_method.detector_method_list)\n",
    "\n",
    "# Check if lamp enabled\n",
    "print(\"\\nLamp status:\")\n",
    "print(full_method.detector_method_list[0].lamp_enabled)\n",
    "\n",
    "# Check the channel settings\n",
    "print(\"\\nChannel settings:\")\n",
    "pprint.pprint(full_method.detector_method_list[0].channel_dict)"
   ]
  },
  {
   "cell_type": "markdown",
   "metadata": {},
   "source": [
    "Note that most of the methods are simply EmpowerModuleMethods. That is the generic\n",
    "type for module methods that aren't specifically accounted for. At the moment, that\n",
    "is every type of method expect:\n",
    " - Solvent manager methods (BSMMethod and QSMMethod), which have the special properties `valve_position` and `gradient_table`.\n",
    " - Column oven methods (SampleManagerMethod), which have the special property `column_temperature`.\n",
    "\n",
    "All of the special properties can be accessed as set from the `EmpowerInstrumentMethod`.\n",
    "Getting `EmpowerInstrumentMethod.column_temperature` will produce an error if the\n",
    "instrument method controls several column ovens (e.g. one in a sample manager and one in\n",
    "a column manager), and the column ovens have different temperatures. Setting \n",
    "`EmpowerInstrumentMethod.column_temperature` will set the temperature for all column\n",
    "ovens if there are any, and produce an error otherwise."
   ]
  },
  {
   "cell_type": "markdown",
   "metadata": {},
   "source": [
    "Here is an example for a quaternary system:"
   ]
  },
  {
   "cell_type": "code",
   "execution_count": 9,
   "metadata": {},
   "outputs": [
    {
     "name": "stdout",
     "output_type": "stream",
     "text": [
      "@QSM_PDA_Template\n"
     ]
    }
   ],
   "source": [
    "import pprint\n",
    "\n",
    "from OptiHPLCHandler import EmpowerHandler\n",
    "\n",
    "# Create an instance of the EmpowerHandler class\n",
    "handler = EmpowerHandler(project=\"WebAPI_test\", address=EMPOWER_API_ADDRESS)\n",
    "\n",
    "# Get the list of methods, select one, and get the method details\n",
    "with handler:\n",
    "    method_list = handler.GetMethodList()  # Get the list of instrument methods\n",
    "    method_name = method_list[2]  # Select the first method\n",
    "    print(method_name)\n",
    "    full_method = handler.GetInstrumentMethod(method_name)"
   ]
  },
  {
   "cell_type": "code",
   "execution_count": 14,
   "metadata": {},
   "outputs": [
    {
     "name": "stdout",
     "output_type": "stream",
     "text": [
      "EmpowerInstrumentMethod with 4 module methods of types QSMMethod, EmpowerModuleMethod, EmpowerModuleMethod, ColumnManagerMethod\n",
      "Valve positions: ['A0', 'B0', 'C0', 'D0']\n",
      "\n",
      "\n",
      "Start of gradient table:\n",
      "\n",
      "[ { 'CompositionA': '90.0',\n",
      "    'CompositionB': '10.0',\n",
      "    'CompositionC': '0.0',\n",
      "    'CompositionD': '0.0',\n",
      "    'Curve': 'Initial',\n",
      "    'Flow': '0.400',\n",
      "    'Time': 'Initial'},\n",
      "  { 'CompositionA': '90.0',\n",
      "    'CompositionB': '10.0',\n",
      "    'CompositionC': '0.0',\n",
      "    'CompositionD': '0.0',\n",
      "    'Curve': '6',\n",
      "    'Flow': '0.400',\n",
      "    'Time': '1.00'}]\n"
     ]
    }
   ],
   "source": [
    "pp = pprint.PrettyPrinter(indent=2)\n",
    "\n",
    "print(full_method)\n",
    "print(f\"Valve positions: {full_method.module_method_list[0].valve_position}\")\n",
    "# Printing the valve position for the solvent manager module method in the list.\n",
    "print(\"\\n\\nStart of gradient table:\\n\")\n",
    "pp.pprint(full_method.gradient_table[0:2])\n",
    "# Printing the first two entries gradient table."
   ]
  },
  {
   "cell_type": "markdown",
   "metadata": {},
   "source": [
    "# Changing instrument parameters and posting the new method.\n",
    "\n",
    "We can also change the values of the instrument method, and post the changed method back\n",
    "to Empower, so we can use it to analyse samples.\n",
    "\n",
    "Remember to give the method a new name before posting it to Empower. OptiHPLCHandler\n",
    "does not allow changing methods in Empower, only creating new ones."
   ]
  },
  {
   "cell_type": "code",
   "execution_count": null,
   "metadata": {},
   "outputs": [],
   "source": [
    "gradient_table = full_method.gradient_table  # Get the gradient table\n",
    "for step in gradient_table:\n",
    "    step[\"Flow\"] = 0.5  # Set the flow to 0.5 mL/min for all steps\n",
    "gradient_table[1][\"Time\"] = 5 / 3  # Set the time for the second step to 5/3 minutes.\n",
    "# Notice the warning that 1.666666667 minutes is rounded to 1.667, since Empower will\n",
    "# misinterpret values with too many decimals.\n",
    "full_method.gradient_table = (\n",
    "    gradient_table  # Set the gradient table to the updated gradient table\n",
    ")\n",
    "full_method.valve_position = [\n",
    "    \"A2\",\n",
    "    \"B1\",\n",
    "]  # Set the valve position to A2 and B1. You can also set only one of the valves.\n",
    "full_method.method_name = \"New method name\"  # Set the method name\n",
    "with handler:\n",
    "    handler.PostInstrumentMethod(full_method)  # Post the updated method to Empower"
   ]
  },
  {
   "cell_type": "markdown",
   "metadata": {},
   "source": [
    "# MethodSet methods\n",
    "\n",
    "In order to run an instrument method, we need a methodset method that includes it.\n",
    "\n",
    "Let's start by logging in, getting the list of all methodset methods present, and look\n",
    "at one of them"
   ]
  },
  {
   "cell_type": "code",
   "execution_count": 3,
   "metadata": {},
   "outputs": [
    {
     "name": "stdout",
     "output_type": "stream",
     "text": [
      "['@BSM_PDA_Template', '@BSM_TUV_Template', '@QSM_PDA_Template', 'B104_11_IClass_280nm_UPLC12', 'BSM_Sys12_Original', 'CMS_test_23460013_1', 'CMS_test_23460013_2']\n"
     ]
    },
    {
     "data": {
      "text/plain": [
       "{'name': '@BSM_PDA_Template',\n",
       " 'isLocked': False,\n",
       " 'id': 1463,\n",
       " 'version': 1,\n",
       " 'date': '2023-11-10T08:18:55',\n",
       " 'comments': '',\n",
       " 'modifiedBy': 'SLCB',\n",
       " 'revisionHistory': [{'id': 1463,\n",
       "   'version': 1,\n",
       "   'modificationDate': '10-Nov-2023 08:18:55 CET',\n",
       "   'user': 'SLCB',\n",
       "   'comment': \"Created method '@BSM_PDA_Template'.\"}],\n",
       " 'instrumentMethod': '@BSM_PDA_Template'}"
      ]
     },
     "execution_count": 3,
     "metadata": {},
     "output_type": "execute_result"
    }
   ],
   "source": [
    "with handler:\n",
    "    methodset_method_list = handler.GetMethodList(\"MethodSet\")\n",
    "    print(methodset_method_list)\n",
    "    methodsset_method = handler.GetMethodSetMethod(methodset_method_list[0])\n",
    "methodsset_method"
   ]
  },
  {
   "cell_type": "markdown",
   "metadata": {},
   "source": [
    "We can now create a simple MethodSet method"
   ]
  },
  {
   "cell_type": "code",
   "execution_count": 7,
   "metadata": {},
   "outputs": [],
   "source": [
    "method_set_method = {\n",
    "    \"name\": \"New methodset method\",\n",
    "    \"instrumentMethod\": full_method.method_name,\n",
    "}\n",
    "with handler:\n",
    "    handler.PostMethodSetMethod(method_set_method)"
   ]
  },
  {
   "cell_type": "markdown",
   "metadata": {},
   "source": [
    "We can also specify more about the methodset method - Export methods, and default processing and reporting methods"
   ]
  },
  {
   "cell_type": "code",
   "execution_count": 6,
   "metadata": {},
   "outputs": [],
   "source": [
    "with handler:\n",
    "    processing_method_list = handler.GetMethodList(\"Processing\")\n",
    "    report_method_list = handler.GetMethodList(\"Report\")\n",
    "    method_set_method = {\n",
    "        \"name\": \"Complex new methodset method\",\n",
    "        \"instrumentMethod\": full_method.method_name,\n",
    "        \"defaultProcessingMethod\": processing_method_list[0],\n",
    "        \"defaultReportingMethod\": report_method_list[0],\n",
    "    }\n",
    "    handler.PostMethodSetMethod(method_set_method)"
   ]
  }
 ],
 "metadata": {
  "kernelspec": {
   "display_name": ".env",
   "language": "python",
   "name": "python3"
  },
  "language_info": {
   "codemirror_mode": {
    "name": "ipython",
    "version": 3
   },
   "file_extension": ".py",
   "mimetype": "text/x-python",
   "name": "python",
   "nbconvert_exporter": "python",
   "pygments_lexer": "ipython3",
   "version": "3.9.1"
  }
 },
 "nbformat": 4,
 "nbformat_minor": 2
}
