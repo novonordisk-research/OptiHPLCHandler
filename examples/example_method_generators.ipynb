{
 "cells": [
  {
   "cell_type": "code",
   "execution_count": 1,
   "metadata": {},
   "outputs": [],
   "source": [
    "from OptiHPLCHandler import EmpowerHandler\n",
    "from pprint import pprint\n",
    "import sys\n",
    "\n",
    "sys.path.insert(0, \"../\")"
   ]
  },
  {
   "cell_type": "code",
   "execution_count": 2,
   "metadata": {},
   "outputs": [],
   "source": [
    "# get api address from .env file\n",
    "import os\n",
    "from dotenv import load_dotenv\n",
    "\n",
    "load_dotenv(\"../.env_vars\")\n",
    "EMPOWER_API_ADDRESS = os.getenv(\"EMPOWER_API_ADDRESS_PRD\")"
   ]
  },
  {
   "cell_type": "markdown",
   "metadata": {},
   "source": [
    "Get instrument method"
   ]
  },
  {
   "cell_type": "code",
   "execution_count": 3,
   "metadata": {},
   "outputs": [],
   "source": [
    "# Create an instance of the EmpowerHandler class\n",
    "handler = EmpowerHandler(project=\"WebAPI_test\", address=EMPOWER_API_ADDRESS)\n",
    "\n",
    "handler.connection.default_get_timeout = 300\n",
    "handler.connection.default_post_timeout = 300\n",
    "\n",
    "# Get the list of methods, select one, and get the method details\n",
    "with handler:\n",
    "    method_list = handler.GetMethodList()  # Get the list of instrument methods\n",
    "    method_name = \"20240430_slcb\"\n",
    "    full_method = handler.GetInstrumentMethod(method_name)"
   ]
  },
  {
   "cell_type": "markdown",
   "metadata": {},
   "source": [
    "Original method name and gradient table"
   ]
  },
  {
   "cell_type": "code",
   "execution_count": 4,
   "metadata": {},
   "outputs": [
    {
     "name": "stdout",
     "output_type": "stream",
     "text": [
      "20240430_slcb\n",
      "-------------\n",
      "[{'CompositionA': '70.0',\n",
      "  'CompositionB': '30.0',\n",
      "  'Curve': 'Initial',\n",
      "  'Flow': '0.300',\n",
      "  'Time': 'Initial'},\n",
      " {'CompositionA': '40.0',\n",
      "  'CompositionB': '60.0',\n",
      "  'Curve': '6',\n",
      "  'Flow': '0.300',\n",
      "  'Time': '10.00'},\n",
      " {'CompositionA': '10.0',\n",
      "  'CompositionB': '90.0',\n",
      "  'Curve': '6',\n",
      "  'Flow': '0.300',\n",
      "  'Time': '10.10'},\n",
      " {'CompositionA': '10.0',\n",
      "  'CompositionB': '90.0',\n",
      "  'Curve': '6',\n",
      "  'Flow': '0.300',\n",
      "  'Time': '12.10'},\n",
      " {'CompositionA': '70.0',\n",
      "  'CompositionB': '30.0',\n",
      "  'Curve': '6',\n",
      "  'Flow': '0.300',\n",
      "  'Time': '12.20'},\n",
      " {'CompositionA': '70.0',\n",
      "  'CompositionB': '30.0',\n",
      "  'Curve': '6',\n",
      "  'Flow': '0.300',\n",
      "  'Time': '20.00'}]\n"
     ]
    }
   ],
   "source": [
    "print(full_method.method_name)\n",
    "print(\"-\" * len(full_method.method_name))\n",
    "pprint(full_method.gradient_table)\n",
    "\n",
    "original_method_name = full_method.method_name"
   ]
  },
  {
   "cell_type": "markdown",
   "metadata": {},
   "source": [
    "Generate ramp-up method"
   ]
  },
  {
   "cell_type": "code",
   "execution_count": 5,
   "metadata": {},
   "outputs": [
    {
     "name": "stdout",
     "output_type": "stream",
     "text": [
      "20240430_slcb_ramp\n",
      "------------------\n",
      "[{'CompositionA': '70.0',\n",
      "  'CompositionB': '30.0',\n",
      "  'Curve': 'Initial',\n",
      "  'Flow': '0.03',\n",
      "  'Time': 'Initial'},\n",
      " {'CompositionA': '70.0',\n",
      "  'CompositionB': '30.0',\n",
      "  'Curve': '6',\n",
      "  'Flow': '0.300',\n",
      "  'Time': '10'}]\n"
     ]
    }
   ],
   "source": [
    "from applications.method_generators.ramp_method import generate_ramp_method\n",
    "from applications.revert_method import revert_method\n",
    "\n",
    "generate_ramp_method(\n",
    "    method=full_method,  # basis instrument method\n",
    "    ramp_time=10,  # ramp time in minutes\n",
    "    low_flow_rate=0.03,  # low flow rate in ml/min\n",
    "    ramp_type=\"rampup\",  # rampup or rampdown\n",
    ")\n",
    "\n",
    "print(full_method.method_name)\n",
    "print(\"-\" * len(full_method.method_name))\n",
    "pprint(full_method.gradient_table)"
   ]
  },
  {
   "cell_type": "markdown",
   "metadata": {},
   "source": [
    "Revert method to original method to generate other methods"
   ]
  },
  {
   "cell_type": "code",
   "execution_count": 6,
   "metadata": {},
   "outputs": [
    {
     "name": "stdout",
     "output_type": "stream",
     "text": [
      "20240430_slcb\n",
      "-------------\n",
      "[{'CompositionA': '70.0',\n",
      "  'CompositionB': '30.0',\n",
      "  'Curve': 'Initial',\n",
      "  'Flow': '0.300',\n",
      "  'Time': 'Initial'},\n",
      " {'CompositionA': '40.0',\n",
      "  'CompositionB': '60.0',\n",
      "  'Curve': '6',\n",
      "  'Flow': '0.300',\n",
      "  'Time': '10.00'},\n",
      " {'CompositionA': '10.0',\n",
      "  'CompositionB': '90.0',\n",
      "  'Curve': '6',\n",
      "  'Flow': '0.300',\n",
      "  'Time': '10.10'},\n",
      " {'CompositionA': '10.0',\n",
      "  'CompositionB': '90.0',\n",
      "  'Curve': '6',\n",
      "  'Flow': '0.300',\n",
      "  'Time': '12.10'},\n",
      " {'CompositionA': '70.0',\n",
      "  'CompositionB': '30.0',\n",
      "  'Curve': '6',\n",
      "  'Flow': '0.300',\n",
      "  'Time': '12.20'},\n",
      " {'CompositionA': '70.0',\n",
      "  'CompositionB': '30.0',\n",
      "  'Curve': '6',\n",
      "  'Flow': '0.300',\n",
      "  'Time': '20.00'}]\n"
     ]
    }
   ],
   "source": [
    "revert_method(method=full_method, original_method_name=original_method_name)\n",
    "print(full_method.method_name)\n",
    "print(\"-\" * len(full_method.method_name))\n",
    "pprint(full_method.gradient_table)"
   ]
  },
  {
   "cell_type": "code",
   "execution_count": 7,
   "metadata": {},
   "outputs": [
    {
     "name": "stdout",
     "output_type": "stream",
     "text": [
      "20240430_slcb_cond_10m\n",
      "----------------------\n",
      "[{'CompositionA': '70.0',\n",
      "  'CompositionB': '30.0',\n",
      "  'Curve': 'Initial',\n",
      "  'Flow': '0.300',\n",
      "  'Time': 'Initial'},\n",
      " {'CompositionA': '40.0',\n",
      "  'CompositionB': '60.0',\n",
      "  'Curve': '6',\n",
      "  'Flow': '0.300',\n",
      "  'Time': '5.0'},\n",
      " {'CompositionA': '10.0',\n",
      "  'CompositionB': '90.0',\n",
      "  'Curve': '6',\n",
      "  'Flow': '0.300',\n",
      "  'Time': '5.05'},\n",
      " {'CompositionA': '10.0',\n",
      "  'CompositionB': '90.0',\n",
      "  'Curve': '6',\n",
      "  'Flow': '0.300',\n",
      "  'Time': '6.05'},\n",
      " {'CompositionA': '70.0',\n",
      "  'CompositionB': '30.0',\n",
      "  'Curve': '6',\n",
      "  'Flow': '0.300',\n",
      "  'Time': '6.1'},\n",
      " {'CompositionA': '70.0',\n",
      "  'CompositionB': '30.0',\n",
      "  'Curve': '6',\n",
      "  'Flow': '0.300',\n",
      "  'Time': '10.0'}]\n"
     ]
    },
    {
     "data": {
      "text/plain": [
       "<OptiHPLCHandler.empower_instrument_method.EmpowerInstrumentMethod at 0x26a1351f8b0>"
      ]
     },
     "execution_count": 7,
     "metadata": {},
     "output_type": "execute_result"
    }
   ],
   "source": [
    "from applications.method_generators.condense_gradient_table import (\n",
    "    generate_condense_gradient_table,\n",
    ")\n",
    "\n",
    "generate_condense_gradient_table(\n",
    "    method=full_method,  # basis instrument method\n",
    "    new_method_time=10,  # time to condense gradient to\n",
    ")\n",
    "\n",
    "print(full_method.method_name)\n",
    "print(\"-\" * len(full_method.method_name))\n",
    "pprint(full_method.gradient_table)\n",
    "\n",
    "# revert\n",
    "revert_method(method=full_method, original_method_name=original_method_name)"
   ]
  },
  {
   "cell_type": "code",
   "execution_count": 9,
   "metadata": {},
   "outputs": [
    {
     "name": "stdout",
     "output_type": "stream",
     "text": [
      "20240430_slcb_5_0C\n",
      "------------------\n",
      "'50.0'\n"
     ]
    },
    {
     "data": {
      "text/plain": [
       "<OptiHPLCHandler.empower_instrument_method.EmpowerInstrumentMethod at 0x26a1351f8b0>"
      ]
     },
     "execution_count": 9,
     "metadata": {},
     "output_type": "execute_result"
    }
   ],
   "source": [
    "from applications.method_generators.alter_temperature import (\n",
    "    generate_altered_temperature_method,\n",
    ")\n",
    "\n",
    "generate_altered_temperature_method(\n",
    "    method=full_method,  # basis instrument method\n",
    "    temperature_delta=5,  # adds temperature delta to current temperature, accepts negative values\n",
    ")\n",
    "\n",
    "print(full_method.method_name)\n",
    "print(\"-\" * len(full_method.method_name))\n",
    "pprint(full_method.column_temperature)\n",
    "\n",
    "# revert\n",
    "revert_method(method=full_method, original_method_name=original_method_name)"
   ]
  },
  {
   "cell_type": "code",
   "execution_count": 10,
   "metadata": {},
   "outputs": [
    {
     "name": "stdout",
     "output_type": "stream",
     "text": [
      "20240430_slcb_1_0pct\n",
      "--------------------\n",
      "[{'CompositionA': '69.0',\n",
      "  'CompositionB': '31.0',\n",
      "  'Curve': 'Initial',\n",
      "  'Flow': '0.300',\n",
      "  'Time': 'Initial'},\n",
      " {'CompositionA': '39.0',\n",
      "  'CompositionB': '61.0',\n",
      "  'Curve': '6',\n",
      "  'Flow': '0.300',\n",
      "  'Time': '10.00'},\n",
      " {'CompositionA': '10.0',\n",
      "  'CompositionB': '90.0',\n",
      "  'Curve': '6',\n",
      "  'Flow': '0.300',\n",
      "  'Time': '10.10'},\n",
      " {'CompositionA': '10.0',\n",
      "  'CompositionB': '90.0',\n",
      "  'Curve': '6',\n",
      "  'Flow': '0.300',\n",
      "  'Time': '12.10'},\n",
      " {'CompositionA': '69.0',\n",
      "  'CompositionB': '31.0',\n",
      "  'Curve': '6',\n",
      "  'Flow': '0.300',\n",
      "  'Time': '12.20'},\n",
      " {'CompositionA': '69.0',\n",
      "  'CompositionB': '31.0',\n",
      "  'Curve': '6',\n",
      "  'Flow': '0.300',\n",
      "  'Time': '20.00'}]\n"
     ]
    },
    {
     "data": {
      "text/plain": [
       "<OptiHPLCHandler.empower_instrument_method.EmpowerInstrumentMethod at 0x26a1351f8b0>"
      ]
     },
     "execution_count": 10,
     "metadata": {},
     "output_type": "execute_result"
    }
   ],
   "source": [
    "from applications.method_generators.alter_strong_eluent_pct import (\n",
    "    generate_altered_strong_eluent_method_pct,\n",
    ")\n",
    "\n",
    "generate_altered_strong_eluent_method_pct(\n",
    "    method=full_method,  # basis instrument method\n",
    "    strong_eluent_delta=1,  # adds strong eluent delta, accepts negative values\n",
    "    maintain_wash_pct=True,  # false if the end of the gradient is the wash step\n",
    ")\n",
    "\n",
    "print(full_method.method_name)\n",
    "print(\"-\" * len(full_method.method_name))\n",
    "pprint(full_method.gradient_table)\n",
    "\n",
    "# revert\n",
    "revert_method(method=full_method, original_method_name=original_method_name)"
   ]
  },
  {
   "cell_type": "code",
   "execution_count": 11,
   "metadata": {},
   "outputs": [
    {
     "name": "stdout",
     "output_type": "stream",
     "text": [
      "20240430_slcb_iso_10m_0\n",
      "-----------------------\n",
      "[{'CompositionA': '70.0',\n",
      "  'CompositionB': '30.0',\n",
      "  'Curve': 'Initial',\n",
      "  'Flow': '0.300',\n",
      "  'Time': 'Initial'},\n",
      " {'CompositionA': '70.0',\n",
      "  'CompositionB': '30.0',\n",
      "  'Curve': '6',\n",
      "  'Flow': '0.300',\n",
      "  'Time': '10.0'},\n",
      " {'CompositionA': '40.0',\n",
      "  'CompositionB': '60.0',\n",
      "  'Curve': '6',\n",
      "  'Flow': '0.300',\n",
      "  'Time': '20.0'},\n",
      " {'CompositionA': '10.0',\n",
      "  'CompositionB': '90.0',\n",
      "  'Curve': '6',\n",
      "  'Flow': '0.300',\n",
      "  'Time': '20.1'},\n",
      " {'CompositionA': '10.0',\n",
      "  'CompositionB': '90.0',\n",
      "  'Curve': '6',\n",
      "  'Flow': '0.300',\n",
      "  'Time': '22.1'},\n",
      " {'CompositionA': '70.0',\n",
      "  'CompositionB': '30.0',\n",
      "  'Curve': '6',\n",
      "  'Flow': '0.300',\n",
      "  'Time': '22.2'},\n",
      " {'CompositionA': '70.0',\n",
      "  'CompositionB': '30.0',\n",
      "  'Curve': '6',\n",
      "  'Flow': '0.300',\n",
      "  'Time': '30.0'}]\n"
     ]
    },
    {
     "data": {
      "text/plain": [
       "<OptiHPLCHandler.empower_instrument_method.EmpowerInstrumentMethod at 0x26a1351f8b0>"
      ]
     },
     "execution_count": 11,
     "metadata": {},
     "output_type": "execute_result"
    }
   ],
   "source": [
    "from applications.method_generators.add_isocratic_segment import (\n",
    "    generate_add_isocratic_segment_to_method,\n",
    ")\n",
    "\n",
    "generate_add_isocratic_segment_to_method(\n",
    "    method=full_method,  # basis instrument method\n",
    "    isocratic_duration=10,  # duration of isocratic step\n",
    "    index_of_isocratic_segment=0,  # where isocratic step is added, 0 for beginning, -1 for end\n",
    ")\n",
    "\n",
    "print(full_method.method_name)\n",
    "print(\"-\" * len(full_method.method_name))\n",
    "pprint(full_method.gradient_table)\n",
    "\n",
    "# revert\n",
    "revert_method(method=full_method, original_method_name=original_method_name)"
   ]
  },
  {
   "cell_type": "code",
   "execution_count": null,
   "metadata": {},
   "outputs": [],
   "source": []
  }
 ],
 "metadata": {
  "kernelspec": {
   "display_name": ".env",
   "language": "python",
   "name": "python3"
  },
  "language_info": {
   "codemirror_mode": {
    "name": "ipython",
    "version": 3
   },
   "file_extension": ".py",
   "mimetype": "text/x-python",
   "name": "python",
   "nbconvert_exporter": "python",
   "pygments_lexer": "ipython3",
   "version": "3.9.1"
  }
 },
 "nbformat": 4,
 "nbformat_minor": 2
}
