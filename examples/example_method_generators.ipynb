{
 "cells": [
  {
   "cell_type": "code",
   "execution_count": 5,
   "metadata": {},
   "outputs": [],
   "source": [
    "import os\n",
    "import pprint\n",
    "from dotenv import load_dotenv\n",
    "from OptiHPLCHandler import EmpowerHandler, EmpowerInstrumentMethod"
   ]
  },
  {
   "cell_type": "code",
   "execution_count": null,
   "metadata": {},
   "outputs": [],
   "source": [
    "from applications.revert_method import revert_method"
   ]
  },
  {
   "cell_type": "code",
   "execution_count": 3,
   "metadata": {},
   "outputs": [],
   "source": [
    "# get api address from .env file\n",
    "load_dotenv('../.env_vars')\n",
    "EMPOWER_API_ADDRESS = os.getenv('EMPOWER_API_ADDRESS')"
   ]
  },
  {
   "cell_type": "code",
   "execution_count": 4,
   "metadata": {},
   "outputs": [],
   "source": [
    "# Create an instance of the EmpowerHandler class\n",
    "handler = EmpowerHandler(project=\"WebAPI_test\", address=EMPOWER_API_ADDRESS)\n",
    "\n",
    "# Get the list of methods, select one, and get the method details\n",
    "with handler:\n",
    "    method_list = handler.GetMethodList()  # Get the list of instrument methods\n",
    "    method_name = \"Template_Method_1\"\n",
    "    full_method = handler.GetInstrumentMethod(method_name)"
   ]
  },
  {
   "cell_type": "code",
   "execution_count": 13,
   "metadata": {},
   "outputs": [
    {
     "name": "stdout",
     "output_type": "stream",
     "text": [
      "Method name: Template_Method_1\n",
      "------------------------------\n",
      "Column Temperature: 45.0\n",
      "Gradient Table: \n",
      "[{'CompositionA': '70.0',\n",
      "  'CompositionB': '30.0',\n",
      "  'Curve': 'Initial',\n",
      "  'Flow': '0.300',\n",
      "  'Time': 'Initial'},\n",
      " {'CompositionA': '40.0',\n",
      "  'CompositionB': '60.0',\n",
      "  'Curve': '6',\n",
      "  'Flow': '0.300',\n",
      "  'Time': '10.00'},\n",
      " {'CompositionA': '10.0',\n",
      "  'CompositionB': '90.0',\n",
      "  'Curve': '6',\n",
      "  'Flow': '0.300',\n",
      "  'Time': '10.10'},\n",
      " {'CompositionA': '10.0',\n",
      "  'CompositionB': '90.0',\n",
      "  'Curve': '6',\n",
      "  'Flow': '0.300',\n",
      "  'Time': '12.10'},\n",
      " {'CompositionA': '70.0',\n",
      "  'CompositionB': '30.0',\n",
      "  'Curve': '6',\n",
      "  'Flow': '0.300',\n",
      "  'Time': '12.20'},\n",
      " {'CompositionA': '70.0',\n",
      "  'CompositionB': '30.0',\n",
      "  'Curve': '6',\n",
      "  'Flow': '0.300',\n",
      "  'Time': '20.00'}]\n"
     ]
    }
   ],
   "source": [
    "print(f\"Method name: {full_method.method_name}\")\n",
    "print(\"-\"*len(f\"Method name: {full_method.method_name}\"))\n",
    "print(f\"Column Temperature: {full_method.column_temperature}\")\n",
    "print(\"Gradient Table: \")\n",
    "pprint.pprint(full_method.gradient_table)"
   ]
  },
  {
   "cell_type": "code",
   "execution_count": 14,
   "metadata": {},
   "outputs": [],
   "source": [
    "from types import SimpleNamespace\n",
    "\n",
    "method = SimpleNamespace(\n",
    "    method_name=\"Test\",\n",
    "    column_temperature=40,\n",
    "    gradient_table=[{'CompositionA': '70.0',\n",
    "  'CompositionB': '30.0',\n",
    "  'Curve': 'Initial',\n",
    "  'Flow': '0.300',\n",
    "  'Time': 'Initial'},\n",
    " {'CompositionA': '40.0',\n",
    "  'CompositionB': '60.0',\n",
    "  'Curve': '6',\n",
    "  'Flow': '0.300',\n",
    "  'Time': '10.00'},\n",
    " {'CompositionA': '10.0',\n",
    "  'CompositionB': '90.0',\n",
    "  'Curve': '6',\n",
    "  'Flow': '0.300',\n",
    "  'Time': '10.10'},\n",
    " {'CompositionA': '10.0',\n",
    "  'CompositionB': '90.0',\n",
    "  'Curve': '6',\n",
    "  'Flow': '0.300',\n",
    "  'Time': '12.10'},\n",
    " {'CompositionA': '70.0',\n",
    "  'CompositionB': '30.0',\n",
    "  'Curve': '6',\n",
    "  'Flow': '0.300',\n",
    "  'Time': '12.20'},\n",
    " {'CompositionA': '70.0',\n",
    "  'CompositionB': '30.0',\n",
    "  'Curve': '6',\n",
    "  'Flow': '0.300',\n",
    "  'Time': '20.00'}]\n",
    ")"
   ]
  },
  {
   "cell_type": "code",
   "execution_count": 4,
   "metadata": {},
   "outputs": [
    {
     "ename": "ModuleNotFoundError",
     "evalue": "No module named 'empower_implementation'",
     "output_type": "error",
     "traceback": [
      "\u001b[1;31m---------------------------------------------------------------------------\u001b[0m",
      "\u001b[1;31mModuleNotFoundError\u001b[0m                       Traceback (most recent call last)",
      "Cell \u001b[1;32mIn[4], line 3\u001b[0m\n\u001b[0;32m      1\u001b[0m \u001b[38;5;28;01mimport\u001b[39;00m \u001b[38;5;21;01msys\u001b[39;00m\n\u001b[0;32m      2\u001b[0m sys\u001b[38;5;241m.\u001b[39mpath\u001b[38;5;241m.\u001b[39mappend(\u001b[38;5;124m\"\u001b[39m\u001b[38;5;124m../\u001b[39m\u001b[38;5;124m\"\u001b[39m)\n\u001b[1;32m----> 3\u001b[0m \u001b[38;5;28;01mfrom\u001b[39;00m \u001b[38;5;21;01mapplications\u001b[39;00m\u001b[38;5;21;01m.\u001b[39;00m\u001b[38;5;21;01mmethod_generators\u001b[39;00m\u001b[38;5;21;01m.\u001b[39;00m\u001b[38;5;21;01mrampup_method\u001b[39;00m \u001b[38;5;28;01mimport\u001b[39;00m generate_rampup_method \n\u001b[0;32m      5\u001b[0m generate_rampup_method(method\u001b[38;5;241m=\u001b[39mmethod, rampup_time\u001b[38;5;241m=\u001b[39m\u001b[38;5;241m5\u001b[39m, post_method\u001b[38;5;241m=\u001b[39m\u001b[38;5;28;01mFalse\u001b[39;00m, handler\u001b[38;5;241m=\u001b[39m\u001b[38;5;28;01mNone\u001b[39;00m)\n\u001b[0;32m      6\u001b[0m method\u001b[38;5;241m.\u001b[39mgradient_table\n",
      "File \u001b[1;32mc:\\Users\\slcb\\Desktop\\Programming\\OptiHPLCHandler\\applications\\__init__.py:1\u001b[0m\n\u001b[1;32m----> 1\u001b[0m \u001b[38;5;28;01mfrom\u001b[39;00m \u001b[38;5;21;01mempower_implementation\u001b[39;00m\u001b[38;5;21;01m.\u001b[39;00m\u001b[38;5;21;01mempower_tools\u001b[39;00m \u001b[38;5;28;01mimport\u001b[39;00m (\n\u001b[0;32m      2\u001b[0m     make_method_name_string_compatible_with_empower,\n\u001b[0;32m      3\u001b[0m     truncate_method_name,\n\u001b[0;32m      4\u001b[0m     post_instrument_methodset_method,\n\u001b[0;32m      5\u001b[0m     determine_if_isocratic_method,\n\u001b[0;32m      6\u001b[0m     determine_index_of_max_compositon_value,\n\u001b[0;32m      7\u001b[0m     determine_strong_eluent,\n\u001b[0;32m      8\u001b[0m     validate_gradient_table,\n\u001b[0;32m      9\u001b[0m )\n\u001b[0;32m     10\u001b[0m \u001b[38;5;28;01mfrom\u001b[39;00m \u001b[38;5;21;01mmethod_generators\u001b[39;00m\u001b[38;5;21;01m.\u001b[39;00m\u001b[38;5;21;01malter_strong_eluent_pct\u001b[39;00m \u001b[38;5;28;01mimport\u001b[39;00m (\n\u001b[0;32m     11\u001b[0m     generate_altered_strong_eluent_method_pct,\n\u001b[0;32m     12\u001b[0m )\n\u001b[0;32m     13\u001b[0m \u001b[38;5;28;01mfrom\u001b[39;00m \u001b[38;5;21;01mmethod_generators\u001b[39;00m\u001b[38;5;21;01m.\u001b[39;00m\u001b[38;5;21;01malter_temperature\u001b[39;00m \u001b[38;5;28;01mimport\u001b[39;00m generate_altered_temperature_method\n",
      "\u001b[1;31mModuleNotFoundError\u001b[0m: No module named 'empower_implementation'"
     ]
    }
   ],
   "source": [
    "import sys\n",
    "sys.path.append(\"../\")\n",
    "from applications.method_generators.rampup_method import generate_rampup_method \n",
    "\n",
    "generate_rampup_method(method=method, rampup_time=5, post_method=False, handler=None)\n",
    "method.gradient_table"
   ]
  },
  {
   "cell_type": "code",
   "execution_count": null,
   "metadata": {},
   "outputs": [],
   "source": []
  }
 ],
 "metadata": {
  "kernelspec": {
   "display_name": ".env",
   "language": "python",
   "name": "python3"
  },
  "language_info": {
   "codemirror_mode": {
    "name": "ipython",
    "version": 3
   },
   "file_extension": ".py",
   "mimetype": "text/x-python",
   "name": "python",
   "nbconvert_exporter": "python",
   "pygments_lexer": "ipython3",
   "version": "3.9.1"
  }
 },
 "nbformat": 4,
 "nbformat_minor": 2
}
