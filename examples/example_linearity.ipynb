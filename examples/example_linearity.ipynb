{
 "cells": [
  {
   "cell_type": "markdown",
   "id": "f68fb2e8-a025-4a7f-a6b3-ad415b5e55b9",
   "metadata": {},
   "source": [
    "# Example: Varying Injection Volume (Linearity)"
   ]
  },
  {
   "cell_type": "markdown",
   "id": "26e92c78-694a-4c84-82dc-fb1cb27efd65",
   "metadata": {},
   "source": [
    "Here outlines a basic linearity experiment where one sample (and therefore one vial location) is injected at varying injection volumes. \n",
    "* Varies injection volume within a range in a defined increment\n",
    "* Samples in sample set defined in for loop, varying the injection volume"
   ]
  },
  {
   "cell_type": "markdown",
   "id": "e369564f-3139-483e-bfc6-425124bd3706",
   "metadata": {},
   "source": [
    "# Import"
   ]
  },
  {
   "cell_type": "code",
   "execution_count": 1,
   "id": "2efb19df-2799-4946-89a1-291d1c6f7f36",
   "metadata": {},
   "outputs": [],
   "source": [
    "from OptiHPLCHandler import EmpowerHandler\n",
    "\n",
    "handler = EmpowerHandler(\n",
    "    project=\"WebAPI_test\", address=\"XXXXXXXX\",\n",
    ")"
   ]
  },
  {
   "cell_type": "markdown",
   "id": "e67925bb-e6b6-4dd9-a96e-b9831b46bc6c",
   "metadata": {},
   "source": [
    "# Configuration of methods, nodes, systems and plates"
   ]
  },
  {
   "cell_type": "markdown",
   "id": "872eee98-e52c-4ee1-a22e-ed3196837f73",
   "metadata": {},
   "source": [
    "Using get attributes to: obtain method from list_method, node from list_nodes, system from list_systems within defined node and define the plate type from list_plates."
   ]
  },
  {
   "cell_type": "code",
   "execution_count": 2,
   "id": "06e37043-9f51-4efc-87df-6254cdb12e12",
   "metadata": {},
   "outputs": [
    {
     "name": "stderr",
     "output_type": "stream",
     "text": [
      "C:\\Users\\srfu\\MATLAB\\Projects\\OptiHPLCHandler\\src\\OptiHPLCHandler\\empower_api_core.py:250: UserWarning: The password will be sent in plain text.\n",
      "  warnings.warn(\"The password will be sent in plain text.\")\n"
     ]
    },
    {
     "name": "stdout",
     "output_type": "stream",
     "text": [
      "Method Set Name: CMS_test_23460013_2\n",
      "Node: Epdkhqr01093\n",
      "System Configuration Name: 7337_HPLC1\n",
      "Plate: ANSI-48Vial2mLHolder\n"
     ]
    }
   ],
   "source": [
    "with handler:\n",
    "    list_methods = handler.GetMethodList()\n",
    "    method = list_methods[-1]  # most recent method\n",
    "    print(f\"Method Set Name: {method}\")\n",
    "\n",
    "    list_nodes = handler.GetNodeNames()\n",
    "    node = list_nodes[40]\n",
    "    print(f\"Node: {node}\")\n",
    "\n",
    "    list_systems = handler.GetSystemNames(node=node)\n",
    "    system = list_systems[0]\n",
    "    print(f\"System Configuration Name: {system}\")\n",
    "\n",
    "    list_plates = handler.GetPlateTypeNames()[:6]\n",
    "    plate = list_plates[5]\n",
    "    print(f\"Plate: {plate}\")\n",
    "    plates = {\"1\": plate, \"2\": plate}"
   ]
  },
  {
   "cell_type": "markdown",
   "id": "9187d68b-2427-4251-b081-733ec063742c",
   "metadata": {},
   "source": [
    "Vary injection volume from a range of 1 to 3 µL in 1 µL increments"
   ]
  },
  {
   "cell_type": "code",
   "execution_count": 3,
   "id": "35fb6bfb-0912-4c46-aa8c-8bc58a9c4f39",
   "metadata": {},
   "outputs": [
    {
     "data": {
      "text/plain": [
       "[{'Method': 'CMS_test_23460013_2',\n",
       "  'SamplePos': '1:A,1',\n",
       "  'SampleName': 'Sample',\n",
       "  'InjectionVolume': 1},\n",
       " {'Method': 'CMS_test_23460013_2',\n",
       "  'SamplePos': '1:A,1',\n",
       "  'SampleName': 'Sample',\n",
       "  'InjectionVolume': 2},\n",
       " {'Method': 'CMS_test_23460013_2',\n",
       "  'SamplePos': '1:A,1',\n",
       "  'SampleName': 'Sample',\n",
       "  'InjectionVolume': 3}]"
      ]
     },
     "execution_count": 3,
     "metadata": {},
     "output_type": "execute_result"
    }
   ],
   "source": [
    "# Varying injection volume\n",
    "sample_set_method_name = \"test_samplesetmethod\"\n",
    "\n",
    "sample_list = []\n",
    "list_inj = [i for i in range(1, 4, 1)]\n",
    "# run linearity experiment from 1 to 3 µL in 1 µL increment\n",
    "\n",
    "for i in range(len(list_inj)):\n",
    "    sample_list.append(\n",
    "        {\n",
    "            \"Method\": method,\n",
    "            \"SamplePos\": \"1:A,1\",  # specific vial selected\n",
    "            \"SampleName\": f\"Sample\",\n",
    "            \"InjectionVolume\": list_inj[i],\n",
    "        },\n",
    "    )\n",
    "\n",
    "sample_list"
   ]
  },
  {
   "cell_type": "markdown",
   "metadata": {},
   "source": [
    "Add column conditioning and equilibration at start, thus selecting column position."
   ]
  },
  {
   "cell_type": "code",
   "execution_count": 4,
   "metadata": {},
   "outputs": [
    {
     "data": {
      "text/plain": [
       "[{'Function': {'member': 'Condition Column'},\n",
       "  'Method': 'CMS_test_23460013_2',\n",
       "  'RunTime': 10,\n",
       "  'ColumnPosition': {'member': 'Position 3'}},\n",
       " {'Function': {'member': 'Equilibrate'},\n",
       "  'Method': 'CMS_test_23460013_2',\n",
       "  'RunTime': 7,\n",
       "  'ColumnPosition': {'member': 'Position 3'}},\n",
       " {'Method': 'CMS_test_23460013_2',\n",
       "  'SamplePos': '1:A,1',\n",
       "  'SampleName': 'Sample',\n",
       "  'InjectionVolume': 1},\n",
       " {'Method': 'CMS_test_23460013_2',\n",
       "  'SamplePos': '1:A,1',\n",
       "  'SampleName': 'Sample',\n",
       "  'InjectionVolume': 2},\n",
       " {'Method': 'CMS_test_23460013_2',\n",
       "  'SamplePos': '1:A,1',\n",
       "  'SampleName': 'Sample',\n",
       "  'InjectionVolume': 3}]"
      ]
     },
     "execution_count": 4,
     "metadata": {},
     "output_type": "execute_result"
    }
   ],
   "source": [
    "conditioning = {\n",
    "    \"Function\": {\"member\": \"Condition Column\"},\n",
    "    \"Method\": method,\n",
    "    \"RunTime\": 10,\n",
    "    \"ColumnPosition\": {\"member\": \"Position 3\"},\n",
    "}\n",
    "\n",
    "equilibration = {\n",
    "    \"Function\": {\"member\": \"Equilibrate\"},\n",
    "    \"Method\": method,\n",
    "    \"RunTime\": 7,\n",
    "    \"ColumnPosition\": {\"member\": \"Position 3\"},\n",
    "}\n",
    "\n",
    "sample_list.insert(0, conditioning)\n",
    "sample_list.insert(1, equilibration)\n",
    "sample_list"
   ]
  },
  {
   "cell_type": "markdown",
   "id": "722a6170-b7bd-4981-a5d7-a6c145569bba",
   "metadata": {},
   "source": [
    "Post the experiment sample set method"
   ]
  },
  {
   "cell_type": "code",
   "execution_count": 5,
   "id": "91fd8999-7cb6-45c8-bcce-66e39360fd77",
   "metadata": {},
   "outputs": [
    {
     "ename": "HTTPError",
     "evalue": "HTTP error 409 with message 'The sample set method 'test_samplesetmethod' is already existing.' and ID 8dbef27fab44e35",
     "output_type": "error",
     "traceback": [
      "\u001b[1;31m---------------------------------------------------------------------------\u001b[0m",
      "\u001b[1;31mHTTPError\u001b[0m                                 Traceback (most recent call last)",
      "\u001b[1;32mc:\\Users\\srfu\\MATLAB\\Projects\\OptiHPLCHandler\\examples\\example_linearity.ipynb Cell 13\u001b[0m line \u001b[0;36m2\n\u001b[0;32m      <a href='vscode-notebook-cell:/c%3A/Users/srfu/MATLAB/Projects/OptiHPLCHandler/examples/example_linearity.ipynb#X15sZmlsZQ%3D%3D?line=0'>1</a>\u001b[0m \u001b[39mwith\u001b[39;00m handler:\n\u001b[1;32m----> <a href='vscode-notebook-cell:/c%3A/Users/srfu/MATLAB/Projects/OptiHPLCHandler/examples/example_linearity.ipynb#X15sZmlsZQ%3D%3D?line=1'>2</a>\u001b[0m     handler\u001b[39m.\u001b[39;49mPostExperiment(\n\u001b[0;32m      <a href='vscode-notebook-cell:/c%3A/Users/srfu/MATLAB/Projects/OptiHPLCHandler/examples/example_linearity.ipynb#X15sZmlsZQ%3D%3D?line=2'>3</a>\u001b[0m         sample_set_method_name\u001b[39m=\u001b[39;49msample_set_method_name,\n\u001b[0;32m      <a href='vscode-notebook-cell:/c%3A/Users/srfu/MATLAB/Projects/OptiHPLCHandler/examples/example_linearity.ipynb#X15sZmlsZQ%3D%3D?line=3'>4</a>\u001b[0m         sample_list\u001b[39m=\u001b[39;49msample_list,\n\u001b[0;32m      <a href='vscode-notebook-cell:/c%3A/Users/srfu/MATLAB/Projects/OptiHPLCHandler/examples/example_linearity.ipynb#X15sZmlsZQ%3D%3D?line=4'>5</a>\u001b[0m         plates\u001b[39m=\u001b[39;49mplates,\n\u001b[0;32m      <a href='vscode-notebook-cell:/c%3A/Users/srfu/MATLAB/Projects/OptiHPLCHandler/examples/example_linearity.ipynb#X15sZmlsZQ%3D%3D?line=5'>6</a>\u001b[0m         audit_trail_message\u001b[39m=\u001b[39;49m\u001b[39mNone\u001b[39;49;00m,\n\u001b[0;32m      <a href='vscode-notebook-cell:/c%3A/Users/srfu/MATLAB/Projects/OptiHPLCHandler/examples/example_linearity.ipynb#X15sZmlsZQ%3D%3D?line=6'>7</a>\u001b[0m     )\n",
      "File \u001b[1;32m~\\MATLAB\\Projects\\OptiHPLCHandler\\src\\OptiHPLCHandler\\empower_handler.py:257\u001b[0m, in \u001b[0;36mEmpowerHandler.PostExperiment\u001b[1;34m(self, sample_set_method_name, sample_list, plates, audit_trail_message)\u001b[0m\n\u001b[0;32m    254\u001b[0m     logger\u001b[39m.\u001b[39mdebug(\u001b[39m\"\u001b[39m\u001b[39mAdding audit trail message to endpoint\u001b[39m\u001b[39m\"\u001b[39m)\n\u001b[0;32m    255\u001b[0m     endpoint \u001b[39m+\u001b[39m\u001b[39m=\u001b[39m \u001b[39mf\u001b[39m\u001b[39m\"\u001b[39m\u001b[39m?auditTrailComment=\u001b[39m\u001b[39m{\u001b[39;00maudit_trail_message\u001b[39m}\u001b[39;00m\u001b[39m\"\u001b[39m\n\u001b[1;32m--> 257\u001b[0m \u001b[39mself\u001b[39;49m\u001b[39m.\u001b[39;49mconnection\u001b[39m.\u001b[39;49mpost(endpoint\u001b[39m=\u001b[39;49mendpoint, body\u001b[39m=\u001b[39;49msampleset_object)\n",
      "File \u001b[1;32m~\\MATLAB\\Projects\\OptiHPLCHandler\\src\\OptiHPLCHandler\\empower_api_core.py:230\u001b[0m, in \u001b[0;36mEmpowerConnection.post\u001b[1;34m(self, endpoint, body, timeout)\u001b[0m\n\u001b[0;32m    225\u001b[0m     \u001b[39mprint\u001b[39m(\n\u001b[0;32m    226\u001b[0m         \u001b[39mf\u001b[39m\u001b[39m\"\u001b[39m\u001b[39mPost call to endpoint \u001b[39m\u001b[39m{\u001b[39;00mendpoint\u001b[39m}\u001b[39;00m\u001b[39m could be slow, \u001b[39m\u001b[39m\"\u001b[39m\n\u001b[0;32m    227\u001b[0m         \u001b[39mf\u001b[39m\u001b[39m\"\u001b[39m\u001b[39mtimeout is set to \u001b[39m\u001b[39m{\u001b[39;00mtimeout\u001b[39m}\u001b[39;00m\u001b[39m seconds\u001b[39m\u001b[39m\"\u001b[39m\n\u001b[0;32m    228\u001b[0m     )\n\u001b[0;32m    229\u001b[0m logger\u001b[39m.\u001b[39mdebug(\u001b[39m\"\u001b[39m\u001b[39mPosting data \u001b[39m\u001b[39m%s\u001b[39;00m\u001b[39m to \u001b[39m\u001b[39m%s\u001b[39;00m\u001b[39m with timeout \u001b[39m\u001b[39m%s\u001b[39;00m\u001b[39m\"\u001b[39m, body, endpoint, timeout)\n\u001b[1;32m--> 230\u001b[0m response \u001b[39m=\u001b[39m \u001b[39mself\u001b[39;49m\u001b[39m.\u001b[39;49m_requests_wrapper(\n\u001b[0;32m    231\u001b[0m     method\u001b[39m=\u001b[39;49m\u001b[39m\"\u001b[39;49m\u001b[39mpost\u001b[39;49m\u001b[39m\"\u001b[39;49m, endpoint\u001b[39m=\u001b[39;49mendpoint, body\u001b[39m=\u001b[39;49mbody, timeout\u001b[39m=\u001b[39;49mtimeout\n\u001b[0;32m    232\u001b[0m )\n\u001b[0;32m    233\u001b[0m \u001b[39mif\u001b[39;00m response[\u001b[39m1\u001b[39m]:\n\u001b[0;32m    234\u001b[0m     logger\u001b[39m.\u001b[39mdebug(\u001b[39m\"\u001b[39m\u001b[39mGot message from Empower \u001b[39m\u001b[39m%s\u001b[39;00m\u001b[39m\"\u001b[39m, response[\u001b[39m1\u001b[39m])\n",
      "File \u001b[1;32m~\\MATLAB\\Projects\\OptiHPLCHandler\\src\\OptiHPLCHandler\\empower_api_core.py:181\u001b[0m, in \u001b[0;36mEmpowerConnection._requests_wrapper\u001b[1;34m(self, method, endpoint, body, timeout)\u001b[0m\n\u001b[0;32m    177\u001b[0m     response \u001b[39m=\u001b[39m _request_with_timeout(\n\u001b[0;32m    178\u001b[0m         method, address, \u001b[39mself\u001b[39m\u001b[39m.\u001b[39mauthorization_header, body, timeout\n\u001b[0;32m    179\u001b[0m     )\n\u001b[0;32m    180\u001b[0m logger\u001b[39m.\u001b[39mdebug(\u001b[39m\"\u001b[39m\u001b[39mGot response \u001b[39m\u001b[39m%s\u001b[39;00m\u001b[39m from \u001b[39m\u001b[39m%s\u001b[39;00m\u001b[39m\"\u001b[39m, response\u001b[39m.\u001b[39mtext, address)\n\u001b[1;32m--> 181\u001b[0m \u001b[39mself\u001b[39;49m\u001b[39m.\u001b[39;49mraise_for_status(response)\n\u001b[0;32m    182\u001b[0m \u001b[39mreturn\u001b[39;00m (\n\u001b[0;32m    183\u001b[0m     response\u001b[39m.\u001b[39mjson()\u001b[39m.\u001b[39mget(\u001b[39m\"\u001b[39m\u001b[39mresults\u001b[39m\u001b[39m\"\u001b[39m, \u001b[39mNone\u001b[39;00m),\n\u001b[0;32m    184\u001b[0m     response\u001b[39m.\u001b[39mjson()\u001b[39m.\u001b[39mget(\u001b[39m\"\u001b[39m\u001b[39mmessage\u001b[39m\u001b[39m\"\u001b[39m, \u001b[39mNone\u001b[39;00m),\n\u001b[0;32m    185\u001b[0m )\n",
      "File \u001b[1;32m~\\MATLAB\\Projects\\OptiHPLCHandler\\src\\OptiHPLCHandler\\empower_api_core.py:274\u001b[0m, in \u001b[0;36mEmpowerConnection.raise_for_status\u001b[1;34m(response)\u001b[0m\n\u001b[0;32m    272\u001b[0m     response\u001b[39m.\u001b[39mraise_for_status()\n\u001b[0;32m    273\u001b[0m \u001b[39mexcept\u001b[39;00m requests\u001b[39m.\u001b[39mexceptions\u001b[39m.\u001b[39mHTTPError:\n\u001b[1;32m--> 274\u001b[0m     \u001b[39mraise\u001b[39;00m requests\u001b[39m.\u001b[39mexceptions\u001b[39m.\u001b[39mHTTPError(\n\u001b[0;32m    275\u001b[0m         \u001b[39mf\u001b[39m\u001b[39m\"\u001b[39m\u001b[39mHTTP error \u001b[39m\u001b[39m{\u001b[39;00mresponse\u001b[39m.\u001b[39mstatus_code\u001b[39m}\u001b[39;00m\u001b[39m \u001b[39m\u001b[39m\"\u001b[39m\n\u001b[0;32m    276\u001b[0m         \u001b[39mf\u001b[39m\u001b[39m\"\u001b[39m\u001b[39mwith message \u001b[39m\u001b[39m'\u001b[39m\u001b[39m{\u001b[39;00mresponse\u001b[39m.\u001b[39mjson()[\u001b[39m'\u001b[39m\u001b[39mmessage\u001b[39m\u001b[39m'\u001b[39m]\u001b[39m}\u001b[39;00m\u001b[39m'\u001b[39m\u001b[39m \u001b[39m\u001b[39m\"\u001b[39m\n\u001b[0;32m    277\u001b[0m         \u001b[39mf\u001b[39m\u001b[39m\"\u001b[39m\u001b[39mand ID \u001b[39m\u001b[39m{\u001b[39;00mresponse\u001b[39m.\u001b[39mjson()[\u001b[39m'\u001b[39m\u001b[39mid\u001b[39m\u001b[39m'\u001b[39m]\u001b[39m}\u001b[39;00m\u001b[39m\"\u001b[39m\n\u001b[0;32m    278\u001b[0m     ) \u001b[39mfrom\u001b[39;00m \u001b[39mNone\u001b[39;00m\n",
      "\u001b[1;31mHTTPError\u001b[0m: HTTP error 409 with message 'The sample set method 'test_samplesetmethod' is already existing.' and ID 8dbef27fab44e35"
     ]
    }
   ],
   "source": [
    "with handler:\n",
    "    handler.PostExperiment(\n",
    "        sample_set_method_name=sample_set_method_name,\n",
    "        sample_list=sample_list,\n",
    "        plates=plates,\n",
    "        audit_trail_message=None,\n",
    "    )"
   ]
  },
  {
   "cell_type": "markdown",
   "id": "e4dfbd76-bf9c-4926-aef8-a0772b4c1b69",
   "metadata": {},
   "source": [
    "Run the sample set method"
   ]
  },
  {
   "cell_type": "code",
   "execution_count": null,
   "id": "b54ba855-9ba4-46e2-a1de-f91dda9b36df",
   "metadata": {},
   "outputs": [],
   "source": [
    "with handler:\n",
    "    handler.RunExperiment(\n",
    "        sample_set_method=sample_set_method_name,\n",
    "        sample_set_name=sample_set_method_name,\n",
    "        system=system,\n",
    "        node=node,\n",
    "    )"
   ]
  }
 ],
 "metadata": {
  "kernelspec": {
   "display_name": "Python 3 (ipykernel)",
   "language": "python",
   "name": "python3"
  },
  "language_info": {
   "codemirror_mode": {
    "name": "ipython",
    "version": 3
   },
   "file_extension": ".py",
   "mimetype": "text/x-python",
   "name": "python",
   "nbconvert_exporter": "python",
   "pygments_lexer": "ipython3",
   "version": "3.9.4"
  }
 },
 "nbformat": 4,
 "nbformat_minor": 5
}
