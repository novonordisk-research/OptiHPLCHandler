{
 "cells": [
  {
   "cell_type": "markdown",
   "id": "f68fb2e8-a025-4a7f-a6b3-ad415b5e55b9",
   "metadata": {},
   "source": [
    "# Example: Varying Injection Volume (Linearity)"
   ]
  },
  {
   "cell_type": "markdown",
   "id": "26e92c78-694a-4c84-82dc-fb1cb27efd65",
   "metadata": {},
   "source": [
    "Here outlines a basic linearity experiment where one sample (and therefore one vial location) is injected at varying injection volumes. \n",
    "* Varies injection volume within a range in a defined increment\n",
    "* Samples in sample set defined in for loop, varying the injection volume"
   ]
  },
  {
   "cell_type": "markdown",
   "id": "e369564f-3139-483e-bfc6-425124bd3706",
   "metadata": {},
   "source": [
    "# Import"
   ]
  },
  {
   "cell_type": "code",
   "execution_count": 10,
   "id": "2efb19df-2799-4946-89a1-291d1c6f7f36",
   "metadata": {},
   "outputs": [],
   "source": [
    "from OptiHPLCHandler import EmpowerHandler\n",
    "\n",
    "handler = EmpowerHandler(\n",
    "    project=\"WebAPI_test\", address=\"XXXXXXXX\", allow_login_without_context_manager=False\n",
    ")"
   ]
  },
  {
   "cell_type": "markdown",
   "id": "e67925bb-e6b6-4dd9-a96e-b9831b46bc6c",
   "metadata": {},
   "source": [
    "# Configuration of methods, nodes, systems and plates"
   ]
  },
  {
   "cell_type": "markdown",
   "id": "872eee98-e52c-4ee1-a22e-ed3196837f73",
   "metadata": {},
   "source": [
    "Using get attributes to: obtain method from list_method, node from list_nodes, system from list_systems within defined node and define the plate type from list_plates."
   ]
  },
  {
   "cell_type": "code",
   "execution_count": 60,
   "id": "06e37043-9f51-4efc-87df-6254cdb12e12",
   "metadata": {},
   "outputs": [
    {
     "name": "stderr",
     "output_type": "stream",
     "text": [
      "C:\\Users\\slcb\\Desktop\\Programming\\OptiHPLCHandler\\src\\OptiHPLCHandler\\empower_api_core.py:172: UserWarning: The password will be sent in plain text.\n",
      "  warnings.warn(\"The password will be sent in plain text.\")\n"
     ]
    },
    {
     "name": "stdout",
     "output_type": "stream",
     "text": [
      "Method Set Name: B104_11_IClass_280nm_UPLC12\n",
      "Node: Epdkhqr01044\n",
      "System Configuration Name: 14_5208_HCLASS_BIN\n",
      "Plate: ANSI-48Vial2mLHolder\n"
     ]
    }
   ],
   "source": [
    "with handler:\n",
    "    list_methods = handler.GetMethodList()\n",
    "    method = list_methods[-1]  # most recent method\n",
    "    print(f\"Method Set Name: {method}\")\n",
    "\n",
    "    list_nodes = handler.GetNodeNames()\n",
    "    node = list_nodes[40]\n",
    "    print(f\"Node: {node}\")\n",
    "\n",
    "    list_systems = handler.GetSystemNames(node=node)\n",
    "    system = list_systems[0]\n",
    "    print(f\"System Configuration Name: {system}\")\n",
    "\n",
    "    list_plates = handler.GetPlateTypeNames()[:6]\n",
    "    plate = list_plates[5]\n",
    "    print(f\"Plate: {plate}\")\n",
    "    plates = {\"1\": plate, \"2\": plate}"
   ]
  },
  {
   "cell_type": "markdown",
   "id": "9187d68b-2427-4251-b081-733ec063742c",
   "metadata": {},
   "source": [
    "Vary injection volume from a range of 1 to 3 µL in 1 µL increments"
   ]
  },
  {
   "cell_type": "code",
   "execution_count": 63,
   "id": "35fb6bfb-0912-4c46-aa8c-8bc58a9c4f39",
   "metadata": {},
   "outputs": [
    {
     "data": {
      "text/plain": [
       "[{'Method': 'B104_11_IClass_280nm_UPLC12',\n",
       "  'SamplePos': '1:A,1',\n",
       "  'SampleName': 'Sample',\n",
       "  'InjectionVolume': 1},\n",
       " {'Method': 'B104_11_IClass_280nm_UPLC12',\n",
       "  'SamplePos': '1:A,1',\n",
       "  'SampleName': 'Sample',\n",
       "  'InjectionVolume': 2},\n",
       " {'Method': 'B104_11_IClass_280nm_UPLC12',\n",
       "  'SamplePos': '1:A,1',\n",
       "  'SampleName': 'Sample',\n",
       "  'InjectionVolume': 3}]"
      ]
     },
     "execution_count": 63,
     "metadata": {},
     "output_type": "execute_result"
    }
   ],
   "source": [
    "# Varying injection volume\n",
    "sample_set_method_name = \"test_samplesetmethod_0\"\n",
    "\n",
    "sample_list = []\n",
    "list_inj = [i for i in range(1, 4, 1)]\n",
    "# run linearity experiment from 1 to 3 µL in 1 µL increment\n",
    "\n",
    "for i in range(len(list_inj)):\n",
    "    sample_list.append(\n",
    "        {\n",
    "            \"Method\": method,\n",
    "            \"SamplePos\": \"1:A,1\",  # specific vial selected\n",
    "            \"SampleName\": f\"Sample\",\n",
    "            \"InjectionVolume\": list_inj[i],\n",
    "        },\n",
    "    )\n",
    "\n",
    "sample_list"
   ]
  },
  {
   "cell_type": "markdown",
   "metadata": {},
   "source": [
    "Add column conditioning and equilibration at start, thus selecting column position."
   ]
  },
  {
   "cell_type": "code",
   "execution_count": 64,
   "metadata": {},
   "outputs": [
    {
     "data": {
      "text/plain": [
       "[{'Function': {'member': 'Condition Column'},\n",
       "  'Method': 'B104_11_IClass_280nm_UPLC12',\n",
       "  'RunTime': 10,\n",
       "  'ColumnPosition': {'member': 'Position 3'}},\n",
       " {'Function': {'member': 'Equilibrate'},\n",
       "  'Method': 'B104_11_IClass_280nm_UPLC12',\n",
       "  'RunTime': 7,\n",
       "  'ColumnPosition': {'member': 'Position 3'}},\n",
       " {'Method': 'B104_11_IClass_280nm_UPLC12',\n",
       "  'SamplePos': '1:A,1',\n",
       "  'SampleName': 'Sample',\n",
       "  'InjectionVolume': 1},\n",
       " {'Method': 'B104_11_IClass_280nm_UPLC12',\n",
       "  'SamplePos': '1:A,1',\n",
       "  'SampleName': 'Sample',\n",
       "  'InjectionVolume': 2},\n",
       " {'Method': 'B104_11_IClass_280nm_UPLC12',\n",
       "  'SamplePos': '1:A,1',\n",
       "  'SampleName': 'Sample',\n",
       "  'InjectionVolume': 3}]"
      ]
     },
     "execution_count": 64,
     "metadata": {},
     "output_type": "execute_result"
    }
   ],
   "source": [
    "conditioning={\n",
    "    \"Function\": {\"member\": \"Condition Column\"},\n",
    "    \"Method\": method,\n",
    "    \"RunTime\": 10,\n",
    "    \"ColumnPosition\": {\"member\": \"Position 3\"}\n",
    "}\n",
    "\n",
    "equilibration={\n",
    "    \"Function\": {\"member\": \"Equilibrate\"},\n",
    "    \"Method\": method,\n",
    "    \"RunTime\": 7,\n",
    "    \"ColumnPosition\": {\"member\": \"Position 3\"}\n",
    "}\n",
    "\n",
    "sample_list.insert(0, conditioning)\n",
    "sample_list.insert(1, equilibration)\n",
    "sample_list"
   ]
  },
  {
   "cell_type": "markdown",
   "id": "722a6170-b7bd-4981-a5d7-a6c145569bba",
   "metadata": {},
   "source": [
    "Post the experiment sample set method"
   ]
  },
  {
   "cell_type": "code",
   "execution_count": null,
   "id": "91fd8999-7cb6-45c8-bcce-66e39360fd77",
   "metadata": {},
   "outputs": [],
   "source": [
    "with handler:\n",
    "    handler.PostExperiment(\n",
    "        sample_set_method_name=sample_set_method_name,\n",
    "        sample_list=sample_list,\n",
    "        plates=plates,\n",
    "        audit_trail_message=None,\n",
    "    )"
   ]
  },
  {
   "cell_type": "markdown",
   "id": "e4dfbd76-bf9c-4926-aef8-a0772b4c1b69",
   "metadata": {},
   "source": [
    "Run the sample set method"
   ]
  },
  {
   "cell_type": "code",
   "execution_count": null,
   "id": "b54ba855-9ba4-46e2-a1de-f91dda9b36df",
   "metadata": {},
   "outputs": [],
   "source": [
    "with handler:\n",
    "    handler.RunExperiment(\n",
    "        sample_set_method=sample_set_method_name,\n",
    "        sample_set_name=sample_set_method_name,\n",
    "        system=system,\n",
    "        node=node,\n",
    "    )"
   ]
  }
 ],
 "metadata": {
  "kernelspec": {
   "display_name": "Python 3 (ipykernel)",
   "language": "python",
   "name": "python3"
  },
  "language_info": {
   "codemirror_mode": {
    "name": "ipython",
    "version": 3
   },
   "file_extension": ".py",
   "mimetype": "text/x-python",
   "name": "python",
   "nbconvert_exporter": "python",
   "pygments_lexer": "ipython3",
   "version": "3.9.4"
  }
 },
 "nbformat": 4,
 "nbformat_minor": 5
}
