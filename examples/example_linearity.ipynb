{
 "cells": [
  {
   "cell_type": "markdown",
   "id": "f68fb2e8-a025-4a7f-a6b3-ad415b5e55b9",
   "metadata": {},
   "source": [
    "# Example: Varying Injection Volume (Linearity)"
   ]
  },
  {
   "cell_type": "markdown",
   "id": "26e92c78-694a-4c84-82dc-fb1cb27efd65",
   "metadata": {},
   "source": [
    "Here outlines a basic linearity experiment where one sample (and therefore one vial location) is injected at varying injection volumes. \n",
    "* Varies injection volume within a range in a defined increment\n",
    "* Samples in sample set defined in for loop, varying the injection volumne"
   ]
  },
  {
   "cell_type": "markdown",
   "id": "e369564f-3139-483e-bfc6-425124bd3706",
   "metadata": {},
   "source": [
    "# Import"
   ]
  },
  {
   "cell_type": "code",
   "execution_count": 1,
   "id": "2efb19df-2799-4946-89a1-291d1c6f7f36",
   "metadata": {},
   "outputs": [],
   "source": [
    "from OptiHPLCHandler import EmpowerHandler\n",
    "\n",
    "handler = EmpowerHandler(project=\"WebAPI_test\", address=\"XXXXXX)"
   ]
  },
  {
   "cell_type": "markdown",
   "id": "e67925bb-e6b6-4dd9-a96e-b9831b46bc6c",
   "metadata": {},
   "source": [
    "# Configuration of methods, nodes, systems and plates"
   ]
  },
  {
   "cell_type": "markdown",
   "id": "872eee98-e52c-4ee1-a22e-ed3196837f73",
   "metadata": {},
   "source": [
    "Using get attributes to: obtain method from list_method, node from list_nodes, system from list_systems within defined node and define the plate type from list_plates."
   ]
  },
  {
   "cell_type": "code",
   "execution_count": 2,
   "id": "06e37043-9f51-4efc-87df-6254cdb12e12",
   "metadata": {},
   "outputs": [
    {
     "name": "stderr",
     "output_type": "stream",
     "text": [
      "C:\\Users\\srfu\\MATLAB\\Projects\\OptiHPLCHandler\\src\\OptiHPLCHandler\\empower_api_core.py:176: UserWarning: The password will be sent in plain text.\n",
      "  warnings.warn(\"The password will be sent in plain text.\")\n"
     ]
    },
    {
     "name": "stdout",
     "output_type": "stream",
     "text": [
      "Method Set Name: B104_11_IClass_280nm_UPLC12\n",
      "Node: LCDKHQ135534\n"
     ]
    },
    {
     "ename": "IndexError",
     "evalue": "list index out of range",
     "output_type": "error",
     "traceback": [
      "\u001b[1;31m---------------------------------------------------------------------------\u001b[0m",
      "\u001b[1;31mIndexError\u001b[0m                                Traceback (most recent call last)",
      "Cell \u001b[1;32mIn[2], line 11\u001b[0m\n\u001b[0;32m      8\u001b[0m \u001b[39mprint\u001b[39m(\u001b[39mf\u001b[39m\u001b[39m\"\u001b[39m\u001b[39mNode: \u001b[39m\u001b[39m{\u001b[39;00mnode\u001b[39m}\u001b[39;00m\u001b[39m\"\u001b[39m)\n\u001b[0;32m     10\u001b[0m list_systems \u001b[39m=\u001b[39m handler\u001b[39m.\u001b[39mGetSystemNames(node\u001b[39m=\u001b[39mnode)\n\u001b[1;32m---> 11\u001b[0m system \u001b[39m=\u001b[39m list_systems[\u001b[39m0\u001b[39;49m]\n\u001b[0;32m     12\u001b[0m \u001b[39mprint\u001b[39m(\u001b[39mf\u001b[39m\u001b[39m\"\u001b[39m\u001b[39mSystem Configuration Name: \u001b[39m\u001b[39m{\u001b[39;00msystem\u001b[39m}\u001b[39;00m\u001b[39m\"\u001b[39m)\n\u001b[0;32m     14\u001b[0m list_plates \u001b[39m=\u001b[39m handler\u001b[39m.\u001b[39mGetPlateTypeNames()[:\u001b[39m6\u001b[39m]\n",
      "\u001b[1;31mIndexError\u001b[0m: list index out of range"
     ]
    }
   ],
   "source": [
    "with handler:\n",
    "    list_methods = handler.GetMethodList()\n",
    "    method = list_methods[-1]  # most recent method\n",
    "    print(f\"Method Set Name: {method}\")\n",
    "\n",
    "    list_nodes = handler.GetNodeNames()\n",
    "    node = list_nodes[40]\n",
    "    print(f\"Node: {node}\")\n",
    "\n",
    "    list_systems = handler.GetSystemNames(node=node)\n",
    "    system = list_systems[0]\n",
    "    print(f\"System Configuration Name: {system}\")\n",
    "\n",
    "    list_plates = handler.GetPlateTypeNames()[:6]\n",
    "    plate = list_plates[5]\n",
    "    print(f\"Plate: {plate}\")\n",
    "    plates = {\"1\": plate, \"2\": plate}"
   ]
  },
  {
   "cell_type": "markdown",
   "id": "9187d68b-2427-4251-b081-733ec063742c",
   "metadata": {},
   "source": [
    "Vary injection volumne from a range of 1 to 3 µL in 1 µL increments"
   ]
  },
  {
   "cell_type": "code",
   "execution_count": 5,
   "id": "35fb6bfb-0912-4c46-aa8c-8bc58a9c4f39",
   "metadata": {},
   "outputs": [
    {
     "data": {
      "text/plain": [
       "[{'Method': 'Method_3',\n",
       "  'SamplePos': '1:A,1',\n",
       "  'SampleName': 'Sample',\n",
       "  'InjectionVolume': 1},\n",
       " {'Method': 'Method_3',\n",
       "  'SamplePos': '1:A,1',\n",
       "  'SampleName': 'Sample',\n",
       "  'InjectionVolume': 2},\n",
       " {'Method': 'Method_3',\n",
       "  'SamplePos': '1:A,1',\n",
       "  'SampleName': 'Sample',\n",
       "  'InjectionVolume': 3}]"
      ]
     },
     "execution_count": 5,
     "metadata": {},
     "output_type": "execute_result"
    }
   ],
   "source": [
    "# Varying injection volume\n",
    "sample_set_method_name = \"test_samplesetmethod1\"\n",
    "\n",
    "sample_list = []\n",
    "list_inj = [i for i in range(1, 4, 1)]\n",
    "# run linearity experiment from 1 to 3 µL in 1 µL increment\n",
    "\n",
    "for i in range(len(list_inj)):\n",
    "    sample_list.append(\n",
    "        {\n",
    "            \"Method\": method,\n",
    "            \"SamplePos\": \"1:A,1\",  # specific vial selected\n",
    "            \"SampleName\": f\"Sample\",\n",
    "            \"InjectionVolume\": list_inj[i],\n",
    "        },\n",
    "    )\n",
    "\n",
    "sample_list"
   ]
  },
  {
   "cell_type": "markdown",
   "id": "722a6170-b7bd-4981-a5d7-a6c145569bba",
   "metadata": {},
   "source": [
    "Post the experiment sample set method"
   ]
  },
  {
   "cell_type": "code",
   "execution_count": 3,
   "id": "91fd8999-7cb6-45c8-bcce-66e39360fd77",
   "metadata": {},
   "outputs": [
    {
     "name": "stderr",
     "output_type": "stream",
     "text": [
      "Login failed\n"
     ]
    },
    {
     "ename": "OSError",
     "evalue": "Login failed",
     "output_type": "error",
     "traceback": [
      "\u001b[1;31m---------------------------------------------------------------------------\u001b[0m",
      "\u001b[1;31mOSError\u001b[0m                                   Traceback (most recent call last)",
      "Cell \u001b[1;32mIn[3], line 1\u001b[0m\n\u001b[1;32m----> 1\u001b[0m \u001b[39mwith\u001b[39;00m handler:\n\u001b[0;32m      2\u001b[0m     handler\u001b[39m.\u001b[39mPostExperiment(\n\u001b[0;32m      3\u001b[0m         sample_set_method_name\u001b[39m=\u001b[39msample_set_method_name,\n\u001b[0;32m      4\u001b[0m         sample_list\u001b[39m=\u001b[39msample_list,\n\u001b[0;32m      5\u001b[0m         plates\u001b[39m=\u001b[39mplates,\n\u001b[0;32m      6\u001b[0m         audit_trail_message\u001b[39m=\u001b[39m\u001b[39mNone\u001b[39;00m,\n\u001b[0;32m      7\u001b[0m     )\n",
      "File \u001b[1;32m~\\MATLAB\\Projects\\OptiHPLCHandler\\src\\OptiHPLCHandler\\empower_handler.py:100\u001b[0m, in \u001b[0;36mEmpowerHandler.__enter__\u001b[1;34m(self)\u001b[0m\n\u001b[0;32m     98\u001b[0m \u001b[39m\u001b[39m\u001b[39m\"\"\"Start the context manager.\"\"\"\u001b[39;00m\n\u001b[0;32m     99\u001b[0m \u001b[39mif\u001b[39;00m \u001b[39mself\u001b[39m\u001b[39m.\u001b[39mauto_login:\n\u001b[1;32m--> 100\u001b[0m     \u001b[39mself\u001b[39;49m\u001b[39m.\u001b[39;49mlogin(has_context\u001b[39m=\u001b[39;49m\u001b[39mTrue\u001b[39;49;00m)\n\u001b[0;32m    101\u001b[0m \u001b[39mself\u001b[39m\u001b[39m.\u001b[39m_has_context \u001b[39m=\u001b[39m \u001b[39mTrue\u001b[39;00m\n\u001b[0;32m    102\u001b[0m \u001b[39mreturn\u001b[39;00m \u001b[39mself\u001b[39m\n",
      "File \u001b[1;32m~\\MATLAB\\Projects\\OptiHPLCHandler\\src\\OptiHPLCHandler\\empower_handler.py:156\u001b[0m, in \u001b[0;36mEmpowerHandler.login\u001b[1;34m(self, username, password, has_context)\u001b[0m\n\u001b[0;32m    150\u001b[0m     \u001b[39melse\u001b[39;00m:\n\u001b[0;32m    151\u001b[0m         \u001b[39mraise\u001b[39;00m \u001b[39mRuntimeError\u001b[39;00m(\n\u001b[0;32m    152\u001b[0m             \u001b[39m\"\u001b[39m\u001b[39mLogin without context is not allowed. \u001b[39m\u001b[39m\"\u001b[39m\n\u001b[0;32m    153\u001b[0m             \u001b[39m\"\u001b[39m\u001b[39mPlease use a context manager, e.g. \u001b[39m\u001b[39m\"\u001b[39m\n\u001b[0;32m    154\u001b[0m             \u001b[39m\"\u001b[39m\u001b[39m`with EmpowerHandler(...) as handler:...`\u001b[39m\u001b[39m\"\u001b[39m\n\u001b[0;32m    155\u001b[0m         )\n\u001b[1;32m--> 156\u001b[0m \u001b[39mself\u001b[39;49m\u001b[39m.\u001b[39;49mconnection\u001b[39m.\u001b[39;49mlogin(password\u001b[39m=\u001b[39;49mpassword, username\u001b[39m=\u001b[39;49musername)\n",
      "File \u001b[1;32m~\\MATLAB\\Projects\\OptiHPLCHandler\\src\\OptiHPLCHandler\\empower_api_core.py:101\u001b[0m, in \u001b[0;36mEmpowerConnection.login\u001b[1;34m(self, username, password)\u001b[0m\n\u001b[0;32m     99\u001b[0m \u001b[39mif\u001b[39;00m reply\u001b[39m.\u001b[39mstatus_code \u001b[39m!=\u001b[39m \u001b[39m200\u001b[39m:\n\u001b[0;32m    100\u001b[0m     logger\u001b[39m.\u001b[39merror(\u001b[39m\"\u001b[39m\u001b[39mLogin failed\u001b[39m\u001b[39m\"\u001b[39m)\n\u001b[1;32m--> 101\u001b[0m     \u001b[39mraise\u001b[39;00m \u001b[39mIOError\u001b[39;00m(\u001b[39m\"\u001b[39m\u001b[39mLogin failed\u001b[39m\u001b[39m\"\u001b[39m)\n\u001b[0;32m    102\u001b[0m \u001b[39mself\u001b[39m\u001b[39m.\u001b[39mtoken \u001b[39m=\u001b[39m reply\u001b[39m.\u001b[39mjson()[\u001b[39m\"\u001b[39m\u001b[39mresults\u001b[39m\u001b[39m\"\u001b[39m][\u001b[39m0\u001b[39m][\u001b[39m\"\u001b[39m\u001b[39mtoken\u001b[39m\u001b[39m\"\u001b[39m]\n\u001b[0;32m    103\u001b[0m \u001b[39mself\u001b[39m\u001b[39m.\u001b[39msession_id \u001b[39m=\u001b[39m reply\u001b[39m.\u001b[39mjson()[\u001b[39m\"\u001b[39m\u001b[39mresults\u001b[39m\u001b[39m\"\u001b[39m][\u001b[39m0\u001b[39m][\u001b[39m\"\u001b[39m\u001b[39mid\u001b[39m\u001b[39m\"\u001b[39m]\n",
      "\u001b[1;31mOSError\u001b[0m: Login failed"
     ]
    }
   ],
   "source": [
    "with handler:\n",
    "    handler.PostExperiment(\n",
    "        sample_set_method_name=sample_set_method_name,\n",
    "        sample_list=sample_list,\n",
    "        plates=plates,\n",
    "        audit_trail_message=None,\n",
    "    )"
   ]
  },
  {
   "cell_type": "markdown",
   "id": "e4dfbd76-bf9c-4926-aef8-a0772b4c1b69",
   "metadata": {},
   "source": [
    "Run the sample set method"
   ]
  },
  {
   "cell_type": "code",
   "execution_count": null,
   "id": "b54ba855-9ba4-46e2-a1de-f91dda9b36df",
   "metadata": {},
   "outputs": [],
   "source": [
    "with handler:\n",
    "    handler.RunExperiment(\n",
    "        sample_set_method=sample_set_method_name,\n",
    "        sample_set_name=sample_set_method_name,\n",
    "        system=system,\n",
    "        node=node,\n",
    "    )"
   ]
  }
 ],
 "metadata": {
  "kernelspec": {
   "display_name": "Python 3 (ipykernel)",
   "language": "python",
   "name": "python3"
  },
  "language_info": {
   "codemirror_mode": {
    "name": "ipython",
    "version": 3
   },
   "file_extension": ".py",
   "mimetype": "text/x-python",
   "name": "python",
   "nbconvert_exporter": "python",
   "pygments_lexer": "ipython3",
   "version": "3.9.4"
  }
 },
 "nbformat": 4,
 "nbformat_minor": 5
}
