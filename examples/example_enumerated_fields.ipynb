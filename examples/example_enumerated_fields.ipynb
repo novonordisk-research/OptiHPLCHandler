{
 "cells": [
  {
   "cell_type": "markdown",
   "metadata": {},
   "source": [
    "# Enumerated fields in sampleset methods\n",
    "\n",
    "In some fields in sampleset methods, you have can select one of a given number of values from a dropdown. Such fields are said to be enumerated.\n",
    "\n",
    "An `EmpowerHandler` contains a list of such fields, and their possible values, in the property `EmpowerHandler.enum_dict`. When the `EmpowerHandler` is created, `EmpowerHandler.enum_dict` is populated with the built-in enumerated SampleSetMethod fields in Empower, i.e. Column Position, Function, Processing and Sample Matrix.\n",
    "\n",
    "Each value in `EmpowerHandler.enum_dict` is an `Enum`, with values corresponding to the possible values of the field in Empower, and keys that are as close to possible to the possible values, typically just spaces replaced with underscores, and without parentheses."
   ]
  },
  {
   "cell_type": "code",
   "execution_count": 9,
   "metadata": {},
   "outputs": [],
   "source": [
    "import os\n",
    "from dotenv import load_dotenv\n",
    "from OptiHPLCHandler import EmpowerHandler\n",
    "\n",
    "# get api address from .env file\n",
    "load_dotenv(\"../.env_vars\")\n",
    "EMPOWER_API_ADDRESS = os.getenv(\"EMPOWER_API_ADDRESS_PRD\")\n",
    "\n",
    "handler = EmpowerHandler(\n",
    "    project=\"WebAPI_test\",\n",
    "    address=EMPOWER_API_ADDRESS,\n",
    "    allow_login_without_context_manager=True,\n",
    ")"
   ]
  },
  {
   "cell_type": "code",
   "execution_count": 10,
   "metadata": {},
   "outputs": [
    {
     "name": "stderr",
     "output_type": "stream",
     "text": [
      "C:\\Users\\srfu\\programming\\OptiHPLCHandler\\src\\OptiHPLCHandler\\empower_handler.py:124: UserWarning: You are logging in manually without a context manager. This is not recommended.\n",
      "Please use a context manager, e.g.\n",
      "`with EmpowerHandler(...) as handler:...`\n",
      "  warnings.warn(\n"
     ]
    }
   ],
   "source": [
    "handler.login()"
   ]
  },
  {
   "cell_type": "code",
   "execution_count": 4,
   "metadata": {},
   "outputs": [
    {
     "name": "stdout",
     "output_type": "stream",
     "text": [
      "Field name: Blank\n",
      "Values: No, Yes\n",
      "Field name: ColumnName\n",
      "Values: , XBridge C18, XBridge Shield RP18, XBridge C8, XBridge Phenyl, XBridge HILIC, XBridge Amide, SunFire C18, SunFire C8, Atlantis T3, Atlantis HILIC, Atlantis dC18\n",
      "Field name: ColumnPosition\n",
      "Values: No Change, Position 1, Position 2, Position 3, Position 4, Position 5, Position 6, Position 7, Position 8, Position 9, Position 10, Position 11, Position 12, Position 13, Position 14, Position 15, Position 16, Position 17, Position 18, Position 19, Position 20, Position 21, Position 22, Position 23, Position 24\n",
      "Field name: ColumnSerialNumber\n",
      "Values: \n",
      "Field name: Function\n",
      "Values: Inject Standards, Inject Narrow Standards, Inject Broad Standards, Inject Samples, Inject Narrow Samples, Inject Broad Samples, Inject Controls, Inject RF Internal Standards, Inject Immediate Standards, Inject Immediate Samples, Clear Calibration, Equilibrate, Report, Quantitate, Calibrate, Condition Column, Purge Inj, Purge Det, EasyTune, Compute Dissolution, Dissolution Wait, Refresh Syringe, Wash Needle, Wet Prime, Sys Prep, Summarize Custom Fields, Pause, Summarize Custom Fields (Exclude Faulted), Summarize Custom Fields Incrementally, Summarize Custom Fields Incrementally (Exclude Faulted), Export\n",
      "Field name: PeakRatioReference\n",
      "Values: No, Yes\n",
      "Field name: Processing\n",
      "Values: No Set, Don't Process or Report, Don't Report, Normal, Ignore Faults, No Sys Suit\n",
      "Field name: SampleMatrix\n",
      "Values: , Sample, Diluent Blank, Mobile Phase Blank, Plasma Blank, Bile Blank, Urine Blank, Formulation Blank, Extraction Blank, Filtrate, Excipient, Working Standard, Stock Standard, Placebo\n"
     ]
    }
   ],
   "source": [
    "fields = handler.GetEnumeratedFields()\n",
    "for field in fields:\n",
    "    print(\"Field name: \" + field)\n",
    "    values = handler.SetEnumeratedSamplesetFieldValues(field)\n",
    "    print(\"Values: \" + \", \".join(values))"
   ]
  }
 ],
 "metadata": {
  "kernelspec": {
   "display_name": ".env",
   "language": "python",
   "name": "python3"
  },
  "language_info": {
   "codemirror_mode": {
    "name": "ipython",
    "version": 3
   },
   "file_extension": ".py",
   "mimetype": "text/x-python",
   "name": "python",
   "nbconvert_exporter": "python",
   "pygments_lexer": "ipython3",
   "version": "3.9.1"
  }
 },
 "nbformat": 4,
 "nbformat_minor": 2
}
