{
 "cells": [
  {
   "cell_type": "code",
   "execution_count": 1,
   "metadata": {},
   "outputs": [],
   "source": [
    "import os\n",
    "from dotenv import load_dotenv\n",
    "\n",
    "# get api address from .env file\n",
    "load_dotenv(\"../.env_vars\")\n",
    "EMPOWER_API_ADDRESS = os.getenv(\"EMPOWER_API_ADDRESS_PRD\")"
   ]
  },
  {
   "cell_type": "code",
   "execution_count": 2,
   "metadata": {},
   "outputs": [
    {
     "name": "stderr",
     "output_type": "stream",
     "text": [
      "c:\\Users\\slcb\\Desktop\\Programming\\OptiHPLCHandler\\.env\\lib\\site-packages\\urllib3\\connectionpool.py:1095: InsecureRequestWarning: Unverified HTTPS request is being made to host 'reappnnit024n.corp.novocorp.net'. Adding certificate verification is strongly advised. See: https://urllib3.readthedocs.io/en/latest/advanced-usage.html#tls-warnings\n",
      "  warnings.warn(\n"
     ]
    }
   ],
   "source": [
    "from OptiHPLCHandler import EmpowerHandler\n",
    "\n",
    "handler = EmpowerHandler(\n",
    "    project=\"WebAPI_test\",\n",
    "    address=EMPOWER_API_ADDRESS,\n",
    "    allow_login_without_context_manager=True,\n",
    ")\n",
    "\n",
    "handler.connection.verify = \"../ca-certificates.crt\"\n",
    "\n",
    "# Get methods with BSM and QSM pumps as well as PDA and TUV detectors\n",
    "with handler:\n",
    "    bsm_pda_method = handler.GetInstrumentMethod(\"@BSM_PDA_Template\")\n",
    "    qsm_pda_method = handler.GetInstrumentMethod(\"@QSM_PDA_Template\")\n",
    "    bsm_tuv_method = handler.GetInstrumentMethod(\"@BSM_TUV_Template\")\n",
    "    qsm_pda_flr_method = handler.GetInstrumentMethod(\"@QSM_PDA_FLR_Template\")\n",
    "    # bsm_pda_rid_method = handler.GetInstrumentMethod(\"@BSM_PDA_RI_Template\") # not implemented\n",
    "    bsm_tuv_single_method = handler.GetInstrumentMethod(\"@BSM_TUV_Single_Template\")\n",
    "    bsm_tuv_dual_method = handler.GetInstrumentMethod(\"@BSM_TUV_Dual_Template\")\n",
    "    bsm_tuv_off_method = handler.GetInstrumentMethod(\"@BSM_TUV_Off_Template\")\n",
    "    bsm_pda_on_method = handler.GetInstrumentMethod(\"@BSM_PDA_ON_Template\")"
   ]
  },
  {
   "cell_type": "code",
   "execution_count": 3,
   "metadata": {},
   "outputs": [],
   "source": [
    "from OptiHPLCHandler.empower_detector_module_method import (\n",
    "    PDAChannel,\n",
    "    FLRChannel,\n",
    "    TUVChannel,\n",
    "    PDASpectralChannel,\n",
    ")"
   ]
  },
  {
   "cell_type": "markdown",
   "metadata": {},
   "source": [
    "# Channels\n",
    "The channels in a method can be interacted with on two levels. On the instrument method level and on the detector level.\n",
    "A PDA has space for 8 single wavelength channels and 1 spectral channel"
   ]
  },
  {
   "cell_type": "markdown",
   "metadata": {},
   "source": [
    "### PDA Method"
   ]
  },
  {
   "cell_type": "code",
   "execution_count": 4,
   "metadata": {},
   "outputs": [
    {
     "name": "stdout",
     "output_type": "stream",
     "text": [
      "[PDAChannel(wavelength1='222', wavelength2='498', resolution='Resolution_48', datamode='DataModeAbsorbance_0', ratio2dminimumau='0.01')]\n"
     ]
    }
   ],
   "source": [
    "bsm_pda_method_copy = bsm_pda_method.copy()\n",
    "print(bsm_pda_method_copy.channels)  # On instrument method level"
   ]
  },
  {
   "cell_type": "markdown",
   "metadata": {},
   "source": [
    "Changing channel using channels attribute (222 nm to 210 nm)"
   ]
  },
  {
   "cell_type": "code",
   "execution_count": 5,
   "metadata": {},
   "outputs": [
    {
     "name": "stdout",
     "output_type": "stream",
     "text": [
      "[PDAChannel(wavelength1='210', wavelength2='254', resolution='Resolution_48', datamode='DataModeAbsorbance_0', ratio2dminimumau='0.01')]\n"
     ]
    }
   ],
   "source": [
    "# Wavelength 1 is the key for a PDA channel, wavelength is the key for a TUV channel\n",
    "# Not setting the other attributes will keep the default values defined by Empower\n",
    "pda_channel = [PDAChannel(wavelength1=210)]\n",
    "bsm_pda_method_copy.channels = pda_channel\n",
    "print(bsm_pda_method_copy.channels)"
   ]
  },
  {
   "cell_type": "code",
   "execution_count": 6,
   "metadata": {},
   "outputs": [
    {
     "name": "stdout",
     "output_type": "stream",
     "text": [
      "[PDAChannel(wavelength1='666', wavelength2='254', resolution='Resolution_48', datamode='DataModeAbsorbance_0', ratio2dminimumau='0.01')]\n"
     ]
    }
   ],
   "source": [
    "# One can set with another channel type that it is compatible with (e.g. TUVChannel)\n",
    "# Useful for simple method conversion\n",
    "tuv_channel = [TUVChannel(wavelength=666)]\n",
    "bsm_pda_method_copy.channels = tuv_channel\n",
    "print(bsm_pda_method_copy.channels)"
   ]
  },
  {
   "cell_type": "markdown",
   "metadata": {},
   "source": [
    "Changing channel using the wavelengths attribute (for convenience)"
   ]
  },
  {
   "cell_type": "code",
   "execution_count": 7,
   "metadata": {},
   "outputs": [
    {
     "name": "stdout",
     "output_type": "stream",
     "text": [
      "['210', '220', '230']\n"
     ]
    }
   ],
   "source": [
    "bsm_pda_method_copy.wavelengths = [210, 220, 230]  # 214 or \"214\"\n",
    "print(bsm_pda_method_copy.wavelengths)"
   ]
  },
  {
   "cell_type": "markdown",
   "metadata": {},
   "source": [
    "#### Spectral Channel\n",
    "Only available on detector method level. Not the instrument method level"
   ]
  },
  {
   "cell_type": "code",
   "execution_count": 8,
   "metadata": {},
   "outputs": [
    {
     "data": {
      "text/plain": [
       "[PDAChannel(wavelength1='222', wavelength2='498', resolution='Resolution_48', datamode='DataModeAbsorbance_0', ratio2dminimumau='0.01'),\n",
       " PDASpectralChannel(start_wavelength='210', end_wavelength='400', resolution='Resolution_12')]"
      ]
     },
     "execution_count": 8,
     "metadata": {},
     "output_type": "execute_result"
    }
   ],
   "source": [
    "bsm_pda_on_method_copy = bsm_pda_on_method.copy()\n",
    "bsm_pda_on_method_copy.channels  # On instrument method level"
   ]
  },
  {
   "cell_type": "code",
   "execution_count": 9,
   "metadata": {},
   "outputs": [],
   "source": [
    "bsm_pda_method_copy.detector_method_list[0].spectral_channel  # returns none is not set"
   ]
  },
  {
   "cell_type": "code",
   "execution_count": 10,
   "metadata": {},
   "outputs": [
    {
     "data": {
      "text/plain": [
       "PDASpectralChannel(start_wavelength='210', end_wavelength='400', resolution='Resolution_12')"
      ]
     },
     "execution_count": 10,
     "metadata": {},
     "output_type": "execute_result"
    }
   ],
   "source": [
    "bsm_pda_on_method_copy.detector_method_list[0].spectral_channel"
   ]
  },
  {
   "cell_type": "code",
   "execution_count": 11,
   "metadata": {},
   "outputs": [
    {
     "data": {
      "text/plain": [
       "PDASpectralChannel(start_wavelength='190', end_wavelength='400', resolution='Resolution_12')"
      ]
     },
     "execution_count": 11,
     "metadata": {},
     "output_type": "execute_result"
    }
   ],
   "source": [
    "spectral = PDASpectralChannel(\n",
    "    start_wavelength=190,\n",
    "    end_wavelength=400,\n",
    ")\n",
    "bsm_pda_on_method_copy.detector_method_list[0].spectral_channel = spectral\n",
    "bsm_pda_on_method_copy.detector_method_list[0].spectral_channel"
   ]
  },
  {
   "cell_type": "code",
   "execution_count": 12,
   "metadata": {},
   "outputs": [
    {
     "data": {
      "text/plain": [
       "[{'Start Wavelength': '190', 'End Wavelength': '400'}]"
      ]
     },
     "execution_count": 12,
     "metadata": {},
     "output_type": "execute_result"
    }
   ],
   "source": [
    "bsm_pda_on_method_copy.detector_method_list[0].spectral_wavelengths"
   ]
  },
  {
   "cell_type": "code",
   "execution_count": 13,
   "metadata": {},
   "outputs": [
    {
     "data": {
      "text/plain": [
       "[{'Start Wavelength': '444', 'End Wavelength': '555'}]"
      ]
     },
     "execution_count": 13,
     "metadata": {},
     "output_type": "execute_result"
    }
   ],
   "source": [
    "spectral = [{\"Start Wavelength\": \"444\", \"End Wavelength\": \"555\"}]\n",
    "bsm_pda_on_method_copy.detector_method_list[0].spectral_wavelengths = spectral\n",
    "bsm_pda_on_method_copy.detector_method_list[0].spectral_wavelengths"
   ]
  },
  {
   "cell_type": "markdown",
   "metadata": {},
   "source": [
    "### TUV Method\n",
    "Operates the same as a PDA but only has space for two channels.\n",
    "The detector method automatically handles the changing all the various enumerators for you when you switch from Single Mode to Dual Mode\n"
   ]
  },
  {
   "cell_type": "code",
   "execution_count": 14,
   "metadata": {},
   "outputs": [
    {
     "name": "stdout",
     "output_type": "stream",
     "text": [
      "[TUVChannel(wavelength='555', datarate='SingleDataRate_20A', datamode='SingleMode_1A', filtertype='Filter_2', timeconstant='0.1', ratiominimum='0.0001', autozerowavelength='Az_3', autozeroinjectstart=True, autozeroeventorkey=True)]\n"
     ]
    }
   ],
   "source": [
    "bsm_tuv_method_copy = bsm_tuv_method.copy()\n",
    "print(bsm_tuv_method_copy.channels)  # On instrument method level"
   ]
  },
  {
   "cell_type": "markdown",
   "metadata": {},
   "source": [
    "Changing channel using channels attribute (555 nm to 666 nm)"
   ]
  },
  {
   "cell_type": "code",
   "execution_count": 15,
   "metadata": {},
   "outputs": [
    {
     "name": "stdout",
     "output_type": "stream",
     "text": [
      "[TUVChannel(wavelength='666', datarate='SingleDataRate_20A', datamode='SingleMode_1A', filtertype='Filter_2', timeconstant='0.1000', ratiominimum='0.0001', autozerowavelength='Az_3', autozeroinjectstart=True, autozeroeventorkey=True)]\n"
     ]
    }
   ],
   "source": [
    "# One can set with another channel type that it is compatible with (e.g. TUVChannel)\n",
    "# Useful for simple method conversion\n",
    "tuv_channel = [TUVChannel(wavelength=666)]\n",
    "bsm_tuv_method_copy.channels = tuv_channel\n",
    "print(bsm_tuv_method_copy.channels)  # Note datarate etc for single mode"
   ]
  },
  {
   "cell_type": "code",
   "execution_count": 16,
   "metadata": {},
   "outputs": [
    {
     "name": "stdout",
     "output_type": "stream",
     "text": [
      "[TUVChannel(wavelength='111', datarate='DualDataRate_1B', datamode='DualModeA_1B', filtertype='Filter_2', timeconstant='2.0000', ratiominimum='0.0001', autozerowavelength='Az_3', autozeroinjectstart=True, autozeroeventorkey=True), TUVChannel(wavelength='222', datarate='DualDataRate_1B', datamode='DualModeB_2C', filtertype='Filter_2', timeconstant='2.0000', ratiominimum='0.0001', autozerowavelength='Az_3', autozeroinjectstart=True, autozeroeventorkey=True)]\n"
     ]
    }
   ],
   "source": [
    "# Changing to dual mode\n",
    "bsm_tuv_method_copy.channels = [TUVChannel(wavelength=111), TUVChannel(wavelength=222)]\n",
    "print(\n",
    "    bsm_tuv_method_copy.channels\n",
    ")  # note different datarates, datamode and timeconstant"
   ]
  },
  {
   "cell_type": "markdown",
   "metadata": {},
   "source": [
    "### FLR Method"
   ]
  },
  {
   "cell_type": "code",
   "execution_count": 17,
   "metadata": {},
   "outputs": [
    {
     "data": {
      "text/plain": [
       "[PDAChannel(wavelength1='214', wavelength2='798', resolution='Resolution_48', datamode='DataModeAbsorbance_0', ratio2dminimumau='0.01'),\n",
       " PDAChannel(wavelength1='260', wavelength2='798', resolution='Resolution_48', datamode='DataModeAbsorbance_0', ratio2dminimumau='0.01'),\n",
       " PDAChannel(wavelength1='280', wavelength2='798', resolution='Resolution_48', datamode='DataModeAbsorbance_0', ratio2dminimumau='0.01'),\n",
       " FLRChannel(excitation='280', emission='348', channel_name='ChannelA', enable=True, datamode='Emission_1F')]"
      ]
     },
     "execution_count": 17,
     "metadata": {},
     "output_type": "execute_result"
    }
   ],
   "source": [
    "qsm_pda_flr_method_copy = qsm_pda_flr_method.copy()\n",
    "channels = qsm_pda_flr_method_copy.channels\n",
    "channels"
   ]
  },
  {
   "cell_type": "markdown",
   "metadata": {},
   "source": [
    "Set w/ channels attribute"
   ]
  },
  {
   "cell_type": "code",
   "execution_count": 18,
   "metadata": {},
   "outputs": [
    {
     "data": {
      "text/plain": [
       "[FLRChannel(excitation=210, emission=220, channel_name='', enable=True, datamode='Emission_1F')]"
      ]
     },
     "execution_count": 18,
     "metadata": {},
     "output_type": "execute_result"
    }
   ],
   "source": [
    "# FLR channels can only be set with channels attribute and not wavelengths\n",
    "channels = [FLRChannel(excitation=210, emission=220)]\n",
    "channels  # Overwrites the PDA channel"
   ]
  },
  {
   "cell_type": "code",
   "execution_count": 19,
   "metadata": {},
   "outputs": [],
   "source": [
    "# How to change on channel level without overwriting the other channels\n",
    "# alternatively, use wavelengths attribute (see below)"
   ]
  },
  {
   "cell_type": "code",
   "execution_count": 20,
   "metadata": {},
   "outputs": [
    {
     "data": {
      "text/plain": [
       "[PDAChannel(wavelength1='214', wavelength2='798', resolution='Resolution_48', datamode='DataModeAbsorbance_0', ratio2dminimumau='0.01'),\n",
       " PDAChannel(wavelength1='260', wavelength2='798', resolution='Resolution_48', datamode='DataModeAbsorbance_0', ratio2dminimumau='0.01'),\n",
       " PDAChannel(wavelength1='280', wavelength2='798', resolution='Resolution_48', datamode='DataModeAbsorbance_0', ratio2dminimumau='0.01'),\n",
       " FLRChannel(excitation=210, emission=220, channel_name='', enable=True, datamode='Emission_1F')]"
      ]
     },
     "execution_count": 20,
     "metadata": {},
     "output_type": "execute_result"
    }
   ],
   "source": [
    "qsm_pda_flr_method_copy = qsm_pda_flr_method.copy()\n",
    "channels = qsm_pda_flr_method_copy.channels\n",
    "flr_channel = [FLRChannel(excitation=210, emission=220)]\n",
    "pda_channels = channels[:-1]  # All but the last channel (FLR)\n",
    "channels = pda_channels + flr_channel\n",
    "channels"
   ]
  },
  {
   "cell_type": "markdown",
   "metadata": {},
   "source": [
    "Set w/ wavelength attribute"
   ]
  },
  {
   "cell_type": "code",
   "execution_count": 21,
   "metadata": {},
   "outputs": [
    {
     "data": {
      "text/plain": [
       "['214',\n",
       " '260',\n",
       " '280',\n",
       " {'Excitation wavelength': '280', 'Emission wavelength': '348'}]"
      ]
     },
     "execution_count": 21,
     "metadata": {},
     "output_type": "execute_result"
    }
   ],
   "source": [
    "qsm_pda_flr_method_copy = qsm_pda_flr_method.copy()\n",
    "qsm_pda_flr_method_copy.wavelengths"
   ]
  },
  {
   "cell_type": "code",
   "execution_count": null,
   "metadata": {},
   "outputs": [
    {
     "data": {
      "text/plain": [
       "['210',\n",
       " '220',\n",
       " '230',\n",
       " {'Excitation wavelength': '270', 'Emission wavelength': '347'}]"
      ]
     },
     "execution_count": 26,
     "metadata": {},
     "output_type": "execute_result"
    }
   ],
   "source": [
    "qsm_pda_flr_method_copy.wavelengths = [210, 220, 230]\n",
    "qsm_pda_flr_method_copy.wavelengths  # FLR cannot be set with wavelengths on the instrument method level"
   ]
  },
  {
   "cell_type": "code",
   "execution_count": 23,
   "metadata": {},
   "outputs": [
    {
     "data": {
      "text/plain": [
       "[{'Excitation wavelength': '280', 'Emission wavelength': '348'}]"
      ]
     },
     "execution_count": 23,
     "metadata": {},
     "output_type": "execute_result"
    }
   ],
   "source": [
    "qsm_pda_flr_method_copy.detector_method_list[1].wavelengths"
   ]
  },
  {
   "cell_type": "code",
   "execution_count": 24,
   "metadata": {},
   "outputs": [
    {
     "data": {
      "text/plain": [
       "[{'Excitation wavelength': '270', 'Emission wavelength': '347'}]"
      ]
     },
     "execution_count": 24,
     "metadata": {},
     "output_type": "execute_result"
    }
   ],
   "source": [
    "qsm_pda_flr_method_copy.detector_method_list[1].wavelengths = [\n",
    "    {\"Excitation wavelength\": \"270\", \"Emission wavelength\": \"347\"}\n",
    "]\n",
    "qsm_pda_flr_method_copy.detector_method_list[1].wavelengths"
   ]
  }
 ],
 "metadata": {
  "kernelspec": {
   "display_name": ".env",
   "language": "python",
   "name": "python3"
  },
  "language_info": {
   "codemirror_mode": {
    "name": "ipython",
    "version": 3
   },
   "file_extension": ".py",
   "mimetype": "text/x-python",
   "name": "python",
   "nbconvert_exporter": "python",
   "pygments_lexer": "ipython3",
   "version": "3.9.1"
  }
 },
 "nbformat": 4,
 "nbformat_minor": 2
}
