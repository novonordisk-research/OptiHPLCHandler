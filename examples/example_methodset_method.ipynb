{
 "cells": [
  {
   "cell_type": "markdown",
   "metadata": {},
   "source": [
    "# Example: Get, inspect, change, and put back a methodset method\n",
    "\n",
    "Here outlines how to interact with methodset methods and instrument methods.\n",
    "\n",
    "- Finding and getting a methodset method.\n",
    "- Inspecting what types of instrument methods are in the methodset method.\n",
    "- Inspecting the instrument parameters in the method, including column temperature and gradient table.\n",
    "- Changing instrument parameters and posting the new method.\n",
    "\n",
    "# Finding and getting a methodset method\n",
    "\n",
    "We first find the list of all methodset methods, select one, and get that from Empower:"
   ]
  },
  {
   "cell_type": "code",
   "execution_count": 1,
   "metadata": {},
   "outputs": [
    {
     "name": "stderr",
     "output_type": "stream",
     "text": [
      "C:\\Users\\srfu\\MATLAB\\Projects\\OptiHPLCHandler\\src\\OptiHPLCHandler\\empower_api_core.py:172: UserWarning: The password will be sent in plain text.\n",
      "  warnings.warn(\"The password will be sent in plain text.\")\n"
     ]
    },
    {
     "ename": "HTTPError",
     "evalue": "400 Client Error: Bad Request for url: http://***REMOVED***:3076/authentication/login",
     "output_type": "error",
     "traceback": [
      "\u001b[1;31m---------------------------------------------------------------------------\u001b[0m",
      "\u001b[1;31mHTTPError\u001b[0m                                 Traceback (most recent call last)",
      "\u001b[1;32mc:\\Users\\srfu\\MATLAB\\Projects\\OptiHPLCHandler\\examples\\example_methodset_method.ipynb Cell 2\u001b[0m line \u001b[0;36m9\n\u001b[0;32m      <a href='vscode-notebook-cell:/c%3A/Users/srfu/MATLAB/Projects/OptiHPLCHandler/examples/example_methodset_method.ipynb#W4sZmlsZQ%3D%3D?line=5'>6</a>\u001b[0m handler \u001b[39m=\u001b[39m EmpowerHandler(project\u001b[39m=\u001b[39m\u001b[39m\"\u001b[39m\u001b[39mWebAPI_test\u001b[39m\u001b[39m\"\u001b[39m, address\u001b[39m=\u001b[39m\u001b[39m\"\u001b[39m\u001b[39mhttp://***REMOVED***:3076/\u001b[39m\u001b[39m\"\u001b[39m)\n\u001b[0;32m      <a href='vscode-notebook-cell:/c%3A/Users/srfu/MATLAB/Projects/OptiHPLCHandler/examples/example_methodset_method.ipynb#W4sZmlsZQ%3D%3D?line=7'>8</a>\u001b[0m \u001b[39m# Get the list of methods, select one, and get the method details\u001b[39;00m\n\u001b[1;32m----> <a href='vscode-notebook-cell:/c%3A/Users/srfu/MATLAB/Projects/OptiHPLCHandler/examples/example_methodset_method.ipynb#W4sZmlsZQ%3D%3D?line=8'>9</a>\u001b[0m \u001b[39mwith\u001b[39;00m handler:\n\u001b[0;32m     <a href='vscode-notebook-cell:/c%3A/Users/srfu/MATLAB/Projects/OptiHPLCHandler/examples/example_methodset_method.ipynb#W4sZmlsZQ%3D%3D?line=9'>10</a>\u001b[0m     method_list \u001b[39m=\u001b[39m handler\u001b[39m.\u001b[39mGetMethodList() \u001b[39m# Get the list of methodset methods\u001b[39;00m\n\u001b[0;32m     <a href='vscode-notebook-cell:/c%3A/Users/srfu/MATLAB/Projects/OptiHPLCHandler/examples/example_methodset_method.ipynb#W4sZmlsZQ%3D%3D?line=10'>11</a>\u001b[0m     method_name \u001b[39m=\u001b[39m method_list[\u001b[39m0\u001b[39m] \u001b[39m# Select the first method\u001b[39;00m\n",
      "File \u001b[1;32m~\\MATLAB\\Projects\\OptiHPLCHandler\\src\\OptiHPLCHandler\\empower_handler.py:102\u001b[0m, in \u001b[0;36mEmpowerHandler.__enter__\u001b[1;34m(self)\u001b[0m\n\u001b[0;32m    100\u001b[0m \u001b[39m\u001b[39m\u001b[39m\"\"\"Start the context manager.\"\"\"\u001b[39;00m\n\u001b[0;32m    101\u001b[0m \u001b[39mif\u001b[39;00m \u001b[39mself\u001b[39m\u001b[39m.\u001b[39mauto_login:\n\u001b[1;32m--> 102\u001b[0m     \u001b[39mself\u001b[39;49m\u001b[39m.\u001b[39;49mlogin(has_context\u001b[39m=\u001b[39;49m\u001b[39mTrue\u001b[39;49;00m)\n\u001b[0;32m    103\u001b[0m \u001b[39mself\u001b[39m\u001b[39m.\u001b[39m_has_context \u001b[39m=\u001b[39m \u001b[39mTrue\u001b[39;00m\n\u001b[0;32m    104\u001b[0m \u001b[39mreturn\u001b[39;00m \u001b[39mself\u001b[39m\n",
      "File \u001b[1;32m~\\MATLAB\\Projects\\OptiHPLCHandler\\src\\OptiHPLCHandler\\empower_handler.py:169\u001b[0m, in \u001b[0;36mEmpowerHandler.login\u001b[1;34m(self, username, password, has_context)\u001b[0m\n\u001b[0;32m    163\u001b[0m     \u001b[39melse\u001b[39;00m:\n\u001b[0;32m    164\u001b[0m         \u001b[39mraise\u001b[39;00m \u001b[39mRuntimeError\u001b[39;00m(\n\u001b[0;32m    165\u001b[0m             \u001b[39m\"\u001b[39m\u001b[39mLogin without context is not allowed. \u001b[39m\u001b[39m\"\u001b[39m\n\u001b[0;32m    166\u001b[0m             \u001b[39m\"\u001b[39m\u001b[39mPlease use a context manager, e.g. \u001b[39m\u001b[39m\"\u001b[39m\n\u001b[0;32m    167\u001b[0m             \u001b[39m\"\u001b[39m\u001b[39m`with EmpowerHandler(...) as handler:...`\u001b[39m\u001b[39m\"\u001b[39m\n\u001b[0;32m    168\u001b[0m         )\n\u001b[1;32m--> 169\u001b[0m \u001b[39mself\u001b[39;49m\u001b[39m.\u001b[39;49mconnection\u001b[39m.\u001b[39;49mlogin(password\u001b[39m=\u001b[39;49mpassword, username\u001b[39m=\u001b[39;49musername)\n",
      "File \u001b[1;32m~\\MATLAB\\Projects\\OptiHPLCHandler\\src\\OptiHPLCHandler\\empower_api_core.py:93\u001b[0m, in \u001b[0;36mEmpowerConnection.login\u001b[1;34m(self, username, password)\u001b[0m\n\u001b[0;32m     88\u001b[0m logger\u001b[39m.\u001b[39mdebug(\u001b[39m\"\u001b[39m\u001b[39mLogging into Empower\u001b[39m\u001b[39m\"\u001b[39m)\n\u001b[0;32m     89\u001b[0m reply \u001b[39m=\u001b[39m requests\u001b[39m.\u001b[39mpost(\n\u001b[0;32m     90\u001b[0m     \u001b[39mself\u001b[39m\u001b[39m.\u001b[39maddress \u001b[39m+\u001b[39m \u001b[39m\"\u001b[39m\u001b[39m/authentication/login\u001b[39m\u001b[39m\"\u001b[39m,\n\u001b[0;32m     91\u001b[0m     json\u001b[39m=\u001b[39mbody,\n\u001b[0;32m     92\u001b[0m )\n\u001b[1;32m---> 93\u001b[0m reply\u001b[39m.\u001b[39;49mraise_for_status()\n\u001b[0;32m     94\u001b[0m \u001b[39mself\u001b[39m\u001b[39m.\u001b[39mtoken \u001b[39m=\u001b[39m reply\u001b[39m.\u001b[39mjson()[\u001b[39m\"\u001b[39m\u001b[39mresult\u001b[39m\u001b[39m\"\u001b[39m][\u001b[39m\"\u001b[39m\u001b[39mtoken\u001b[39m\u001b[39m\"\u001b[39m]\n\u001b[0;32m     95\u001b[0m \u001b[39mself\u001b[39m\u001b[39m.\u001b[39msession_id \u001b[39m=\u001b[39m reply\u001b[39m.\u001b[39mjson()[\u001b[39m\"\u001b[39m\u001b[39mresult\u001b[39m\u001b[39m\"\u001b[39m][\u001b[39m\"\u001b[39m\u001b[39mid\u001b[39m\u001b[39m\"\u001b[39m]\n",
      "File \u001b[1;32mc:\\Users\\srfu\\MATLAB\\Projects\\OptiHPLCHandler\\.env\\lib\\site-packages\\requests\\models.py:1021\u001b[0m, in \u001b[0;36mResponse.raise_for_status\u001b[1;34m(self)\u001b[0m\n\u001b[0;32m   1016\u001b[0m     http_error_msg \u001b[39m=\u001b[39m (\n\u001b[0;32m   1017\u001b[0m         \u001b[39mf\u001b[39m\u001b[39m\"\u001b[39m\u001b[39m{\u001b[39;00m\u001b[39mself\u001b[39m\u001b[39m.\u001b[39mstatus_code\u001b[39m}\u001b[39;00m\u001b[39m Server Error: \u001b[39m\u001b[39m{\u001b[39;00mreason\u001b[39m}\u001b[39;00m\u001b[39m for url: \u001b[39m\u001b[39m{\u001b[39;00m\u001b[39mself\u001b[39m\u001b[39m.\u001b[39murl\u001b[39m}\u001b[39;00m\u001b[39m\"\u001b[39m\n\u001b[0;32m   1018\u001b[0m     )\n\u001b[0;32m   1020\u001b[0m \u001b[39mif\u001b[39;00m http_error_msg:\n\u001b[1;32m-> 1021\u001b[0m     \u001b[39mraise\u001b[39;00m HTTPError(http_error_msg, response\u001b[39m=\u001b[39m\u001b[39mself\u001b[39m)\n",
      "\u001b[1;31mHTTPError\u001b[0m: 400 Client Error: Bad Request for url: http://***REMOVED***:3076/authentication/login"
     ]
    }
   ],
   "source": [
    "import pprint\n",
    "\n",
    "from OptiHPLCHandler import EmpowerHandler\n",
    "\n",
    "# Create an instance of the EmpowerHandler class\n",
    "handler = EmpowerHandler(project=\"WebAPI_test\", address=\"http://***REMOVED***:3076/\")\n",
    "\n",
    "# Get the list of methods, select one, and get the method details\n",
    "with handler:\n",
    "    method_list = handler.GetMethodList() # Get the list of methodset methods\n",
    "    method_name = method_list[0] # Select the first method\n",
    "    print(method_name)\n",
    "    full_method = handler.GetMethodsetMethod(method_name)"
   ]
  },
  {
   "cell_type": "markdown",
   "metadata": {},
   "source": [
    "# Inspecting the methodset method\n",
    "\n",
    "We can now look into the instrument methods in the methodset methods. "
   ]
  },
  {
   "cell_type": "code",
   "execution_count": 2,
   "metadata": {},
   "outputs": [
    {
     "name": "stdout",
     "output_type": "stream",
     "text": [
      "EmpowerMethodSetMethod with 4 instrument methods of types EmpowerInstrumentMethod, EmpowerInstrumentMethod, EmpowerInstrumentMethod, BSMMethod\n",
      "Valve positions: ['A2', 'B2']\n",
      "\n",
      "\n",
      "Start of gradient table:\n",
      "\n",
      "[ { 'CompositionA': '95.0',\n",
      "    'CompositionB': '5.0',\n",
      "    'Curve': 'Initial',\n",
      "    'Flow': '0.900',\n",
      "    'Time': 'Initial'},\n",
      "  { 'CompositionA': '20.0',\n",
      "    'CompositionB': '80.0',\n",
      "    'Curve': '6',\n",
      "    'Flow': '0.900',\n",
      "    'Time': '2.00'}]\n",
      "\n",
      "\n",
      "Detector settings:\n",
      "\n",
      "    <Description />\n",
      "    <Wavelength>280</Wavelength>\n",
      "    <DataRate>SingleDataRate_20A</DataRate>\n",
      "    <DataMode>SingleMode_1A</DataMode>\n",
      "    <FilterType>Filter_2</FilterType>\n",
      "    <TimeConstant>0.1</TimeConstant>\n",
      "    <RatioMinimum>0.0001</RatioMinimum>\n",
      "    <AutoZeroWavelength>Az_3</AutoZeroWavelength>\n",
      "    <AutoZeroInjectStart>true</AutoZeroInjectStart>\n",
      "    <AutoZeroEventOrKey>true</AutoZeroEventOrKey>\n",
      "  \n"
     ]
    }
   ],
   "source": [
    "pp = pprint.PrettyPrinter(indent=2)\n",
    "\n",
    "print(full_method)\n",
    "print(f\"Valve positions: {full_method.instrument_method_list[-1].valve_position}\") # Printing the valve position for the solvent manager instrument method in the list\n",
    "print(\"\\n\\nStart of gradient table:\\n\")\n",
    "pp.pprint(full_method.gradient_table[0:2]) # Printing the first two entries gradient table. Notice that we do not need to know the tag names to print the gradient table\n",
    "print(\"\\n\\nDetector settings:\")\n",
    "print(full_method.instrument_method_list[0][\"ChannelA\"]) # Printing the settings for a single channel where we know the tag name (ChannelA)"
   ]
  },
  {
   "cell_type": "markdown",
   "metadata": {},
   "source": [
    "Note that most of the methods are simply EmpowerInstrumentMethods. That is the generic\n",
    "type for instrument methods that aren't specifically accounted for. At the moment, that\n",
    "is every type of method expect:\n",
    " - Solvent manager methods (BSMMethod and QSMMethod), which have the special properties valve_position and gradient_table\n",
    " - Column oven methods (SampleManagerMethod), which have the special property column_temperature.\n",
    "\n",
    "All of the special properties can be accessed as set from the `EmpowerMethodSetMethod`.\n",
    "Getting `EmpowerMethodSetMethod.column_temperature` will produce an error if the\n",
    "methodset method controls several column ovens (e.g. one in a sample manager and one in\n",
    "a column manager), and the column ovens have different temperatures. Setting \n",
    "`EmpowerMethodSetMethod.column_temperature` will set the temperature for all column\n",
    "ovens there are any, and produce an error otherwise."
   ]
  },
  {
   "cell_type": "markdown",
   "metadata": {},
   "source": [
    "# Changing instrument parameters and posting the new method.\n",
    "\n",
    "We can also change the values of the methodset method, and post the changed method back\n",
    "to Empower, so we can use it to analyse samples.\n",
    "\n",
    "Remember to give the method a new name before posting it to Empower. OptiHPLCHandler\n",
    "does not allow changing methods in Empower, only creating new ones."
   ]
  },
  {
   "cell_type": "code",
   "execution_count": 4,
   "metadata": {},
   "outputs": [],
   "source": [
    "gradient_table = full_method.gradient_table # Get the gradient table\n",
    "for step in gradient_table:\n",
    "    step[\"Flow\"] = 0.4 # Set the flow to 0.5 mL/min for all steps\n",
    "full_method.gradient_table = gradient_table # Set the gradient table to the updated gradient table\n",
    "full_method.valve_position = [\"A2\", \"B1\"] # Set the valve position to A2 and B1. You can also set only one of the valves.\n",
    "full_method.method_name =\"New method name\" # Set the method name\n",
    "with handler:\n",
    "    handler.PostMethodsetMethod(full_method) # Post the updated method to Empower"
   ]
  }
 ],
 "metadata": {
  "kernelspec": {
   "display_name": ".env",
   "language": "python",
   "name": "python3"
  },
  "language_info": {
   "codemirror_mode": {
    "name": "ipython",
    "version": 3
   },
   "file_extension": ".py",
   "mimetype": "text/x-python",
   "name": "python",
   "nbconvert_exporter": "python",
   "pygments_lexer": "ipython3",
   "version": "3.9.4"
  }
 },
 "nbformat": 4,
 "nbformat_minor": 2
}
