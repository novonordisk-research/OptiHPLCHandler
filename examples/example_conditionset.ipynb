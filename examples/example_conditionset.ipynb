{
 "cells": [
  {
   "cell_type": "code",
   "execution_count": 6,
   "metadata": {},
   "outputs": [],
   "source": [
    "import sys\n",
    "sys.path.append('../')\n",
    "from src.OptiHPLCHandler.utils.data_types import Sample, ColumnOptions\n",
    "from src.OptiHPLCHandler.applications.sample_set_generator.condition_set import ConditionSet\n",
    "from OptiHPLCHandler import EmpowerHandler"
   ]
  },
  {
   "cell_type": "code",
   "execution_count": 7,
   "metadata": {},
   "outputs": [
    {
     "name": "stdout",
     "output_type": "stream",
     "text": [
      "@BSM_PDA_Template\n"
     ]
    },
    {
     "data": {
      "text/plain": [
       "<OptiHPLCHandler.empower_instrument_method.EmpowerInstrumentMethod at 0x131ec1f23a0>"
      ]
     },
     "execution_count": 7,
     "metadata": {},
     "output_type": "execute_result"
    }
   ],
   "source": [
    "import os\n",
    "from dotenv import load_dotenv\n",
    "\n",
    "# get api address from .env file\n",
    "load_dotenv(\"../.env_vars\")\n",
    "EMPOWER_API_ADDRESS = os.getenv(\"EMPOWER_API_ADDRESS_PRD\")\n",
    "\n",
    "# Create an instance of the EmpowerHandler class\n",
    "handler = EmpowerHandler(project=\"WebAPI_test\", address=EMPOWER_API_ADDRESS)\n",
    "handler.connection.default_get_timeout = 120\n",
    "handler.connection.default_post_timeout = 120\n",
    "\n",
    "# Get the list of methods, select one, and get the method details\n",
    "with handler:\n",
    "    method_list = handler.GetMethodList()  # Get the list of instrument methods\n",
    "    method_name = method_list[0]  # Select the first method\n",
    "    print(method_name)\n",
    "    full_method = handler.GetInstrumentMethod(method_name)\n",
    "\n",
    "method = full_method.copy()\n",
    "method"
   ]
  },
  {
   "cell_type": "code",
   "execution_count": 10,
   "metadata": {},
   "outputs": [
    {
     "data": {
      "text/plain": [
       "{'module_method_list': [<OptiHPLCHandler.empower_detector_module_method.PDAMethod at 0x131ec557c70>,\n",
       "  <OptiHPLCHandler.empower_module_method.EmpowerModuleMethod at 0x131ec5578e0>,\n",
       "  <OptiHPLCHandler.empower_module_method.ColumnManagerMethod at 0x131ec557280>,\n",
       "  <OptiHPLCHandler.empower_module_method.BSMMethod at 0x131ed92ce80>],\n",
       " 'method_name': 'Test Method',\n",
       " 'original_method': {'methodName': '@BSM_PDA_Template',\n",
       "  'instrumentMethodJson': '',\n",
       "  'instrumentMethodXml': '',\n",
       "  'modules': [{'category': '',\n",
       "    'type': 'ARC',\n",
       "    'storageType': 'XML',\n",
       "    'name': 'ACQ-PDA',\n",
       "    'parentPath': '/AcquityPDAMethod/',\n",
       "    'nativeXml': '<AcquityPDAMethod xmlns:xsi=\"http://www.w3.org/2001/XMLSchema-instance\" xsi:noNamespaceSchemaLocation=\"AcquityPDA-Method-r100.xsd\" version=\"1\" modified=\"true\" description=\"Native XML\">\\r\\n  <DetectorType>DetectorType_0</DetectorType>\\r\\n  <SupportsReducedIO>true</SupportsReducedIO>\\r\\n  <SupportsNegativeAbsorbanceMargin>true</SupportsNegativeAbsorbanceMargin>\\r\\n  <SupportsPulseAndRectangularWave>true</SupportsPulseAndRectangularWave>\\r\\n  <RunTime>1.0</RunTime>\\r\\n  <Lamp>true</Lamp>\\r\\n  <SpectralChannel>\\r\\n    <Enable>false</Enable>\\r\\n    <StartWavelength>210</StartWavelength>\\r\\n    <EndWavelength>400</EndWavelength>\\r\\n    <Resolution>Resolution_12</Resolution>\\r\\n  </SpectralChannel>\\r\\n  <Channel1>\\r\\n    <Enable>true</Enable>\\r\\n    <DataMode>DataModeAbsorbance_0</DataMode>\\r\\n    <Wavelength1>214</Wavelength1>\\r\\n    <Wavelength2>498</Wavelength2>\\r\\n    <Resolution>Resolution_48</Resolution>\\r\\n    <Ratio2DMinimumAU>0.01</Ratio2DMinimumAU>\\r\\n  </Channel1>\\r\\n  <Channel2>\\r\\n    <Enable>false</Enable>\\r\\n    <DataMode>DataModeAbsorbance_0</DataMode>\\r\\n    <Wavelength1>254</Wavelength1>\\r\\n    <Wavelength2>254</Wavelength2>\\r\\n    <Resolution>Resolution_48</Resolution>\\r\\n    <Ratio2DMinimumAU>0.01</Ratio2DMinimumAU>\\r\\n  </Channel2>\\r\\n  <Channel3>\\r\\n    <Enable>false</Enable>\\r\\n    <DataMode>DataModeAbsorbance_0</DataMode>\\r\\n    <Wavelength1>254</Wavelength1>\\r\\n    <Wavelength2>254</Wavelength2>\\r\\n    <Resolution>Resolution_48</Resolution>\\r\\n    <Ratio2DMinimumAU>0.01</Ratio2DMinimumAU>\\r\\n  </Channel3>\\r\\n  <Channel4>\\r\\n    <Enable>false</Enable>\\r\\n    <DataMode>DataModeAbsorbance_0</DataMode>\\r\\n    <Wavelength1>254</Wavelength1>\\r\\n    <Wavelength2>254</Wavelength2>\\r\\n    <Resolution>Resolution_48</Resolution>\\r\\n    <Ratio2DMinimumAU>0.01</Ratio2DMinimumAU>\\r\\n  </Channel4>\\r\\n  <Channel5>\\r\\n    <Enable>false</Enable>\\r\\n    <DataMode>DataModeAbsorbance_0</DataMode>\\r\\n    <Wavelength1>254</Wavelength1>\\r\\n    <Wavelength2>254</Wavelength2>\\r\\n    <Resolution>Resolution_48</Resolution>\\r\\n    <Ratio2DMinimumAU>0.01</Ratio2DMinimumAU>\\r\\n  </Channel5>\\r\\n  <Channel6>\\r\\n    <Enable>false</Enable>\\r\\n    <DataMode>DataModeAbsorbance_0</DataMode>\\r\\n    <Wavelength1>254</Wavelength1>\\r\\n    <Wavelength2>254</Wavelength2>\\r\\n    <Resolution>Resolution_48</Resolution>\\r\\n    <Ratio2DMinimumAU>0.01</Ratio2DMinimumAU>\\r\\n  </Channel6>\\r\\n  <Channel7>\\r\\n    <Enable>false</Enable>\\r\\n    <DataMode>DataModeAbsorbance_0</DataMode>\\r\\n    <Wavelength1>254</Wavelength1>\\r\\n    <Wavelength2>254</Wavelength2>\\r\\n    <Resolution>Resolution_48</Resolution>\\r\\n    <Ratio2DMinimumAU>0.01</Ratio2DMinimumAU>\\r\\n  </Channel7>\\r\\n  <Channel8>\\r\\n    <Enable>false</Enable>\\r\\n    <DataMode>DataModeAbsorbance_0</DataMode>\\r\\n    <Wavelength1>254</Wavelength1>\\r\\n    <Wavelength2>254</Wavelength2>\\r\\n    <Resolution>Resolution_48</Resolution>\\r\\n    <Ratio2DMinimumAU>0.01</Ratio2DMinimumAU>\\r\\n  </Channel8>\\r\\n  <CompensationRef2D>\\r\\n    <RefWavelengthStart>310</RefWavelengthStart>\\r\\n    <RefWavelengthEnd>410</RefWavelengthEnd>\\r\\n  </CompensationRef2D>\\r\\n  <Advanced2D>\\r\\n    <CompWavelength>370</CompWavelength>\\r\\n    <CompResolution>CompResolution_480</CompResolution>\\r\\n  </Advanced2D>\\r\\n  <Analog1>\\r\\n    <ChannelID>0</ChannelID>\\r\\n    <UnitsFS>2.000</UnitsFS>\\r\\n    <VoltageFS>2000</VoltageFS>\\r\\n    <VoltageOffset>0</VoltageOffset>\\r\\n    <RatioFS>100</RatioFS>\\r\\n  </Analog1>\\r\\n  <Analog2>\\r\\n    <ChannelID>0</ChannelID>\\r\\n    <UnitsFS>2.000</UnitsFS>\\r\\n    <VoltageFS>2000</VoltageFS>\\r\\n    <VoltageOffset>0</VoltageOffset>\\r\\n    <RatioFS>100</RatioFS>\\r\\n  </Analog2>\\r\\n  <DataRate>SingleDataRate_20</DataRate>\\r\\n  <FilterType>Filter_2</FilterType>\\r\\n  <TimeConstant>0.1000</TimeConstant>\\r\\n  <ExposureTime>AutoExposure_0</ExposureTime>\\r\\n  <Interpolate370>false</Interpolate370>\\r\\n  <Interpolate656>false</Interpolate656>\\r\\n  <UVBlockingFilter>false</UVBlockingFilter>\\r\\n  <Description />\\r\\n  <RunEvents>true</RunEvents>\\r\\n  <EventTable />\\r\\n  <Threshold1>\\r\\n    <Channel>0</Channel>\\r\\n    <Level>1.000</Level>\\r\\n    <State>ThresholdState_1</State>\\r\\n  </Threshold1>\\r\\n  <Threshold2>\\r\\n    <Channel>0</Channel>\\r\\n    <Level>1.000</Level>\\r\\n    <State>ThresholdState_1</State>\\r\\n  </Threshold2>\\r\\n  <InitialSwitch1>InitialState_2</InitialSwitch1>\\r\\n  <InitialSwitch2>InitialState_2</InitialSwitch2>\\r\\n  <PulseWidth>1.0</PulseWidth>\\r\\n  <RectWavePeriod>0.2</RectWavePeriod>\\r\\n  <NegativeAbsorbanceMargin>-0.07</NegativeAbsorbanceMargin>\\r\\n</AcquityPDAMethod>',\n",
       "    'description': 'ARC - ACQ-PDA'},\n",
       "   {'category': '',\n",
       "    'type': 'ARC',\n",
       "    'storageType': 'XML',\n",
       "    'name': 'ACQ-FTN',\n",
       "    'parentPath': '/AcquitySMDIMethod/',\n",
       "    'nativeXml': '<AcquitySMDIMethod language=\"English\" version=\"2\" xmlns:xsi=\"http://www.w3.org/2001/XMLSchema-instance\" xsi:noNamespaceSchemaLocation=\"AcquityFTN-Method-R100.xsd\" modified=\"true\" description=\"Native XML\">\\r\\n  <RunTime>1.0</RunTime>\\r\\n  <Comment />\\r\\n  <LoadAhead>ModeSequential_0</LoadAhead>\\r\\n  <LoopOfflineEnabled>false</LoopOfflineEnabled>\\r\\n  <LoopOffline>LoopOfflineAutomatic_-1</LoopOffline>\\r\\n  <WashSolvent>Water</WashSolvent>\\r\\n  <WashSolventXml>&lt;Solvent version=\"1\" permanent=\"true\" context=\"all\" enabled=\"true\" date=\"5/1/2010 12:00:00 AM\"&gt;&lt;Id&gt;144FE7DA-582C-436f-BEED-9B9B3A6EE0D0&lt;/Id&gt;&lt;Type&gt;Aqueous&lt;/Type&gt;&lt;NameId&gt;PermanentSolventWater&lt;/NameId&gt;&lt;Name&gt;Water&lt;/Name&gt;&lt;Comment /&gt;&lt;Concentration&gt;0&lt;/Concentration&gt;&lt;Viscosity&gt;1.000&lt;/Viscosity&gt;&lt;/Solvent&gt;</WashSolventXml>\\r\\n  <WashSolventType>SolventType_2</WashSolventType>\\r\\n  <InsertionWashTime>0</InsertionWashTime>\\r\\n  <WashTime>6</WashTime>\\r\\n  <PurgeSolvent>Water</PurgeSolvent>\\r\\n  <PurgeSolventXml>&lt;Solvent version=\"1\" permanent=\"true\" context=\"all\" enabled=\"true\" date=\"5/1/2010 12:00:00 AM\"&gt;&lt;Id&gt;144FE7DA-582C-436f-BEED-9B9B3A6EE0D0&lt;/Id&gt;&lt;Type&gt;Aqueous&lt;/Type&gt;&lt;NameId&gt;PermanentSolventWater&lt;/NameId&gt;&lt;Name&gt;Water&lt;/Name&gt;&lt;Comment /&gt;&lt;Concentration&gt;0&lt;/Concentration&gt;&lt;Viscosity&gt;1.000&lt;/Viscosity&gt;&lt;/Solvent&gt;</PurgeSolventXml>\\r\\n  <PurgeSolventType>SolventType_2</PurgeSolventType>\\r\\n  <ValveCycles>CustomDisable_-1</ValveCycles>\\r\\n  <DoDilution>false</DoDilution>\\r\\n  <DilutionVolume>0</DilutionVolume>\\r\\n  <DelayTime>0</DelayTime>\\r\\n  <NeedlePosition>4</NeedlePosition>\\r\\n  <ColumnTemperature>HeaterOff_-1</ColumnTemperature>\\r\\n  <ColumnTemperatureLimit>5.0</ColumnTemperatureLimit>\\r\\n  <SampleTemperature>8.0</SampleTemperature>\\r\\n  <SampleTemperatureLimit>5</SampleTemperatureLimit>\\r\\n  <CustomRate>CustomDisable_-1</CustomRate>\\r\\n  <NeedleDepth>CustomDisable_-1</NeedleDepth>\\r\\n  <PreAspirateAir>CustomDisable_-1</PreAspirateAir>\\r\\n  <PostAspirateAir>CustomDisable_-1</PostAspirateAir>\\r\\n  <ColumnTemperatureDataEnable>false</ColumnTemperatureDataEnable>\\r\\n  <AmbientTemperatureDataEnable>false</AmbientTemperatureDataEnable>\\r\\n  <SampleTemperatureDataEnable>false</SampleTemperatureDataEnable>\\r\\n  <ElevatorTemperatureDataEnable>false</ElevatorTemperatureDataEnable>\\r\\n  <SamplePressureDataEnable>false</SamplePressureDataEnable>\\r\\n  <PreheaterTemperatureDataEnable>false</PreheaterTemperatureDataEnable>\\r\\n  <SealForceDataEnable>false</SealForceDataEnable>\\r\\n  <SampleTempAlarmEnable>true</SampleTempAlarmEnable>\\r\\n  <ColumnTempAlarmEnable>false</ColumnTempAlarmEnable>\\r\\n  <NoInject>false</NoInject>\\r\\n  <AutoAddMixStrokeCycles>CustomDisable_-1</AutoAddMixStrokeCycles>\\r\\n  <AutoAddMixStokeVolUl>CustomDisable_-1</AutoAddMixStokeVolUl>\\r\\n  <PreHeaterMode>MethodPreHeaterMode_0</PreHeaterMode>\\r\\n  <RunEvents>false</RunEvents>\\r\\n  <EventTable />\\r\\n</AcquitySMDIMethod>',\n",
       "    'description': 'ARC - ACQ-FTN'},\n",
       "   {'category': '',\n",
       "    'type': 'ARC',\n",
       "    'storageType': 'XML',\n",
       "    'name': 'ACQ-CM',\n",
       "    'parentPath': '/AcquityCMMethod/',\n",
       "    'nativeXml': '<AcquityCMMethod xmlns:xsi=\"http://www.w3.org/2001/XMLSchema-instance\" xsi:noNamespaceSchemaLocation=\"..\\\\AcquityCM-Method-r100.xsd\" version=\"2\" modified=\"true\" description=\"Native XML\">\\r\\n  <RunTime>1.00</RunTime>\\r\\n  <Comment />\\r\\n  <ColumnManager>\\r\\n    <ValvePosition>ValvePosition_-4</ValvePosition>\\r\\n    <ValvePos1>ValvePositionAdv_-4</ValvePos1>\\r\\n    <ValvePos2>ValvePositionAdv_-4</ValvePos2>\\r\\n    <ValvePos3>ValvePositionAdv_-4</ValvePos3>\\r\\n    <ValvePos4>ValvePositionAdv_-4</ValvePos4>\\r\\n    <ValvePos5>ValvePositionAdv_-4</ValvePos5>\\r\\n    <SetColumnTemperature>45.0</SetColumnTemperature>\\r\\n    <TemperatureZone1>HeaterOff_-1</TemperatureZone1>\\r\\n    <TemperatureZone2>HeaterOff_-1</TemperatureZone2>\\r\\n    <TemperatureZone3>HeaterOff_-1</TemperatureZone3>\\r\\n    <TemperatureZone4>HeaterOff_-1</TemperatureZone4>\\r\\n    <TemperatureZone5>HeaterOff_-1</TemperatureZone5>\\r\\n    <TemperatureZone6>HeaterOff_-1</TemperatureZone6>\\r\\n    <EquilibrationTime>0.1</EquilibrationTime>\\r\\n    <EnablePreheaterTempDataChannel>false</EnablePreheaterTempDataChannel>\\r\\n    <EnableValvePositionDataChannel>false</EnableValvePositionDataChannel>\\r\\n    <EnableAmbientTempDataChannel>false</EnableAmbientTempDataChannel>\\r\\n    <EnableColumnTempDataChannel>false</EnableColumnTempDataChannel>\\r\\n    <EnableColumnTempDataChannel1>false</EnableColumnTempDataChannel1>\\r\\n    <EnableColumnTempDataChannel2>false</EnableColumnTempDataChannel2>\\r\\n    <EnableColumnTempDataChannel3>false</EnableColumnTempDataChannel3>\\r\\n    <EnableColumnTempDataChannel4>false</EnableColumnTempDataChannel4>\\r\\n    <EnableColumnTempDataChannel5>false</EnableColumnTempDataChannel5>\\r\\n    <EnableColumnTempDataChannel6>false</EnableColumnTempDataChannel6>\\r\\n    <EnableAlarmBand>true</EnableAlarmBand>\\r\\n    <SetAlarmBandDegC>5.0</SetAlarmBandDegC>\\r\\n    <Switch1>InitialSwitchState_5</Switch1>\\r\\n    <Switch2>InitialSwitchState_5</Switch2>\\r\\n    <Switch3>InitialSwitchState_5</Switch3>\\r\\n    <Switch4>InitialSwitchState_5</Switch4>\\r\\n    <RunEvents>false</RunEvents>\\r\\n    <PreAnalysisTime>false</PreAnalysisTime>\\r\\n    <ShutDownAllColumns>false</ShutDownAllColumns>\\r\\n    <Mode>0</Mode>\\r\\n    <EventTable />\\r\\n    <TwoDRepeat>false</TwoDRepeat>\\r\\n    <PreHeaterMode>MethodPreHeaterMode_3</PreHeaterMode>\\r\\n  </ColumnManager>\\r\\n</AcquityCMMethod>',\n",
       "    'description': 'ARC - ACQ-CM'},\n",
       "   {'category': '',\n",
       "    'type': 'ARC',\n",
       "    'storageType': 'XML',\n",
       "    'name': 'ACQ-BSM',\n",
       "    'parentPath': '/AcquityBSMMethod/',\n",
       "    'nativeXml': '<AcquityBSMMethod xmlns:xsi=\"http://www.w3.org/2001/XMLSchema-instance\" xsi:noNamespaceSchemaLocation=\"AcquityBSM-Method-R100.xsd\" version=\"4\" modified=\"true\" description=\"Native XML\">\\r\\n  <Scale>ScaleNormal_0</Scale>\\r\\n  <AuxPump>true</AuxPump>\\r\\n  <HTM>false</HTM>\\r\\n  <NanoParameters>\\r\\n    <VariableFlowFactor>0.10</VariableFlowFactor>\\r\\n    <TrappingMode>TrappingMode_0</TrappingMode>\\r\\n    <EnablePeakParking>false</EnablePeakParking>\\r\\n    <SampleLoadingTime>0.10</SampleLoadingTime>\\r\\n    <BSMTrappingFlowRate>0.000</BSMTrappingFlowRate>\\r\\n    <BSMTrappingCompositionA>100.0</BSMTrappingCompositionA>\\r\\n    <BSMTrappingCompositionB>0.0</BSMTrappingCompositionB>\\r\\n    <TrappingLowPressureLimit>0</TrappingLowPressureLimit>\\r\\n    <TrappingHighPressureLimit>10000</TrappingHighPressureLimit>\\r\\n    <FlowRateADataEnable>false</FlowRateADataEnable>\\r\\n    <FlowRateBDataEnable>false</FlowRateBDataEnable>\\r\\n    <TemperatureADataEnable>false</TemperatureADataEnable>\\r\\n    <TemperatureBDataEnable>false</TemperatureBDataEnable>\\r\\n  </NanoParameters>\\r\\n  <AuxPumpAParameters>\\r\\n    <AuxPumpRole>Auxiliary</AuxPumpRole>\\r\\n    <AuxSolventName>Water</AuxSolventName>\\r\\n    <AuxSolventType>SolventType_2</AuxSolventType>\\r\\n    <AuxFlow>0.000</AuxFlow>\\r\\n    <AuxFlowSource>1</AuxFlowSource>\\r\\n    <AuxLowPressureLimit>0</AuxLowPressureLimit>\\r\\n    <AuxHighPressureLimit>10000</AuxHighPressureLimit>\\r\\n    <AuxPressureDataEnable>false</AuxPressureDataEnable>\\r\\n    <AuxFlowRateDataEnable>false</AuxFlowRateDataEnable>\\r\\n  </AuxPumpAParameters>\\r\\n  <AuxPumpBParameters>\\r\\n    <AuxPumpRole>Lock Mass</AuxPumpRole>\\r\\n    <AuxSolventName>Water</AuxSolventName>\\r\\n    <AuxSolventType>SolventType_2</AuxSolventType>\\r\\n    <AuxFlow>0.000</AuxFlow>\\r\\n    <AuxFlowSource>1</AuxFlowSource>\\r\\n    <AuxLowPressureLimit>0</AuxLowPressureLimit>\\r\\n    <AuxHighPressureLimit>10000</AuxHighPressureLimit>\\r\\n    <AuxPressureDataEnable>false</AuxPressureDataEnable>\\r\\n    <AuxFlowRateDataEnable>false</AuxFlowRateDataEnable>\\r\\n  </AuxPumpBParameters>\\r\\n  <RunTime>1.0</RunTime>\\r\\n  <Comment />\\r\\n  <FlowSourceA>1</FlowSourceA>\\r\\n  <FlowSourceB>2</FlowSourceB>\\r\\n  <LowPressureLimit>0</LowPressureLimit>\\r\\n  <HighPressureLimit>15000</HighPressureLimit>\\r\\n  <SolventNameA>Water</SolventNameA>\\r\\n  <SolventXmlA>&lt;Solvent version=\"1\" permanent=\"true\" context=\"all\" enabled=\"true\" date=\"5/1/2010 12:00:00 AM\"&gt;&lt;Id&gt;144FE7DA-582C-436f-BEED-9B9B3A6EE0D0&lt;/Id&gt;&lt;Type&gt;Aqueous&lt;/Type&gt;&lt;NameId&gt;PermanentSolventWater&lt;/NameId&gt;&lt;Name&gt;Water&lt;/Name&gt;&lt;Comment /&gt;&lt;Concentration&gt;0&lt;/Concentration&gt;&lt;Viscosity&gt;1.000&lt;/Viscosity&gt;&lt;/Solvent&gt;</SolventXmlA>\\r\\n  <SolventNameB>Acetonitrile</SolventNameB>\\r\\n  <SolventXmlB>&lt;Solvent version=\"1\" permanent=\"true\" context=\"all\" enabled=\"true\" date=\"5/1/2010 12:00:00 AM\"&gt;&lt;Id&gt;6C81169F-7A70-48a1-88E4-132FB2EBD83C&lt;/Id&gt;&lt;Type&gt;Modifier&lt;/Type&gt;&lt;NameId&gt;PermanentSolventAcetonitrile&lt;/NameId&gt;&lt;Name&gt;Acetonitrile&lt;/Name&gt;&lt;Comment /&gt;&lt;Concentration&gt;100&lt;/Concentration&gt;&lt;Viscosity&gt;0.340&lt;/Viscosity&gt;&lt;/Solvent&gt;</SolventXmlB>\\r\\n  <SolventTypeA>SolventType_2</SolventTypeA>\\r\\n  <SolventTypeB>SolventType_3</SolventTypeB>\\r\\n  <VentValve>VentValveSystem_2</VentValve>\\r\\n  <DegasserEnable>true</DegasserEnable>\\r\\n  <InitialSwitch1>SwitchNoChange_4</InitialSwitch1>\\r\\n  <InitialSwitch2>SwitchNoChange_4</InitialSwitch2>\\r\\n  <InitialSwitch3>SwitchNoChange_4</InitialSwitch3>\\r\\n  <SealWashPeriod>5.0</SealWashPeriod>\\r\\n  <Analog1>AnalogPressure_2</Analog1>\\r\\n  <Analog2>AnalogB_4</Analog2>\\r\\n  <SystemPressureDataEnable>true</SystemPressureDataEnable>\\r\\n  <FlowRateDataEnable>false</FlowRateDataEnable>\\r\\n  <PercentADataEnable>false</PercentADataEnable>\\r\\n  <PercentBDataEnable>false</PercentBDataEnable>\\r\\n  <LeftAPressureDataEnable>false</LeftAPressureDataEnable>\\r\\n  <RightAPressureDataEnable>false</RightAPressureDataEnable>\\r\\n  <LeftBPressureDataEnable>false</LeftBPressureDataEnable>\\r\\n  <RightBPressureDataEnable>false</RightBPressureDataEnable>\\r\\n  <DegasserPressureDataEnable>false</DegasserPressureDataEnable>\\r\\n  <GradientTable>\\r\\n    <GradientRow>\\r\\n      <Time>Initial</Time>\\r\\n      <Flow>0.300</Flow>\\r\\n      <CompositionA>50.0</CompositionA>\\r\\n      <CompositionB>50.0</CompositionB>\\r\\n      <Curve>Initial</Curve>\\r\\n    </GradientRow>\\r\\n    <GradientRow>\\r\\n      <Time>2.00</Time>\\r\\n      <Flow>0.300</Flow>\\r\\n      <CompositionA>0.0</CompositionA>\\r\\n      <CompositionB>100.0</CompositionB>\\r\\n      <Curve>6</Curve>\\r\\n    </GradientRow>\\r\\n    <GradientRow>\\r\\n      <Time>2.10</Time>\\r\\n      <Flow>0.300</Flow>\\r\\n      <CompositionA>0.0</CompositionA>\\r\\n      <CompositionB>100.0</CompositionB>\\r\\n      <Curve>6</Curve>\\r\\n    </GradientRow>\\r\\n    <GradientRow>\\r\\n      <Time>2.60</Time>\\r\\n      <Flow>0.300</Flow>\\r\\n      <CompositionA>50.0</CompositionA>\\r\\n      <CompositionB>50.0</CompositionB>\\r\\n      <Curve>11</Curve>\\r\\n    </GradientRow>\\r\\n    <GradientRow>\\r\\n      <Time>5.00</Time>\\r\\n      <Flow>0.300</Flow>\\r\\n      <CompositionA>50.0</CompositionA>\\r\\n      <CompositionB>50.0</CompositionB>\\r\\n      <Curve>6</Curve>\\r\\n    </GradientRow>\\r\\n  </GradientTable>\\r\\n  <RunEvents>true</RunEvents>\\r\\n  <EventTable />\\r\\n  <PreInjectorVolume>0</PreInjectorVolume>\\r\\n  <PreAnalysisMode>false</PreAnalysisMode>\\r\\n  <RepeatGradientTable>false</RepeatGradientTable>\\r\\n</AcquityBSMMethod>',\n",
       "    'description': 'ARC - ACQ-BSM'}]},\n",
       " 'use_sample_manager_oven': False}"
      ]
     },
     "execution_count": 10,
     "metadata": {},
     "output_type": "execute_result"
    }
   ],
   "source": [
    "method.method_name = \"Test Method\"\n",
    "method.__dict__"
   ]
  },
  {
   "cell_type": "code",
   "execution_count": 11,
   "metadata": {},
   "outputs": [],
   "source": [
    "list_samples = [\n",
    "    Sample(\n",
    "        name=\"sample1\",\n",
    "        sample_position=\"1:A,1\",\n",
    "        injection_volume=3,\n",
    "    ),\n",
    "    Sample(\n",
    "        name=\"sample2\",\n",
    "        sample_position=\"1:A,2\",\n",
    "        injection_volume=3,\n",
    "    ),\n",
    "]\n"
   ]
  },
  {
   "cell_type": "code",
   "execution_count": 12,
   "metadata": {},
   "outputs": [
    {
     "data": {
      "text/plain": [
       "ColumnOptions(name='test', equilibration_time=7.0, cleaning_time=2.0)"
      ]
     },
     "execution_count": 12,
     "metadata": {},
     "output_type": "execute_result"
    }
   ],
   "source": [
    "column1_options= ColumnOptions(\n",
    "    length=150,\n",
    "    diameter=2.1,\n",
    "    flow_rate=0.3,\n",
    "    name=\"test\",\n",
    ")\n",
    "column1_options"
   ]
  },
  {
   "cell_type": "code",
   "execution_count": 15,
   "metadata": {},
   "outputs": [
    {
     "data": {
      "text/plain": [
       "<src.OptiHPLCHandler.applications.sample_set_generator.condition_set.ConditionSet at 0x131ec7c2430>"
      ]
     },
     "execution_count": 15,
     "metadata": {},
     "output_type": "execute_result"
    }
   ],
   "source": [
    "ConditionSet(\n",
    "    column_position=\"1\",\n",
    "    column_options=column1_options,\n",
    "    valve=[\"A1\",\"B1\"],\n",
    "    samples=list_samples,\n",
    "    plate_type=\"Blah\",\n",
    "    instrument_method=method,\n",
    "    column_temperature=40, # should this be in column options?\n",
    ")\n",
    "\n"
   ]
  },
  {
   "cell_type": "code",
   "execution_count": null,
   "metadata": {},
   "outputs": [],
   "source": []
  }
 ],
 "metadata": {
  "kernelspec": {
   "display_name": ".env",
   "language": "python",
   "name": "python3"
  },
  "language_info": {
   "codemirror_mode": {
    "name": "ipython",
    "version": 3
   },
   "file_extension": ".py",
   "mimetype": "text/x-python",
   "name": "python",
   "nbconvert_exporter": "python",
   "pygments_lexer": "ipython3",
   "version": "3.9.1"
  }
 },
 "nbformat": 4,
 "nbformat_minor": 2
}
