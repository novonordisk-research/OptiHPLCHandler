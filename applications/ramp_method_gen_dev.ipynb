{
 "cells": [
  {
   "cell_type": "code",
   "execution_count": 1,
   "metadata": {},
   "outputs": [
    {
     "name": "stdout",
     "output_type": "stream",
     "text": [
      "@BSM_PDA_Template\n"
     ]
    }
   ],
   "source": [
    "import pprint\n",
    "\n",
    "from OptiHPLCHandler import EmpowerHandler\n",
    "\n",
    "# Create an instance of the EmpowerHandler class\n",
    "handler = EmpowerHandler(project=\"WebAPI_test\", address=\"XXXX\")\n",
    "\n",
    "# Get the list of methods, select one, and get the method details\n",
    "with handler:\n",
    "    method_list = handler.GetMethodList()  # Get the list of instrument methods\n",
    "    method_name = method_list[0]  # Select the first method\n",
    "    print(method_name)\n",
    "    full_method = handler.GetInstrumentMethod(method_name)"
   ]
  },
  {
   "cell_type": "code",
   "execution_count": 2,
   "metadata": {},
   "outputs": [],
   "source": [
    "from typing import List\n",
    "\n",
    "\n",
    "def generate_rampup_method(\n",
    "    full_method: EmpowerHandler,\n",
    "    rampup_time: int = 10,\n",
    "    low_flow_rate: float = 0.05,\n",
    "    flow_curve: int = 6,\n",
    ") -> EmpowerHandler:\n",
    "    \"\"\"\n",
    "    Generate a ramp-up method based on the given full method.\n",
    "\n",
    "    Args:\n",
    "        full_method (EmpowerHandler): The full method to generate the ramp-up method from.\n",
    "        rampup_time (int): The ramp-up time in seconds. Default is 10.\n",
    "        low_flow_rate (float): The low flow rate in mL/min. Default is 0.05.\n",
    "        flow_curve (int): The flow curve number. Default is 6.\n",
    "\n",
    "    Returns:\n",
    "        EmpowerHandler: The generated ramp-up method.\n",
    "    \"\"\"\n",
    "    # Get the gradient table and method name from the full method\n",
    "    gradient_table: List[dict] = full_method.gradient_table\n",
    "    method_name: str = full_method.method_name\n",
    "\n",
    "    # Truncate the method name if it is too long\n",
    "    if len(method_name) > 25:\n",
    "        method_name = method_name[:25]\n",
    "\n",
    "    method_name = f\"{method_name}_ramp\"\n",
    "\n",
    "    # Generate a new gradient table for the ramp-up method\n",
    "    gradient_table = [\n",
    "        gradient_table[0],\n",
    "        {**gradient_table[0], \"Time\": rampup_time, \"Curve\": flow_curve},\n",
    "    ]\n",
    "    gradient_table[0][\"Flow\"] = low_flow_rate\n",
    "\n",
    "    # Set method name and gradient table in the full method\n",
    "    full_method.gradient_table = gradient_table\n",
    "    full_method.method_name = method_name\n",
    "\n",
    "    return full_method"
   ]
  },
  {
   "cell_type": "code",
   "execution_count": 3,
   "metadata": {},
   "outputs": [
    {
     "name": "stdout",
     "output_type": "stream",
     "text": [
      "@BSM_PDA_Template\n",
      "[ { 'CompositionA': '50.0',\n",
      "    'CompositionB': '50.0',\n",
      "    'Curve': 'Initial',\n",
      "    'Flow': '0.300',\n",
      "    'Time': 'Initial'},\n",
      "  { 'CompositionA': '0.0',\n",
      "    'CompositionB': '100.0',\n",
      "    'Curve': '6',\n",
      "    'Flow': '0.300',\n",
      "    'Time': '1.00'},\n",
      "  { 'CompositionA': '50.0',\n",
      "    'CompositionB': '50.0',\n",
      "    'Curve': '6',\n",
      "    'Flow': '0.300',\n",
      "    'Time': '7.00'}]\n",
      "@BSM_PDA_Template_ramp\n",
      "[ { 'CompositionA': '50.0',\n",
      "    'CompositionB': '50.0',\n",
      "    'Curve': 'Initial',\n",
      "    'Flow': '0.05',\n",
      "    'Time': 'Initial'},\n",
      "  { 'CompositionA': '50.0',\n",
      "    'CompositionB': '50.0',\n",
      "    'Curve': '6',\n",
      "    'Flow': '0.300',\n",
      "    'Time': '10'}]\n"
     ]
    }
   ],
   "source": [
    "pp = pprint.PrettyPrinter(indent=2)\n",
    "\n",
    "print(full_method.method_name)\n",
    "pp.pprint(full_method.gradient_table)\n",
    "\n",
    "rampup_method = generate_rampup_method(full_method)\n",
    "print(rampup_method.method_name)\n",
    "pp.pprint(rampup_method.gradient_table)"
   ]
  },
  {
   "cell_type": "code",
   "execution_count": 4,
   "metadata": {},
   "outputs": [],
   "source": [
    "# with handler:\n",
    "#    handler.PostInstrumentMethod(rampup_method)\n",
    "#    method_set_method = {\n",
    "#    \"name\": rampup_method.method_name,\n",
    "#    \"instrumentMethod\": rampup_method.method_name}\n",
    "#    handler.PostMethodSetMethod(method_set_method)"
   ]
  },
  {
   "cell_type": "code",
   "execution_count": null,
   "metadata": {},
   "outputs": [],
   "source": []
  }
 ],
 "metadata": {
  "kernelspec": {
   "display_name": ".env",
   "language": "python",
   "name": "python3"
  },
  "language_info": {
   "codemirror_mode": {
    "name": "ipython",
    "version": 3
   },
   "file_extension": ".py",
   "mimetype": "text/x-python",
   "name": "python",
   "nbconvert_exporter": "python",
   "pygments_lexer": "ipython3",
   "version": "3.9.1"
  }
 },
 "nbformat": 4,
 "nbformat_minor": 2
}
