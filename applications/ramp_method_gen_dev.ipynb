{
 "cells": [
  {
   "cell_type": "code",
   "execution_count": 35,
   "metadata": {},
   "outputs": [
    {
     "name": "stdout",
     "output_type": "stream",
     "text": [
      "@BSM_PDA_Template\n"
     ]
    }
   ],
   "source": [
    "import pprint\n",
    "\n",
    "from OptiHPLCHandler import EmpowerHandler\n",
    "\n",
    "# Create an instance of the EmpowerHandler class\n",
    "handler = EmpowerHandler(project=\"WebAPI_test\", address=\"http://***REMOVED***:3076/\")\n",
    "\n",
    "# Get the list of methods, select one, and get the method details\n",
    "with handler:\n",
    "    method_list = handler.GetMethodList()  # Get the list of instrument methods\n",
    "    method_name = method_list[0]  # Select the first method\n",
    "    print(method_name)\n",
    "    full_method = handler.GetInstrumentMethod(method_name)"
   ]
  },
  {
   "cell_type": "code",
   "execution_count": 57,
   "metadata": {},
   "outputs": [],
   "source": [
    "def generate_rampup_method(full_method, rampup_time=10, low_flow_rate=0.05, flow_curve=6):\n",
    "\n",
    "    # variables\n",
    "    gradient=full_method.gradient_table\n",
    "    method_name=full_method.method_name\n",
    "    \n",
    "    # Truncate the method name if it is too long\n",
    "    if len(method_name) > 25:\n",
    "        method_name = method_name[:25]\n",
    "\n",
    "    method_name = method_name + \"_ramp\"\n",
    "\n",
    "    # Generate a new gradient table for the rampup method\n",
    "    gradient_table = [gradient[0], gradient[0].copy()]  # Get the gradient table and duplicate the first entry\n",
    "    gradient_table[1][\"Time\"] = rampup_time  # Change the time of the second entry \n",
    "    gradient_table[1][\"Curve\"] = flow_curve  # Change the curve of the second entry\n",
    "    gradient_table[0][\"Flow\"] = low_flow_rate  # Change the flow of the first entry\n",
    "\n",
    "    # Set method name and gradient table\n",
    "    full_method.gradient_table = (gradient_table)\n",
    "    full_method.method_name = method_name \n",
    "\n",
    "    return full_method\n"
   ]
  },
  {
   "cell_type": "code",
   "execution_count": 60,
   "metadata": {},
   "outputs": [
    {
     "name": "stdout",
     "output_type": "stream",
     "text": [
      "@BSM_PDA_Template_ramp_ramp\n",
      "[ { 'CompositionA': '50.0',\n",
      "    'CompositionB': '50.0',\n",
      "    'Curve': 'Initial',\n",
      "    'Flow': '0.05',\n",
      "    'Time': 'Initial'},\n",
      "  { 'CompositionA': '50.0',\n",
      "    'CompositionB': '50.0',\n",
      "    'Curve': '6',\n",
      "    'Flow': '0.05',\n",
      "    'Time': '10'}]\n",
      "@BSM_PDA_Template_ramp_ra_ramp\n",
      "[ { 'CompositionA': '50.0',\n",
      "    'CompositionB': '50.0',\n",
      "    'Curve': 'Initial',\n",
      "    'Flow': '0.05',\n",
      "    'Time': 'Initial'},\n",
      "  { 'CompositionA': '50.0',\n",
      "    'CompositionB': '50.0',\n",
      "    'Curve': '6',\n",
      "    'Flow': '0.05',\n",
      "    'Time': '10'}]\n"
     ]
    }
   ],
   "source": [
    "pp = pprint.PrettyPrinter(indent=2)\n",
    "\n",
    "print(full_method.method_name)\n",
    "pp.pprint(full_method.gradient_table)\n",
    "\n",
    "rampup_method = generate_rampup_method(full_method)\n",
    "print(rampup_method.method_name)\n",
    "pp.pprint(rampup_method.gradient_table)"
   ]
  },
  {
   "cell_type": "code",
   "execution_count": null,
   "metadata": {},
   "outputs": [],
   "source": [
    "with handler:\n",
    "    handler.PostInstrumentMethod(rampup_method)  \n",
    "    method_set_method = {\n",
    "    \"name\": rampup_method.method_name,\n",
    "    \"instrumentMethod\": rampup_method.method_name}\n",
    "    handler.PostMethodSetMethod(method_set_method)\n",
    "    "
   ]
  }
 ],
 "metadata": {
  "kernelspec": {
   "display_name": ".env",
   "language": "python",
   "name": "python3"
  },
  "language_info": {
   "codemirror_mode": {
    "name": "ipython",
    "version": 3
   },
   "file_extension": ".py",
   "mimetype": "text/x-python",
   "name": "python",
   "nbconvert_exporter": "python",
   "pygments_lexer": "ipython3",
   "version": "3.9.1"
  }
 },
 "nbformat": 4,
 "nbformat_minor": 2
}
