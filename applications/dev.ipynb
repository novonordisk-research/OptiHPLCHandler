{
 "cells": [
  {
   "cell_type": "code",
   "execution_count": 5,
   "metadata": {},
   "outputs": [],
   "source": [
    "from OptiHPLCHandler import EmpowerHandler"
   ]
  },
  {
   "cell_type": "code",
   "execution_count": 6,
   "metadata": {},
   "outputs": [],
   "source": [
    "# get api address from .env file\n",
    "import os\n",
    "from dotenv import load_dotenv\n",
    "\n",
    "load_dotenv(\"../.env_vars\")\n",
    "EMPOWER_API_ADDRESS = os.getenv(\"EMPOWER_API_ADDRESS_PRD\")"
   ]
  },
  {
   "cell_type": "code",
   "execution_count": 3,
   "metadata": {},
   "outputs": [],
   "source": [
    "#import sys\n",
    "#sys.path.insert(0, \"../\")"
   ]
  },
  {
   "cell_type": "code",
   "execution_count": 7,
   "metadata": {},
   "outputs": [],
   "source": [
    "# Create an instance of the EmpowerHandler class\n",
    "handler = EmpowerHandler(project=\"WebAPI_test\", address=EMPOWER_API_ADDRESS)\n",
    "\n",
    "handler.connection.default_get_timeout = 300\n",
    "handler.connection.default_post_timeout = 300\n",
    "\n",
    "# Get the list of methods, select one, and get the method details\n",
    "with handler:\n",
    "    method_list = handler.GetMethodList()  # Get the list of instrument methods\n",
    "    method_name = \"20240430_slcb\"\n",
    "    full_method = handler.GetInstrumentMethod(method_name)"
   ]
  },
  {
   "cell_type": "code",
   "execution_count": null,
   "metadata": {},
   "outputs": [],
   "source": [
    "from applications.generate_basic_robustness_methods import generate_basic_robustness_sampleset, generate_basic_robustness_instrument_methods\n",
    "\n",
    "dict_methods=generate_basic_robustness_instrument_methods()\n",
    "\n",
    "generate_basic_robustness_sampleset(dict_methods)"
   ]
  },
  {
   "cell_type": "code",
   "execution_count": null,
   "metadata": {},
   "outputs": [],
   "source": []
  }
 ],
 "metadata": {
  "kernelspec": {
   "display_name": ".env",
   "language": "python",
   "name": "python3"
  },
  "language_info": {
   "codemirror_mode": {
    "name": "ipython",
    "version": 3
   },
   "file_extension": ".py",
   "mimetype": "text/x-python",
   "name": "python",
   "nbconvert_exporter": "python",
   "pygments_lexer": "ipython3",
   "version": "3.9.1"
  }
 },
 "nbformat": 4,
 "nbformat_minor": 2
}
