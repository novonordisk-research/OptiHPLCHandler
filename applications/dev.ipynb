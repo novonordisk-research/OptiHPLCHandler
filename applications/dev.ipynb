{
 "cells": [
  {
   "cell_type": "code",
   "execution_count": 1,
   "metadata": {},
   "outputs": [],
   "source": [
    "import pprint\n",
    "from types import SimpleNamespace\n",
    "from OptiHPLCHandler import EmpowerHandler, EmpowerInstrumentMethod\n",
    "from typing import List, Optional, Union, Dict"
   ]
  },
  {
   "cell_type": "code",
   "execution_count": 2,
   "metadata": {},
   "outputs": [],
   "source": [
    "# get api address from .env file\n",
    "import os\n",
    "from dotenv import load_dotenv\n",
    "load_dotenv('../.env_vars')\n",
    "EMPOWER_API_ADDRESS = os.getenv('EMPOWER_API_ADDRESS')\n",
    "\n"
   ]
  },
  {
   "cell_type": "code",
   "execution_count": 1,
   "metadata": {},
   "outputs": [],
   "source": [
    "import sys\n",
    "sys.path.insert(0, '../')"
   ]
  },
  {
   "cell_type": "code",
   "execution_count": 16,
   "metadata": {},
   "outputs": [
    {
     "ename": "NameError",
     "evalue": "name 'EmpowerHandler' is not defined",
     "output_type": "error",
     "traceback": [
      "\u001b[1;31m---------------------------------------------------------------------------\u001b[0m",
      "\u001b[1;31mNameError\u001b[0m                                 Traceback (most recent call last)",
      "Cell \u001b[1;32mIn[16], line 2\u001b[0m\n\u001b[0;32m      1\u001b[0m \u001b[38;5;66;03m# Create an instance of the EmpowerHandler class\u001b[39;00m\n\u001b[1;32m----> 2\u001b[0m handler \u001b[38;5;241m=\u001b[39m \u001b[43mEmpowerHandler\u001b[49m(project\u001b[38;5;241m=\u001b[39m\u001b[38;5;124m\"\u001b[39m\u001b[38;5;124mWebAPI_test\u001b[39m\u001b[38;5;124m\"\u001b[39m, address\u001b[38;5;241m=\u001b[39mEMPOWER_API_ADDRESS)\n\u001b[0;32m      4\u001b[0m handler\u001b[38;5;241m.\u001b[39mconnection\u001b[38;5;241m.\u001b[39mdefault_get_timeout\u001b[38;5;241m=\u001b[39m\u001b[38;5;241m300\u001b[39m\n\u001b[0;32m      5\u001b[0m handler\u001b[38;5;241m.\u001b[39mconnection\u001b[38;5;241m.\u001b[39mdefault_post_timeout\u001b[38;5;241m=\u001b[39m\u001b[38;5;241m300\u001b[39m\n",
      "\u001b[1;31mNameError\u001b[0m: name 'EmpowerHandler' is not defined"
     ]
    }
   ],
   "source": [
    "# Create an instance of the EmpowerHandler class\n",
    "handler = EmpowerHandler(project=\"WebAPI_test\", address=EMPOWER_API_ADDRESS)\n",
    "\n",
    "handler.connection.default_get_timeout=300\n",
    "handler.connection.default_post_timeout=300\n",
    "\n",
    "# Get the list of methods, select one, and get the method details\n",
    "with handler:\n",
    "    method_list = handler.GetMethodList()  # Get the list of instrument methods\n",
    "    method_name = \"20240416_test\"\n",
    "    full_method = handler.GetInstrumentMethod(method_name)"
   ]
  },
  {
   "cell_type": "code",
   "execution_count": 2,
   "metadata": {},
   "outputs": [
    {
     "name": "stdout",
     "output_type": "stream",
     "text": [
      "[{'Time': 'Initial', 'Flow': '0.05', 'CompositionA': '95', 'CompositionB': '5', 'Curve': 'Initial'}, {'Time': '10', 'Flow': '1', 'CompositionA': '95', 'CompositionB': '5', 'Curve': '6'}]\n",
      "[{'Time': 'Initial', 'Flow': '0.05', 'CompositionA': '95', 'CompositionB': '5', 'Curve': 'Initial'}, {'Time': '10', 'Flow': '1', 'CompositionA': '95', 'CompositionB': '5', 'Curve': '6'}]\n"
     ]
    }
   ],
   "source": [
    "from method_generators.ramp_method import generate_ramp_method\n",
    "from types import SimpleNamespace\n",
    "def test_generate_ramp_method():\n",
    "        method = SimpleNamespace(\n",
    "            gradient_table=[\n",
    "                {\n",
    "                    \"Time\": \"Initial\",\n",
    "                    \"Flow\": \"1\",\n",
    "                    \"CompositionA\": \"95\",\n",
    "                    \"CompositionB\": \"5\",\n",
    "                    \"Curve\": \"Initial\",\n",
    "                },\n",
    "                {\n",
    "                    \"Time\": \"10\",\n",
    "                    \"Flow\": \"1\",\n",
    "                    \"CompositionA\": \"10\",\n",
    "                    \"CompositionB\": \"90\",\n",
    "                    \"Curve\": \"6\",\n",
    "                },\n",
    "                {\n",
    "                    \"Time\": \"20\",\n",
    "                    \"Flow\": \"1\",\n",
    "                    \"CompositionA\": \"95\",\n",
    "                    \"CompositionB\": \"5\",\n",
    "                    \"Curve\": \"6\",\n",
    "                },\n",
    "                {\n",
    "                    \"Time\": \"30\",\n",
    "                    \"Flow\": \"1\",\n",
    "                    \"CompositionA\": \"95\",\n",
    "                    \"CompositionB\": \"5\",\n",
    "                    \"Curve\": \"6\",\n",
    "                },\n",
    "            ],\n",
    "            column_temperature=30,\n",
    "            method_name=\"test\",\n",
    "        )\n",
    "\n",
    "        method = generate_ramp_method(\n",
    "            method, low_flow_rate=0.05, flow_curve=6, ramp_type=\"rampup\"\n",
    "        )\n",
    "        print(method.gradient_table)\n",
    "        expected_method_gradient_table= [\n",
    "            {\n",
    "                \"Time\": \"Initial\",\n",
    "                \"Flow\": \"0.05\",\n",
    "                \"CompositionA\": \"95\",\n",
    "                \"CompositionB\": \"5\",\n",
    "                \"Curve\": \"Initial\",\n",
    "            },\n",
    "            {\n",
    "                \"Time\": \"10\",\n",
    "                \"Flow\": \"1\",\n",
    "                \"CompositionA\": \"95\",\n",
    "                \"CompositionB\": \"5\",\n",
    "                \"Curve\": \"6\",\n",
    "            },\n",
    "        ]\n",
    "        print(expected_method_gradient_table)\n",
    "        assert method.gradient_table == expected_method_gradient_table\n",
    "        assert method.column_temperature == 30\n",
    "        assert method.method_name == \"test_ramp\"\n",
    "\n",
    "        method = SimpleNamespace(\n",
    "            gradient_table=[\n",
    "                {\n",
    "                    \"Time\": \"Initial\",\n",
    "                    \"Flow\": \"1\",\n",
    "                    \"CompositionA\": \"95\",\n",
    "                    \"CompositionB\": \"5\",\n",
    "                    \"Curve\": \"Initial\",\n",
    "                },\n",
    "                {\n",
    "                    \"Time\": \"10\",\n",
    "                    \"Flow\": \"1\",\n",
    "                    \"CompositionA\": \"10\",\n",
    "                    \"CompositionB\": \"90\",\n",
    "                    \"Curve\": \"6\",\n",
    "                },\n",
    "                {\n",
    "                    \"Time\": \"20\",\n",
    "                    \"Flow\": \"1\",\n",
    "                    \"CompositionA\": \"95\",\n",
    "                    \"CompositionB\": \"5\",\n",
    "                    \"Curve\": \"6\",\n",
    "                },\n",
    "                {\n",
    "                    \"Time\": \"30\",\n",
    "                    \"Flow\": \"1\",\n",
    "                    \"CompositionA\": \"95\",\n",
    "                    \"CompositionB\": \"5\",\n",
    "                    \"Curve\": \"6\",\n",
    "                },\n",
    "            ],\n",
    "            method_name=\"test\",\n",
    "            column_temperature=30,\n",
    "        )\n",
    "\n",
    "        method = generate_ramp_method(\n",
    "            method,\n",
    "            low_flow_rate=0.05,\n",
    "            flow_curve=6,\n",
    "            ramp_type=\"rampdown\",\n",
    "            reduce_column_temperature=True,\n",
    "        )\n",
    "        assert method.gradient_table == [\n",
    "            {\n",
    "                \"Time\": \"Initial\",\n",
    "                \"Flow\": \"1\",\n",
    "                \"CompositionA\": \"95\",\n",
    "                \"CompositionB\": \"5\",\n",
    "                \"Curve\": \"Initial\",\n",
    "            },\n",
    "            {\n",
    "                \"Time\": \"1\",\n",
    "                \"Flow\": \"0.05\",\n",
    "                \"CompositionA\": \"95\",\n",
    "                \"CompositionB\": \"5\",\n",
    "                \"Curve\": \"6\",\n",
    "            },\n",
    "        ]\n",
    "        assert method.column_temperature == 20\n",
    "        assert method.method_name == \"test_low\"\n",
    "\n",
    "test_generate_ramp_method()"
   ]
  },
  {
   "cell_type": "code",
   "execution_count": null,
   "metadata": {},
   "outputs": [],
   "source": []
  },
  {
   "cell_type": "code",
   "execution_count": null,
   "metadata": {},
   "outputs": [],
   "source": []
  }
 ],
 "metadata": {
  "kernelspec": {
   "display_name": ".env",
   "language": "python",
   "name": "python3"
  },
  "language_info": {
   "codemirror_mode": {
    "name": "ipython",
    "version": 3
   },
   "file_extension": ".py",
   "mimetype": "text/x-python",
   "name": "python",
   "nbconvert_exporter": "python",
   "pygments_lexer": "ipython3",
   "version": "3.9.1"
  }
 },
 "nbformat": 4,
 "nbformat_minor": 2
}
