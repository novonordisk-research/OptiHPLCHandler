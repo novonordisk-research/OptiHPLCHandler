{
 "cells": [
  {
   "cell_type": "code",
   "execution_count": 1,
   "metadata": {},
   "outputs": [],
   "source": [
    "import pprint\n",
    "from types import SimpleNamespace\n",
    "from OptiHPLCHandler import EmpowerHandler, EmpowerInstrumentMethod\n",
    "from typing import List, Optional, Union, Dict"
   ]
  },
  {
   "cell_type": "code",
   "execution_count": 2,
   "metadata": {},
   "outputs": [],
   "source": [
    "# get api address from .env file\n",
    "import os\n",
    "from dotenv import load_dotenv\n",
    "load_dotenv('../.env_vars')\n",
    "EMPOWER_API_ADDRESS = os.getenv('EMPOWER_API_ADDRESS')"
   ]
  },
  {
   "cell_type": "code",
   "execution_count": 3,
   "metadata": {},
   "outputs": [],
   "source": [
    "# Create an instance of the EmpowerHandler class\n",
    "handler = EmpowerHandler(project=\"WebAPI_test\", address=EMPOWER_API_ADDRESS)\n",
    "\n",
    "handler.connection.default_get_timeout=300\n",
    "handler.connection.default_post_timeout=300\n",
    "\n",
    "# Get the list of methods, select one, and get the method details\n",
    "with handler:\n",
    "    method_list = handler.GetMethodList()  # Get the list of instrument methods\n",
    "    method_name = \"20240416_test\"\n",
    "    full_method = handler.GetInstrumentMethod(method_name)"
   ]
  },
  {
   "cell_type": "code",
   "execution_count": 4,
   "metadata": {},
   "outputs": [
    {
     "data": {
      "text/plain": [
       "{'input_method': {'method_name': '20240416_test', 'run_time': '20.00'},\n",
       " 'rampup': {'method_name': '20240416_test_ramp', 'run_time': '10'},\n",
       " 'scaled': {'method_name': '20240416_test_cond_10m', 'run_time': '10.0'},\n",
       " 'plus_strong': {'method_name': '20240416_test_1_0pct', 'run_time': '20.00'},\n",
       " 'minus_strong': {'method_name': '20240416_test_m1_0pct', 'run_time': '20.00'},\n",
       " 'iso_start_1': {'method_name': '20240416_test_iso_15m_0', 'run_time': '35.0'},\n",
       " 'iso_start_2': {'method_name': '20240416_test_iso_30m_0', 'run_time': '50.0'},\n",
       " 'plus_temp': {'method_name': '20240416_test_2_5C', 'run_time': '20.00'},\n",
       " 'minus_temp': {'method_name': '20240416_test_m2_5C', 'run_time': '20.00'},\n",
       " 'rampdown': {'method_name': '20240416_test_low', 'run_time': '1'}}"
      ]
     },
     "execution_count": 4,
     "metadata": {},
     "output_type": "execute_result"
    }
   ],
   "source": [
    "# make sample set table for robustness testing\n",
    "from generate_basic_robustness_methods import generate_basic_robustness_instrument_methods\n",
    "# generate methods and return the dict of methods\n",
    "dict_methods = generate_basic_robustness_instrument_methods(handler, full_method)\n",
    "dict_methods"
   ]
  },
  {
   "cell_type": "code",
   "execution_count": 6,
   "metadata": {},
   "outputs": [
    {
     "name": "stdout",
     "output_type": "stream",
     "text": [
      "Logging in to Empower...\n",
      "Log in successful.\n",
      "Posting SampleSet Method 20240416_test_robustness...\n",
      "Sample Set Method 20240416_test_robustness posted.\n",
      "Sample Set Method 20240416_test_robustness not run.\n"
     ]
    }
   ],
   "source": [
    "from generate_basic_robustness_methods import generate_basic_robustness_sampleset, sample_set_namer, post_and_run_experiment\n",
    "\n",
    "plate = \"ANSI-48Vial2mLHolder\"\n",
    "plates = {\"1\": plate, \"2\": plate}\n",
    "system = \"12_5208_HCLASS_BIN\"\n",
    "node = \"Epdkhqr01048\"\n",
    "project = \"WebAPI_test\"\n",
    "method_name = \"20240416_test\"\n",
    "\n",
    "sample_list = generate_basic_robustness_sampleset(dict_methods)\n",
    "sample_set_method_name = sample_set_namer(method_name)\n",
    "\n",
    "# post and run experiment\n",
    "post_and_run_experiment(\n",
    "        handler=handler,\n",
    "        sample_set_method_name=sample_set_method_name,\n",
    "        sample_list=sample_list,\n",
    "        plates=plates,\n",
    "        system=system,\n",
    "        node=node,\n",
    "        post=True,\n",
    "        run=False\n",
    "    )\n"
   ]
  },
  {
   "cell_type": "code",
   "execution_count": null,
   "metadata": {},
   "outputs": [],
   "source": []
  },
  {
   "cell_type": "code",
   "execution_count": null,
   "metadata": {},
   "outputs": [],
   "source": []
  },
  {
   "cell_type": "code",
   "execution_count": null,
   "metadata": {},
   "outputs": [],
   "source": []
  },
  {
   "cell_type": "code",
   "execution_count": null,
   "metadata": {},
   "outputs": [],
   "source": []
  },
  {
   "cell_type": "code",
   "execution_count": 39,
   "metadata": {},
   "outputs": [],
   "source": [
    "dict_methods={\n",
    "    \"input_method\": {\n",
    "        \"method_name\": \"test\",\n",
    "        \"run_time\": \"20.0\",            \n",
    "                     },\n",
    "    \"rampup\": {\n",
    "        \"method_name\": \"test_rampup\",\n",
    "        \"run_time\": \"10.0\",            \n",
    "                     },\n",
    "    \"plus_strong\": {\n",
    "        \"method_name\": \"test_plus_strong\",\n",
    "        \"run_time\": \"20.0\",            \n",
    "                     },\n",
    "    \"minus_strong\": {\n",
    "        \"method_name\": \"test_minus_strong\",\n",
    "        \"run_time\": \"20.0\",            \n",
    "                     },\n",
    "    \"iso_start_1\": {\n",
    "        \"method_name\": \"test_iso_start_1\",\n",
    "        \"run_time\": \"50.0\",            \n",
    "                     },\n",
    "    \"iso_start_2\": {\n",
    "        \"method_name\": \"test_iso_start_2\",\n",
    "        \"run_time\": \"80.0\",            \n",
    "                     },\n",
    "    \"plus_temp\": {\n",
    "        \"method_name\": \"test_plus_temp\",\n",
    "        \"run_time\": \"20.0\",            \n",
    "                     },\n",
    "    \"minus_temp\": {\n",
    "        \"method_name\": \"test_minus_temp\",\n",
    "        \"run_time\": \"20.0\",            \n",
    "                     },\n",
    "}"
   ]
  },
  {
   "cell_type": "code",
   "execution_count": 9,
   "metadata": {},
   "outputs": [
    {
     "data": {
      "text/plain": [
       "[{'Time': 0,\n",
       "  'CompositionA': 95,\n",
       "  'CompositionB': 5,\n",
       "  'CompositionC': 0,\n",
       "  'CompositionD': 0},\n",
       " {'Time': 10,\n",
       "  'CompositionA': 50,\n",
       "  'CompositionB': 50,\n",
       "  'CompositionC': 0,\n",
       "  'CompositionD': 0},\n",
       " {'Time': 10.1, 'CompositionB': 95},\n",
       " {'Time': 12.1, 'CompositionB': 95},\n",
       " {'Time': 12.2, 'CompositionB': 5},\n",
       " {'Time': 19, 'CompositionB': 5}]"
      ]
     },
     "execution_count": 9,
     "metadata": {},
     "output_type": "execute_result"
    }
   ],
   "source": [
    "# add wash and re-equilibration\n",
    "from types import SimpleNamespace\n",
    "from empower_implementation.empower_tools import determine_strong_eluent\n",
    "method=SimpleNamespace(\n",
    "gradient_table = [\n",
    "    {\"Time\": 0, \"CompositionA\": 95, \"CompositionB\": 5, \"CompositionC\": 0, \"CompositionD\": 0},\n",
    "    {\"Time\": 10, \"CompositionA\": 50, \"CompositionB\": 50, \"CompositionC\": 0, \"CompositionD\": 0},\n",
    "],\n",
    "method_name = \"test\",\n",
    ")\n",
    "\n",
    "wash_strong_composition = 95\n",
    "wash_time = 2\n",
    "re_equilibration_time = 7\n",
    "\n",
    "strong_eluent, list_weak_eluents = determine_strong_eluent(method.gradient_table)\n",
    "\n",
    "gradient_portion_end_time = method.gradient_table[-1][\"Time\"]\n",
    "gradient_start_composition_strong = method.gradient_table[0][strong_eluent]\n",
    "\n",
    "\n",
    "\n",
    "wash_rows = [{\n",
    "    \"Time\": gradient_portion_end_time + 0.1,\n",
    "    strong_eluent: wash_strong_composition,\n",
    "},\n",
    "{\n",
    "    \"Time\": gradient_portion_end_time + wash_time + 0.1,\n",
    "    strong_eluent: wash_strong_composition,\n",
    "},\n",
    "{\n",
    "    \"Time\": gradient_portion_end_time + wash_time + 0.2,\n",
    "    strong_eluent: gradient_start_composition_strong,\n",
    "},\n",
    "{\n",
    "    \"Time\": gradient_portion_end_time + wash_time + re_equilibration_time,\n",
    "    strong_eluent: gradient_start_composition_strong,\n",
    "}]\n",
    "\n",
    "method.gradient_table += wash_rows\n",
    "\n",
    "method.gradient_table\n",
    "\n",
    "\n",
    "\n",
    "\n"
   ]
  }
 ],
 "metadata": {
  "kernelspec": {
   "display_name": ".env",
   "language": "python",
   "name": "python3"
  },
  "language_info": {
   "codemirror_mode": {
    "name": "ipython",
    "version": 3
   },
   "file_extension": ".py",
   "mimetype": "text/x-python",
   "name": "python",
   "nbconvert_exporter": "python",
   "pygments_lexer": "ipython3",
   "version": "3.9.1"
  }
 },
 "nbformat": 4,
 "nbformat_minor": 2
}
