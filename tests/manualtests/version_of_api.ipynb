{
 "cells": [
  {
   "cell_type": "code",
   "execution_count": 1,
   "metadata": {},
   "outputs": [],
   "source": [
    "import logging\n",
    "import sys\n",
    "\n",
    "sys.path.append(\"../\")  # go to parent dir\n",
    "\n",
    "import os\n",
    "from dotenv import load_dotenv\n",
    "import json\n",
    "from OptiHPLCHandler import EmpowerHandler\n",
    "\n",
    "# get api address from .env file\n",
    "load_dotenv(\"../../.env_vars\")\n",
    "EMPOWER_API_ADDRESS = os.getenv(\"EMPOWER_API_ADDRESS_TST\")\n",
    "EMPOWER_PROJECT_LIST = os.getenv(\"EMPOWER_PROJECT_LIST\")\n",
    "EMPOWER_PROJECT_LIST = json.loads(EMPOWER_PROJECT_LIST)\n",
    "connection_file = \"connections.json\"\n",
    "\n",
    "\n",
    "logging_handler = logging.FileHandler(\"new_api.log\")\n",
    "logging_handler.setFormatter(\n",
    "    logging.Formatter(\"%(asctime)s - %(name)s - %(levelname)s - %(message)s\")\n",
    ")\n",
    "opti_hplc_handler_logger = logging.getLogger(\"OptiHPLCHandler\")\n",
    "opti_hplc_handler_logger.setLevel(logging.DEBUG)\n",
    "opti_hplc_handler_logger.addHandler(logging_handler)"
   ]
  },
  {
   "cell_type": "code",
   "execution_count": 2,
   "metadata": {},
   "outputs": [],
   "source": [
    "# The unhandled exception handler, which will log the exception as critical\n",
    "# and then call the default excepthook.\n",
    "def handle_unhandled_exception(exc_type, exc_value, exc_traceback):\n",
    "    if issubclass(exc_type, KeyboardInterrupt):\n",
    "        # Will call default excepthook\n",
    "        sys.__excepthook__(exc_type, exc_value, exc_traceback)\n",
    "        return\n",
    "        # Create a critical level log message with info from the except hook.\n",
    "    opti_hplc_handler_logger.critical(\n",
    "        \"Unhandled exception\", exc_info=(exc_type, exc_value, exc_traceback)\n",
    "    )\n",
    "\n",
    "\n",
    "# Assign the excepthook to the handler\n",
    "sys.excepthook = handle_unhandled_exception"
   ]
  },
  {
   "cell_type": "code",
   "execution_count": 9,
   "metadata": {},
   "outputs": [
    {
     "name": "stdout",
     "output_type": "stream",
     "text": [
      "Logging in to SLCB_2024_EBOFU with api version 2.0\n"
     ]
    },
    {
     "name": "stderr",
     "output_type": "stream",
     "text": [
      "C:\\Users\\srfu\\programming\\OptiHPLCHandler\\src\\OptiHPLCHandler\\empower_handler.py:151: UserWarning: You are logging in manually without a context manager. This is not recommended.\n",
      "Please use a context manager, e.g.\n",
      "`with EmpowerHandler(...) as handler:...`\n",
      "  warnings.warn(\n"
     ]
    }
   ],
   "source": [
    "connection_list = []\n",
    "for i in range(1):\n",
    "    project = EMPOWER_PROJECT_LIST[i]\n",
    "    if i < 6:\n",
    "        api_version = \"2.0\"\n",
    "    else:\n",
    "        api_version = \"1.0\"\n",
    "    handler = EmpowerHandler(\n",
    "        project=project,\n",
    "        address=EMPOWER_API_ADDRESS,\n",
    "        allow_login_without_context_manager=True,\n",
    "        username=\"srfu\",\n",
    "    )\n",
    "    handler.connection.api_version = api_version\n",
    "    print(f\"Logging in to {project} with api version {api_version}\")\n",
    "    handler.login()\n",
    "    connection_list.append(\n",
    "        {\n",
    "            \"api_address\": EMPOWER_API_ADDRESS,\n",
    "            \"token\": handler.connection.token,\n",
    "            \"project\": project,\n",
    "            \"session_id\": handler.connection.session_id,\n",
    "            \"login_api_version\": api_version,\n",
    "            \"service\": handler.connection.service,\n",
    "        }\n",
    "    )\n",
    "    # switch api version, so we test both versions on connections that has been logged\n",
    "    # in using both versions\n",
    "    # if 1%2 == 0:\n",
    "    #    handler.connection.api_version = \"1.0\"\n",
    "    # else:\n",
    "    #    handler.connection.api_version = \"2.0\"\n",
    "    method_list = handler.GetMethodList()\n",
    "    if len(method_list) > 0:\n",
    "        single_method = handler.GetMethodSetMethod(method_list[0])\n",
    "    # Remove the session id and token, so it can't logout when I delete the handler by\n",
    "    # overwriting the \"handler\" variable\n",
    "    handler.connection.session_id = None\n",
    "    handler.connection.token = None\n",
    "with open(connection_file, \"w\") as f:\n",
    "    json.dump(connection_list, f, indent=4)"
   ]
  },
  {
   "cell_type": "code",
   "execution_count": 4,
   "metadata": {},
   "outputs": [
    {
     "name": "stdout",
     "output_type": "stream",
     "text": [
      "testing connection to SLCB_2024_EBOFU with api version 2.0\n"
     ]
    }
   ],
   "source": [
    "import time\n",
    "\n",
    "time.sleep(60 * 35)\n",
    "# The tokens on the test server are valid for 30 minutes, so we wait for 35 minutes to\n",
    "# be sure that the tokens are expired\n",
    "\n",
    "with open(connection_file, \"r\") as f:\n",
    "    connection_list = json.load(f)\n",
    "for i, connection in enumerate(connection_list):\n",
    "    handler = EmpowerHandler(\n",
    "        project=connection[\"project\"],\n",
    "        address=connection[\"api_address\"],\n",
    "        service=connection[\"service\"],\n",
    "    )\n",
    "    handler.connection.api_version = connection[\"login_api_version\"]\n",
    "    handler.connection.token = connection[\"token\"]\n",
    "    handler.connection.session_id = connection[\"session_id\"]\n",
    "    print(\n",
    "        f\"testing connection to {connection['project']} with api version {handler.connection.api_version}\"\n",
    "    )\n",
    "    handler.GetMethodList()\n",
    "    handler.GetNodeNames()\n",
    "    assert handler.connection.token != connection[\"token\"]"
   ]
  }
 ],
 "metadata": {
  "kernelspec": {
   "display_name": ".env",
   "language": "python",
   "name": "python3"
  },
  "language_info": {
   "codemirror_mode": {
    "name": "ipython",
    "version": 3
   },
   "file_extension": ".py",
   "mimetype": "text/x-python",
   "name": "python",
   "nbconvert_exporter": "python",
   "pygments_lexer": "ipython3",
   "version": "3.9.1"
  }
 },
 "nbformat": 4,
 "nbformat_minor": 2
}
